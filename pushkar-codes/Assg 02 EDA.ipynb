{
 "cells": [
  {
   "cell_type": "markdown",
   "metadata": {},
   "source": [
    "#### Name - Pushkar Ashok Narkehde\n",
    "#### Roll - 2203528 | MITU20BTCSD018\n",
    "#### Class - TY CSE IS3 batch B\n",
    "\n",
    "#### Assignment 2\n",
    "##### Aim - \n",
    "- Download any dataset from UCI or Data.org or from any data repositories and perform the basic data pre-processing steps using Python/R\n",
    "\n",
    "\n",
    "##### Objective -\n",
    "1. Learn to pre-process dataset\n",
    "2. Learn to use pandas and sklearn\n",
    "\n",
    "##### Theory - \n",
    "##### Basic steps\n",
    "##### Step 1 : Import the libraries\n",
    "##### Step 2 : Import the data-set\n",
    "##### Step 3 : Check out the missing values\n",
    "##### Step 4 : See the Categorical Values\n",
    "##### Step 5 : Splitting the data-set into Training and Test Set\n",
    "\n",
    "##### Data Cleaning - \n",
    "- Data Cleaning is the important steps in EDA i.e exploratory data analysis in which we majorly focues on finding the null values imputing them, working with outliers as well as working with alphanumeric or symbolic data to convert them into plain english or numbers so that it can be understan by computer and user to get some inference.\n",
    "- In Data Cleaning we majorly used libraries such as Pandas for data manipulation and numpy and scipy for data imputation and data handling.\n",
    "\n",
    "##### Feature Engineering - \n",
    "- This is another important step which deal with features or columns or variables of data.\n",
    "- mainly in this step we focuses on relation of 1 feature with others and find the inference from the features to use these inference at model bulding stage or in business intelligence.\n",
    "\n",
    "##### Data Standardization - \n",
    "- Data Normalization and standardization is s process of making the std as 1 and mean as 0 and bringing all data into range of -1 to 1 or 0 to 1 so that computer need less computational power to perfrom mathematical operations.\n",
    "- in data standardization we have data encoding, data noramlization, data categorization to perform on data.\n",
    "\n",
    "    #### Standardization -\n",
    "        - It is a process of bringing the data in range of -1 to 1 where mean is 0 and std is 1, it shows that our data is noramally distributed.\n",
    "        - in this we have different data scalers in python but majorly we use standard scaler.\n",
    "        - std(X) = X - mue / std\n",
    "        - another data scaler we have is MinMax saler which tries to bring all data in range of 0 to 1 \n",
    "        - MinMax(X) = X - Xmin / Xmax- Xmin    \n",
    "        \n",
    "##### Data Analysis - \n",
    "- data analysis is process of inferencing the useful information by performaing statistical operations and data visulization using different python libraies.\n",
    "- in data analysis we majorly focus on infering the corelation between the target and other features, feature importance and finding the features values which contributes more towards target variable. \n",
    "\n"
   ]
  },
  {
   "cell_type": "markdown",
   "metadata": {},
   "source": [
    "#### Code"
   ]
  },
  {
   "cell_type": "markdown",
   "metadata": {
    "slideshow": {
     "slide_type": "-"
    }
   },
   "source": [
    "## Exploratory Data Analysis on amcat "
   ]
  },
  {
   "cell_type": "markdown",
   "metadata": {
    "slideshow": {
     "slide_type": "-"
    }
   },
   "source": [
    "Exploratory Data Analyses makes us more understanding by the visualization of data set rather than scripted Data .In EDA we can do different types of analysis like Univariate,Bi variate and Multivariate and different types of plots are availanble to retrive the information of analyzed data. "
   ]
  },
  {
   "cell_type": "markdown",
   "metadata": {},
   "source": [
    "### Import Libraries"
   ]
  },
  {
   "cell_type": "code",
   "execution_count": 1,
   "metadata": {},
   "outputs": [],
   "source": [
    "import numpy as np\n",
    "import pandas as pd\n",
    "import seaborn as sns\n",
    "import matplotlib.pyplot as plt\n",
    "import warnings\n",
    "warnings.filterwarnings('ignore')\n"
   ]
  },
  {
   "cell_type": "markdown",
   "metadata": {},
   "source": [
    "### Introduction about Dataset"
   ]
  },
  {
   "cell_type": "markdown",
   "metadata": {},
   "source": [
    "Here is the data set of Amcat aspiring minds (AMEO) of 2015 it can contain the information of students who wrote the exam of amact in detailed.There are two types are variables present  in this amcat i.e., Categorical and Numerical variables.It caontains the information of around 4000 students all over india from differnt boards and tier 1 and 2 colleges with different types of specializations respective to Degrees. Here are students who wrote amcat exam in there core branches and what are the packages provided to the students.You can find more insights based on relational variables"
   ]
  },
  {
   "cell_type": "markdown",
   "metadata": {},
   "source": [
    "### Read CSV using Pandas"
   ]
  },
  {
   "cell_type": "code",
   "execution_count": 24,
   "metadata": {},
   "outputs": [],
   "source": [
    "amcat=pd.read_csv(\"aspiring_minds.csv\")"
   ]
  },
  {
   "cell_type": "markdown",
   "metadata": {},
   "source": [
    "#### Shape"
   ]
  },
  {
   "cell_type": "code",
   "execution_count": 25,
   "metadata": {},
   "outputs": [
    {
     "data": {
      "text/plain": [
       "(3998, 39)"
      ]
     },
     "execution_count": 25,
     "metadata": {},
     "output_type": "execute_result"
    }
   ],
   "source": [
    "amcat.shape"
   ]
  },
  {
   "cell_type": "markdown",
   "metadata": {},
   "source": [
    "####  Categorica;l Data"
   ]
  },
  {
   "cell_type": "code",
   "execution_count": 26,
   "metadata": {},
   "outputs": [
    {
     "data": {
      "text/plain": [
       "Index(['Unnamed: 0', 'DOJ', 'DOL', 'Designation', 'JobCity', 'Gender', 'DOB',\n",
       "       '10board', '12board', 'Degree', 'Specialization', 'CollegeState'],\n",
       "      dtype='object')"
      ]
     },
     "execution_count": 26,
     "metadata": {},
     "output_type": "execute_result"
    }
   ],
   "source": [
    "amcat.select_dtypes(include=\"object\").columns"
   ]
  },
  {
   "cell_type": "markdown",
   "metadata": {},
   "source": [
    "#### Numerical Data"
   ]
  },
  {
   "cell_type": "code",
   "execution_count": 27,
   "metadata": {},
   "outputs": [
    {
     "data": {
      "text/plain": [
       "Index(['ID', 'Salary', '10percentage', '12graduation', '12percentage',\n",
       "       'CollegeID', 'CollegeTier', 'collegeGPA', 'CollegeCityID',\n",
       "       'CollegeCityTier', 'GraduationYear', 'English', 'Logical', 'Quant',\n",
       "       'Domain', 'ComputerProgramming', 'ElectronicsAndSemicon',\n",
       "       'ComputerScience', 'MechanicalEngg', 'ElectricalEngg', 'TelecomEngg',\n",
       "       'CivilEngg', 'conscientiousness', 'agreeableness', 'extraversion',\n",
       "       'nueroticism', 'openess_to_experience'],\n",
       "      dtype='object')"
      ]
     },
     "execution_count": 27,
     "metadata": {},
     "output_type": "execute_result"
    }
   ],
   "source": [
    "amcat.select_dtypes(include=\"number\").columns"
   ]
  },
  {
   "cell_type": "markdown",
   "metadata": {},
   "source": [
    "### Creating Variables for Analysis"
   ]
  },
  {
   "cell_type": "code",
   "execution_count": 28,
   "metadata": {},
   "outputs": [],
   "source": [
    "# As there is no total amcat ability score in dataset here creating amcat total Score\n",
    "amcat[\"AbilityScore\"]=amcat['English']+amcat['Logical']+amcat['Quant']"
   ]
  },
  {
   "cell_type": "code",
   "execution_count": 29,
   "metadata": {},
   "outputs": [],
   "source": [
    "# To find the Education gap to complete Graduation\n",
    "amcat[\"Educationgap\"]=amcat[\"GraduationYear\"]-amcat[\"12graduation\"]"
   ]
  },
  {
   "cell_type": "code",
   "execution_count": 30,
   "metadata": {},
   "outputs": [],
   "source": [
    "# Getting the Date of Joining \"year\" from Dataset using \n",
    "amcat['JoiningYear'] = pd.DatetimeIndex(amcat['DOJ']).year\n",
    "amcat[\"JoinCom\"]=df[\"JoiningYear\"]-amcat['GraduationYear']"
   ]
  },
  {
   "cell_type": "code",
   "execution_count": 31,
   "metadata": {},
   "outputs": [],
   "source": [
    "# replace different types of state boards with ssc\n",
    "board=[]\n",
    "for i in amcat[\"12board\"]:\n",
    "    if i==\"cbse\" or i==\"isc\"or i==\"icse\" or i==\"icse\" or i==\"igsce\" or i==\"ib\" or i==\"cie\" or i==\"nios\":\n",
    "        board.append(i)\n",
    "    else:\n",
    "        board.append(\"ssc\")\n",
    "amcat[\"12board\"]=board"
   ]
  },
  {
   "cell_type": "markdown",
   "metadata": {},
   "source": [
    "## Univariate Analysis and Bivariate Analysis on \"amcat\" Dataset"
   ]
  },
  {
   "cell_type": "markdown",
   "metadata": {},
   "source": [
    "#### Checking Education gap are allowed to write amcat"
   ]
  },
  {
   "cell_type": "code",
   "execution_count": 32,
   "metadata": {},
   "outputs": [
    {
     "data": {
      "image/png": "[encoded data removed]",
      "text/plain": [
       "<Figure size 432x288 with 1 Axes>"
      ]
     },
     "metadata": {
      "needs_background": "light"
     },
     "output_type": "display_data"
    }
   ],
   "source": [
    "sns.countplot(x='Educationgap', data=amcat)\n",
    "plt.xticks(rotation=90)\n",
    "plt.show()"
   ]
  },
  {
   "cell_type": "markdown",
   "metadata": {},
   "source": [
    "-- This plot shows any education gap between 12th and graduation or during the graduation,\n",
    "1. \"4\" denotes 0 year education gap for UG Students\n",
    "2. \"5\" denotes 1 year of Education Gap for UG students\n",
    "3. \"6\" denotes no Education Gap for PG students and 2 years of Education Gap for UG students\n",
    "4. \"7\" denotes 1 year of Education Gap for PG students 3 years of Education Gap for UG students\n",
    "5. \"8\" denotes 2 year of Education Gap for PG students 4 years of Education Gap for UG students.\n",
    "6. \"9\" denotes 3 year of Education Gap for PG\n",
    "\n"
   ]
  },
  {
   "cell_type": "markdown",
   "metadata": {},
   "source": [
    "#### Checking amcat Eligibility Criteria"
   ]
  },
  {
   "cell_type": "code",
   "execution_count": 33,
   "metadata": {},
   "outputs": [
    {
     "data": {
      "image/png": "[encoded data removed]",
      "text/plain": [
       "<Figure size 432x288 with 1 Axes>"
      ]
     },
     "metadata": {
      "needs_background": "light"
     },
     "output_type": "display_data"
    }
   ],
   "source": [
    "sns.boxplot(y=\"collegeGPA\",data=amcat,color='pink')\n",
    "plt.show()"
   ]
  },
  {
   "cell_type": "markdown",
   "metadata": {},
   "source": [
    "-- This plot shows any students can write the exam who as \"55\" and above percentage\n"
   ]
  },
  {
   "cell_type": "markdown",
   "metadata": {},
   "source": [
    "#### Good aptitude score to maintain"
   ]
  },
  {
   "cell_type": "code",
   "execution_count": 34,
   "metadata": {},
   "outputs": [
    {
     "data": {
      "image/png": "[encoded data removed]",
      "text/plain": [
       "<Figure size 432x288 with 1 Axes>"
      ]
     },
     "metadata": {
      "needs_background": "light"
     },
     "output_type": "display_data"
    }
   ],
   "source": [
    "sns.boxplot(y=\"AbilityScore\",data=amcat,color='purple')\n",
    "plt.show()"
   ]
  },
  {
   "cell_type": "markdown",
   "metadata": {},
   "source": [
    "-- This plot shows what is the good score of amcat exam\n",
    "\n"
   ]
  },
  {
   "cell_type": "markdown",
   "metadata": {},
   "source": [
    "#### Basic Average Package for amcat qualified"
   ]
  },
  {
   "cell_type": "code",
   "execution_count": 36,
   "metadata": {},
   "outputs": [
    {
     "data": {
      "image/png": "[encoded data removed]",
      "text/plain": [
       "<Figure size 432x288 with 1 Axes>"
      ]
     },
     "metadata": {
      "needs_background": "light"
     },
     "output_type": "display_data"
    }
   ],
   "source": [
    "sns.boxplot(y=amcat[\"Salary\"])\n",
    "plt.show()"
   ]
  },
  {
   "cell_type": "markdown",
   "metadata": {},
   "source": [
    "-- This plot describes what is the basic CTC those who write amcat exam\n"
   ]
  },
  {
   "cell_type": "code",
   "execution_count": 37,
   "metadata": {},
   "outputs": [
    {
     "data": {
      "text/plain": [
       "300000.0"
      ]
     },
     "execution_count": 37,
     "metadata": {},
     "output_type": "execute_result"
    }
   ],
   "source": [
    "amcat[\"Salary\"].median()"
   ]
  },
  {
   "cell_type": "markdown",
   "metadata": {},
   "source": [
    "#### Checking is score impacts package??"
   ]
  },
  {
   "cell_type": "code",
   "execution_count": 38,
   "metadata": {},
   "outputs": [
    {
     "data": {
      "image/png": "[encoded data removed]",
      "text/plain": [
       "<Figure size 432x288 with 1 Axes>"
      ]
     },
     "metadata": {
      "needs_background": "light"
     },
     "output_type": "display_data"
    }
   ],
   "source": [
    "sns.scatterplot(x=\"AbilityScore\",y=\"Salary\",data=amcat,color='orange')\n",
    "plt.show()"
   ]
  },
  {
   "cell_type": "markdown",
   "metadata": {},
   "source": [
    "-- This plot shows there is no change in basic CTC if score is below or above the 1500 but most of students score in the range of 1200-1800."
   ]
  },
  {
   "cell_type": "markdown",
   "metadata": {},
   "source": [
    "####  Validity period of amcat score"
   ]
  },
  {
   "cell_type": "code",
   "execution_count": 39,
   "metadata": {},
   "outputs": [
    {
     "data": {
      "image/png": "[encoded data removed]",
      "text/plain": [
       "<Figure size 432x288 with 1 Axes>"
      ]
     },
     "metadata": {
      "needs_background": "light"
     },
     "output_type": "display_data"
    }
   ],
   "source": [
    "sns.countplot(x='JoinCom', data=amcat)\n",
    "plt.xticks(rotation=90)\n",
    "plt.show()\n"
   ]
  },
  {
   "cell_type": "markdown",
   "metadata": {},
   "source": [
    "-- This plot describes what is the validity of the score and period of time taken toapply jobs\n",
    "\n",
    "1. \"0\" denotes the qualified students applied for the job within the year and recruitedin company\n",
    "2. \"1\" denotes qualified students applied for the jobs after 1 year.\n",
    "3. \"2\" denotes qualified students applied for the jobs after 2 years of score.\n"
   ]
  },
  {
   "cell_type": "markdown",
   "metadata": {},
   "source": [
    "#### Checking which Gender getting more Salary"
   ]
  },
  {
   "cell_type": "code",
   "execution_count": 40,
   "metadata": {},
   "outputs": [
    {
     "data": {
      "image/png": "[encoded data removed]",
      "text/plain": [
       "<Figure size 432x288 with 1 Axes>"
      ]
     },
     "metadata": {
      "needs_background": "light"
     },
     "output_type": "display_data"
    }
   ],
   "source": [
    "DGender=list(amcat.groupby([\"Gender\"])[\"Salary\"].median())\n",
    "sns.barplot(x=amcat[\"Gender\"].unique(),y=DGender)\n",
    "plt.show()"
   ]
  },
  {
   "cell_type": "code",
   "execution_count": 41,
   "metadata": {},
   "outputs": [
    {
     "data": {
      "text/plain": [
       "Gender\n",
       "f    300000.0\n",
       "m    300000.0\n",
       "Name: Salary, dtype: float64"
      ]
     },
     "execution_count": 41,
     "metadata": {},
     "output_type": "execute_result"
    }
   ],
   "source": [
    "amcat.groupby([\"Gender\"])[\"Salary\"].median()"
   ]
  },
  {
   "cell_type": "markdown",
   "metadata": {},
   "source": [
    "#### Checking employee Experience"
   ]
  },
  {
   "cell_type": "code",
   "execution_count": 19,
   "metadata": {},
   "outputs": [],
   "source": [
    "LY=df[df[\"DOL\"]!=\"present\"]\n",
    "LY['LeavingYear'] = pd.DatetimeIndex(LY['DOL']).year\n",
    "LY[\"Experience\"]=LY[\"LeavingYear\"]-LY['JoiningYear']"
   ]
  },
  {
   "cell_type": "code",
   "execution_count": 20,
   "metadata": {},
   "outputs": [
    {
     "data": {
      "image/png": "[encoded data removed]",
      "text/plain": [
       "<Figure size 432x288 with 1 Axes>"
      ]
     },
     "metadata": {
      "needs_background": "light"
     },
     "output_type": "display_data"
    }
   ],
   "source": [
    "sns.countplot(x='Experience', data=LY, palette='flare')\n",
    "plt.show()"
   ]
  },
  {
   "cell_type": "markdown",
   "metadata": {},
   "source": [
    "-- This plot describes the employees left the companies with certain Experience\n",
    "1. \"0\" denotes  around 300 employees left the companies with less than 1 year of Experience\n",
    "2. \"1\" denotes more than 10000 employeesleft the companies with 1 year of Experience\n",
    "3. \"5\" denotes around 10 employees worked for 5 years in a company\n",
    "\n"
   ]
  },
  {
   "cell_type": "markdown",
   "metadata": {},
   "source": [
    "#### Checking percentage of board students are writing amcat exam"
   ]
  },
  {
   "cell_type": "code",
   "execution_count": 42,
   "metadata": {},
   "outputs": [
    {
     "data": {
      "image/png": "[encoded data removed]",
      "text/plain": [
       "<Figure size 432x288 with 1 Axes>"
      ]
     },
     "metadata": {},
     "output_type": "display_data"
    }
   ],
   "source": [
    "plt.pie(amcat.value_counts(amcat[\"12board\"]),labels=amcat[\"12board\"].unique(),autopct=\"%.1f%%\",radius=2)\n",
    "plt.show()"
   ]
  },
  {
   "cell_type": "markdown",
   "metadata": {},
   "source": [
    "##### Conclusion : SSC students are more no.of students attempting the amcat exam "
   ]
  },
  {
   "cell_type": "markdown",
   "metadata": {},
   "source": [
    "## Degree Tier1 and Tier 2 colleges "
   ]
  },
  {
   "cell_type": "code",
   "execution_count": 51,
   "metadata": {},
   "outputs": [
    {
     "data": {
      "text/html": [
       "<div>\n",
       "<style scoped>\n",
       "    .dataframe tbody tr th:only-of-type {\n",
       "        vertical-align: middle;\n",
       "    }\n",
       "\n",
       "    .dataframe tbody tr th {\n",
       "        vertical-align: top;\n",
       "    }\n",
       "\n",
       "    .dataframe thead th {\n",
       "        text-align: right;\n",
       "    }\n",
       "</style>\n",
       "<table border=\"1\" class=\"dataframe\">\n",
       "  <thead>\n",
       "    <tr style=\"text-align: right;\">\n",
       "      <th></th>\n",
       "      <th>AbilityScore</th>\n",
       "      <th>College</th>\n",
       "      <th>CTC</th>\n",
       "    </tr>\n",
       "  </thead>\n",
       "  <tbody>\n",
       "    <tr>\n",
       "      <th>0</th>\n",
       "      <td>1749.114478</td>\n",
       "      <td>Tier1</td>\n",
       "      <td>360000.0</td>\n",
       "    </tr>\n",
       "    <tr>\n",
       "      <th>1</th>\n",
       "      <td>1497.969198</td>\n",
       "      <td>Tier2</td>\n",
       "      <td>300000.0</td>\n",
       "    </tr>\n",
       "  </tbody>\n",
       "</table>\n",
       "</div>"
      ],
      "text/plain": [
       "   AbilityScore College       CTC\n",
       "0   1749.114478   Tier1  360000.0\n",
       "1   1497.969198   Tier2  300000.0"
      ]
     },
     "execution_count": 51,
     "metadata": {},
     "output_type": "execute_result"
    }
   ],
   "source": [
    "Tier1=amcat[amcat[\"CollegeTier\"]==1]\n",
    "Tier2=amcat[amcat[\"CollegeTier\"]==2]\n",
    "Tier1_avg_salary=Tier1[\"Salary\"].median()\n",
    "Tier2_avg_salary=Tier2[\"Salary\"].median()\n",
    "Tier1_avg_Abilityscore=Tier1[\"AbilityScore\"].mean()\n",
    "Tier2_avg_Abilityscore=Tier2[\"AbilityScore\"].mean()\n",
    "Tier1_vs_Tier2=pd.DataFrame({\"AbilityScore\":[Tier1_avg_Abilityscore,Tier2_avg_Abilityscore],\"College\":[\"Tier1\",\"Tier2\"],\"CTC\":[Tier1_avg_salary,Tier2_avg_salary]})\n",
    "Tier1_vs_Tier2"
   ]
  },
  {
   "cell_type": "code",
   "execution_count": 58,
   "metadata": {},
   "outputs": [
    {
     "data": {
      "image/png": "[encoded data removed]",
      "text/plain": [
       "<Figure size 432x288 with 1 Axes>"
      ]
     },
     "metadata": {},
     "output_type": "display_data"
    },
    {
     "name": "stdout",
     "output_type": "stream",
     "text": [
      "Tier \u0001 college basic CTC is high compare to Tier2\n"
     ]
    }
   ],
   "source": [
    "\n",
    "fig1, ax1 = plt.subplots()\n",
    "ax1.pie(Tier1_vs_Tier2[\"CTC\"], labels=Tier1_vs_Tier2[\"College\"], autopct='%1.1f%%', startangle=90,colors = ['#99ff99','#ffcc99'])\n",
    "centre_circle = plt.Circle((0,0),0.70,fc='white')\n",
    "fig = plt.gcf()\n",
    "fig.gca().add_artist(centre_circle)\n",
    "ax1.axis('equal')  \n",
    "plt.tight_layout()\n",
    "plt.show()\n",
    "print(\"Tier \\1 college basic CTC is high compare to Tier2\")"
   ]
  },
  {
   "cell_type": "code",
   "execution_count": 56,
   "metadata": {},
   "outputs": [
    {
     "data": {
      "image/png": "[encoded data removed]",
      "text/plain": [
       "<Figure size 432x288 with 1 Axes>"
      ]
     },
     "metadata": {},
     "output_type": "display_data"
    },
    {
     "name": "stdout",
     "output_type": "stream",
     "text": [
      "Tier1 college students where performed well compare to Tier2\n"
     ]
    }
   ],
   "source": [
    "fig1, ax1 = plt.subplots()\n",
    "ax1.pie(Tier1_vs_Tier2[\"AbilityScore\"], labels=Tier1_vs_Tier2[\"College\"], autopct='%1.1f%%', startangle=90,)\n",
    "centre_circle = plt.Circle((0,0),0.70,fc='white')\n",
    "fig = plt.gcf()\n",
    "fig.gca().add_artist(centre_circle)\n",
    "ax1.axis('equal')  \n",
    "plt.tight_layout()\n",
    "plt.show()\n",
    "print(\"Tier1 college students where performed well compare to Tier2\")"
   ]
  },
  {
   "cell_type": "markdown",
   "metadata": {},
   "source": [
    "## Conclusions:"
   ]
  },
  {
   "cell_type": "markdown",
   "metadata": {},
   "source": [
    "##### 1.students can write the exam who has education gap betwen 0 to 4 years and also companies recruites them\n",
    "##### 2.Minimum Eligible Criteria to write amcat is 55%\n",
    "##### 3.1500 is average score to maintain for amcat exam\n",
    "##### 4.Basic CTC for any amcat students is 3.LPA\n",
    "##### 5.Validity of score is 1 year and to extend your validity students have to subscribe for validity score subscription\n",
    "##### 6.amcat score is not impacting on CTC \n",
    "##### 7.Male and Female both average salary is equal 3.LPA \"No Gender Bias\n",
    "##### 8.Average period of  employee working in a comapny is 1-2 years gained Experience also same as working period\n",
    "##### 9.Tier 1 students avg. CTC  salaries are higher compare to the Tier 2 basic CTC"
   ]
  }
 ],
 "metadata": {
  "celltoolbar": "Raw Cell Format",
  "kernelspec": {
   "display_name": "Python 3",
   "language": "python",
   "name": "python3"
  },
  "language_info": {
   "codemirror_mode": {
    "name": "ipython",
    "version": 3
   },
   "file_extension": ".py",
   "mimetype": "text/x-python",
   "name": "python",
   "nbconvert_exporter": "python",
   "pygments_lexer": "ipython3",
   "version": "3.8.8"
  }
 },
 "nbformat": 4,
 "nbformat_minor": 4
}
