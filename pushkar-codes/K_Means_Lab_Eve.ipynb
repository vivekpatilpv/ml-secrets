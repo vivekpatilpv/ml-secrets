{
 "cells": [
  {
   "cell_type": "markdown",
   "metadata": {},
   "source": [
    "## ML LAb ASSG 0-5 Till next monday - \n",
    "- Assg 01 - Installation of anaconda\n",
    "- Assg 02 - basics of NumPy,Pandas, Matplotlib, Seaborn, Sklearn.\n",
    "- Assg 03 - MLP classifier and regressor\n",
    "- Assg 04 - Naie byes classifier and regressor\n",
    "- Assg 05 - SVM classifier and regressor"
   ]
  },
  {
   "cell_type": "markdown",
   "metadata": {},
   "source": [
    "- Assg 06 - Kmeans clustering\n",
    "- Assg 07 - KNN regresor and classifier\n",
    "- Assg 08 - "
   ]
  },
  {
   "cell_type": "code",
   "execution_count": null,
   "metadata": {},
   "outputs": [],
   "source": []
  },
  {
   "cell_type": "markdown",
   "metadata": {},
   "source": [
    "1. Id number: 1 to 214\n",
    "2. RI: refractive index\n",
    "3. Na: Sodium (unit measurement: weight percent in corresponding oxide, as are attributes 4-10)\n",
    "4. Mg: Magnesium\n",
    "5. Al: Aluminum\n",
    "6. Si: Silicon\n",
    "7. K: Potassium\n",
    "8. Ca: Calcium\n",
    "9. Ba: Barium\n",
    "10. Fe: Iron\n",
    "11. Type of glass: (class attribute)\n",
    "    - 1 building_windows_float_processed\n",
    "    - 2 building_windows_non_float_processed\n",
    "    - 3 vehicle_windows_float_processed\n",
    "    - 4 vehicle_windows_non_float_processed (none in this database)\n",
    "    - 5 containers\n",
    "    - 6 tableware\n",
    "    - 7 headlamps\n",
    "    \n",
    "\n",
    "Float Processed: silica sand (73%), calcium oxide (9%), soda (13%) and magnesium (4%)\n",
    "Non_Float_Processed: "
   ]
  },
  {
   "cell_type": "code",
   "execution_count": 3,
   "metadata": {},
   "outputs": [],
   "source": [
    "import pandas as pd\n",
    "import numpy as np\n",
    "\n",
    "import matplotlib.pyplot as plt\n",
    "import seaborn as sns\n",
    "\n",
    "from sklearn.cluster import KMeans\n"
   ]
  },
  {
   "cell_type": "code",
   "execution_count": 4,
   "metadata": {},
   "outputs": [],
   "source": [
    "df = pd.read_csv('glass.csv')\n"
   ]
  },
  {
   "cell_type": "code",
   "execution_count": 5,
   "metadata": {},
   "outputs": [
    {
     "data": {
      "text/html": [
       "<div>\n",
       "<style scoped>\n",
       "    .dataframe tbody tr th:only-of-type {\n",
       "        vertical-align: middle;\n",
       "    }\n",
       "\n",
       "    .dataframe tbody tr th {\n",
       "        vertical-align: top;\n",
       "    }\n",
       "\n",
       "    .dataframe thead th {\n",
       "        text-align: right;\n",
       "    }\n",
       "</style>\n",
       "<table border=\"1\" class=\"dataframe\">\n",
       "  <thead>\n",
       "    <tr style=\"text-align: right;\">\n",
       "      <th></th>\n",
       "      <th>RI</th>\n",
       "      <th>Na</th>\n",
       "      <th>Mg</th>\n",
       "      <th>Al</th>\n",
       "      <th>Si</th>\n",
       "      <th>K</th>\n",
       "      <th>Ca</th>\n",
       "      <th>Ba</th>\n",
       "      <th>Fe</th>\n",
       "      <th>Type</th>\n",
       "    </tr>\n",
       "  </thead>\n",
       "  <tbody>\n",
       "    <tr>\n",
       "      <th>0</th>\n",
       "      <td>1.52101</td>\n",
       "      <td>13.64</td>\n",
       "      <td>4.49</td>\n",
       "      <td>1.10</td>\n",
       "      <td>71.78</td>\n",
       "      <td>0.06</td>\n",
       "      <td>8.75</td>\n",
       "      <td>0.0</td>\n",
       "      <td>0.0</td>\n",
       "      <td>1</td>\n",
       "    </tr>\n",
       "    <tr>\n",
       "      <th>1</th>\n",
       "      <td>1.51761</td>\n",
       "      <td>13.89</td>\n",
       "      <td>3.60</td>\n",
       "      <td>1.36</td>\n",
       "      <td>72.73</td>\n",
       "      <td>0.48</td>\n",
       "      <td>7.83</td>\n",
       "      <td>0.0</td>\n",
       "      <td>0.0</td>\n",
       "      <td>1</td>\n",
       "    </tr>\n",
       "    <tr>\n",
       "      <th>2</th>\n",
       "      <td>1.51618</td>\n",
       "      <td>13.53</td>\n",
       "      <td>3.55</td>\n",
       "      <td>1.54</td>\n",
       "      <td>72.99</td>\n",
       "      <td>0.39</td>\n",
       "      <td>7.78</td>\n",
       "      <td>0.0</td>\n",
       "      <td>0.0</td>\n",
       "      <td>1</td>\n",
       "    </tr>\n",
       "    <tr>\n",
       "      <th>3</th>\n",
       "      <td>1.51766</td>\n",
       "      <td>13.21</td>\n",
       "      <td>3.69</td>\n",
       "      <td>1.29</td>\n",
       "      <td>72.61</td>\n",
       "      <td>0.57</td>\n",
       "      <td>8.22</td>\n",
       "      <td>0.0</td>\n",
       "      <td>0.0</td>\n",
       "      <td>1</td>\n",
       "    </tr>\n",
       "    <tr>\n",
       "      <th>4</th>\n",
       "      <td>1.51742</td>\n",
       "      <td>13.27</td>\n",
       "      <td>3.62</td>\n",
       "      <td>1.24</td>\n",
       "      <td>73.08</td>\n",
       "      <td>0.55</td>\n",
       "      <td>8.07</td>\n",
       "      <td>0.0</td>\n",
       "      <td>0.0</td>\n",
       "      <td>1</td>\n",
       "    </tr>\n",
       "  </tbody>\n",
       "</table>\n",
       "</div>"
      ],
      "text/plain": [
       "        RI     Na    Mg    Al     Si     K    Ca   Ba   Fe  Type\n",
       "0  1.52101  13.64  4.49  1.10  71.78  0.06  8.75  0.0  0.0     1\n",
       "1  1.51761  13.89  3.60  1.36  72.73  0.48  7.83  0.0  0.0     1\n",
       "2  1.51618  13.53  3.55  1.54  72.99  0.39  7.78  0.0  0.0     1\n",
       "3  1.51766  13.21  3.69  1.29  72.61  0.57  8.22  0.0  0.0     1\n",
       "4  1.51742  13.27  3.62  1.24  73.08  0.55  8.07  0.0  0.0     1"
      ]
     },
     "execution_count": 5,
     "metadata": {},
     "output_type": "execute_result"
    }
   ],
   "source": [
    "df.head()"
   ]
  },
  {
   "cell_type": "code",
   "execution_count": 6,
   "metadata": {},
   "outputs": [
    {
     "data": {
      "text/plain": [
       "(214, 10)"
      ]
     },
     "execution_count": 6,
     "metadata": {},
     "output_type": "execute_result"
    }
   ],
   "source": [
    "df.shape"
   ]
  },
  {
   "cell_type": "code",
   "execution_count": 7,
   "metadata": {},
   "outputs": [
    {
     "data": {
      "text/plain": [
       "2    76\n",
       "1    70\n",
       "7    29\n",
       "3    17\n",
       "5    13\n",
       "6     9\n",
       "Name: Type, dtype: int64"
      ]
     },
     "execution_count": 7,
     "metadata": {},
     "output_type": "execute_result"
    }
   ],
   "source": [
    "df.Type.value_counts()"
   ]
  },
  {
   "cell_type": "markdown",
   "metadata": {},
   "source": [
    "#### Since we are going for unsupervised. We are dropping Target column `Type`"
   ]
  },
  {
   "cell_type": "code",
   "execution_count": 8,
   "metadata": {},
   "outputs": [],
   "source": [
    "df.drop(['Type'],axis=1,inplace=True)"
   ]
  },
  {
   "cell_type": "code",
   "execution_count": 9,
   "metadata": {},
   "outputs": [
    {
     "data": {
      "text/html": [
       "<div>\n",
       "<style scoped>\n",
       "    .dataframe tbody tr th:only-of-type {\n",
       "        vertical-align: middle;\n",
       "    }\n",
       "\n",
       "    .dataframe tbody tr th {\n",
       "        vertical-align: top;\n",
       "    }\n",
       "\n",
       "    .dataframe thead th {\n",
       "        text-align: right;\n",
       "    }\n",
       "</style>\n",
       "<table border=\"1\" class=\"dataframe\">\n",
       "  <thead>\n",
       "    <tr style=\"text-align: right;\">\n",
       "      <th></th>\n",
       "      <th>RI</th>\n",
       "      <th>Na</th>\n",
       "      <th>Mg</th>\n",
       "      <th>Al</th>\n",
       "      <th>Si</th>\n",
       "      <th>K</th>\n",
       "      <th>Ca</th>\n",
       "      <th>Ba</th>\n",
       "      <th>Fe</th>\n",
       "    </tr>\n",
       "  </thead>\n",
       "  <tbody>\n",
       "    <tr>\n",
       "      <th>0</th>\n",
       "      <td>1.52101</td>\n",
       "      <td>13.64</td>\n",
       "      <td>4.49</td>\n",
       "      <td>1.10</td>\n",
       "      <td>71.78</td>\n",
       "      <td>0.06</td>\n",
       "      <td>8.75</td>\n",
       "      <td>0.0</td>\n",
       "      <td>0.0</td>\n",
       "    </tr>\n",
       "    <tr>\n",
       "      <th>1</th>\n",
       "      <td>1.51761</td>\n",
       "      <td>13.89</td>\n",
       "      <td>3.60</td>\n",
       "      <td>1.36</td>\n",
       "      <td>72.73</td>\n",
       "      <td>0.48</td>\n",
       "      <td>7.83</td>\n",
       "      <td>0.0</td>\n",
       "      <td>0.0</td>\n",
       "    </tr>\n",
       "    <tr>\n",
       "      <th>2</th>\n",
       "      <td>1.51618</td>\n",
       "      <td>13.53</td>\n",
       "      <td>3.55</td>\n",
       "      <td>1.54</td>\n",
       "      <td>72.99</td>\n",
       "      <td>0.39</td>\n",
       "      <td>7.78</td>\n",
       "      <td>0.0</td>\n",
       "      <td>0.0</td>\n",
       "    </tr>\n",
       "    <tr>\n",
       "      <th>3</th>\n",
       "      <td>1.51766</td>\n",
       "      <td>13.21</td>\n",
       "      <td>3.69</td>\n",
       "      <td>1.29</td>\n",
       "      <td>72.61</td>\n",
       "      <td>0.57</td>\n",
       "      <td>8.22</td>\n",
       "      <td>0.0</td>\n",
       "      <td>0.0</td>\n",
       "    </tr>\n",
       "    <tr>\n",
       "      <th>4</th>\n",
       "      <td>1.51742</td>\n",
       "      <td>13.27</td>\n",
       "      <td>3.62</td>\n",
       "      <td>1.24</td>\n",
       "      <td>73.08</td>\n",
       "      <td>0.55</td>\n",
       "      <td>8.07</td>\n",
       "      <td>0.0</td>\n",
       "      <td>0.0</td>\n",
       "    </tr>\n",
       "  </tbody>\n",
       "</table>\n",
       "</div>"
      ],
      "text/plain": [
       "        RI     Na    Mg    Al     Si     K    Ca   Ba   Fe\n",
       "0  1.52101  13.64  4.49  1.10  71.78  0.06  8.75  0.0  0.0\n",
       "1  1.51761  13.89  3.60  1.36  72.73  0.48  7.83  0.0  0.0\n",
       "2  1.51618  13.53  3.55  1.54  72.99  0.39  7.78  0.0  0.0\n",
       "3  1.51766  13.21  3.69  1.29  72.61  0.57  8.22  0.0  0.0\n",
       "4  1.51742  13.27  3.62  1.24  73.08  0.55  8.07  0.0  0.0"
      ]
     },
     "execution_count": 9,
     "metadata": {},
     "output_type": "execute_result"
    }
   ],
   "source": [
    "df.head()"
   ]
  },
  {
   "cell_type": "markdown",
   "metadata": {},
   "source": [
    "### Create  'ID' columnm"
   ]
  },
  {
   "cell_type": "markdown",
   "metadata": {},
   "source": [
    "- 1) It will help to identify which glass/observation belongs to which cluster\n",
    "- 2) So indexs may get dropped with outlier treatment"
   ]
  },
  {
   "cell_type": "code",
   "execution_count": 10,
   "metadata": {},
   "outputs": [],
   "source": [
    "df['ID'] = df.index + 100"
   ]
  },
  {
   "cell_type": "code",
   "execution_count": 11,
   "metadata": {},
   "outputs": [
    {
     "data": {
      "text/html": [
       "<div>\n",
       "<style scoped>\n",
       "    .dataframe tbody tr th:only-of-type {\n",
       "        vertical-align: middle;\n",
       "    }\n",
       "\n",
       "    .dataframe tbody tr th {\n",
       "        vertical-align: top;\n",
       "    }\n",
       "\n",
       "    .dataframe thead th {\n",
       "        text-align: right;\n",
       "    }\n",
       "</style>\n",
       "<table border=\"1\" class=\"dataframe\">\n",
       "  <thead>\n",
       "    <tr style=\"text-align: right;\">\n",
       "      <th></th>\n",
       "      <th>RI</th>\n",
       "      <th>Na</th>\n",
       "      <th>Mg</th>\n",
       "      <th>Al</th>\n",
       "      <th>Si</th>\n",
       "      <th>K</th>\n",
       "      <th>Ca</th>\n",
       "      <th>Ba</th>\n",
       "      <th>Fe</th>\n",
       "      <th>ID</th>\n",
       "    </tr>\n",
       "  </thead>\n",
       "  <tbody>\n",
       "    <tr>\n",
       "      <th>0</th>\n",
       "      <td>1.52101</td>\n",
       "      <td>13.64</td>\n",
       "      <td>4.49</td>\n",
       "      <td>1.10</td>\n",
       "      <td>71.78</td>\n",
       "      <td>0.06</td>\n",
       "      <td>8.75</td>\n",
       "      <td>0.0</td>\n",
       "      <td>0.0</td>\n",
       "      <td>100</td>\n",
       "    </tr>\n",
       "    <tr>\n",
       "      <th>1</th>\n",
       "      <td>1.51761</td>\n",
       "      <td>13.89</td>\n",
       "      <td>3.60</td>\n",
       "      <td>1.36</td>\n",
       "      <td>72.73</td>\n",
       "      <td>0.48</td>\n",
       "      <td>7.83</td>\n",
       "      <td>0.0</td>\n",
       "      <td>0.0</td>\n",
       "      <td>101</td>\n",
       "    </tr>\n",
       "    <tr>\n",
       "      <th>2</th>\n",
       "      <td>1.51618</td>\n",
       "      <td>13.53</td>\n",
       "      <td>3.55</td>\n",
       "      <td>1.54</td>\n",
       "      <td>72.99</td>\n",
       "      <td>0.39</td>\n",
       "      <td>7.78</td>\n",
       "      <td>0.0</td>\n",
       "      <td>0.0</td>\n",
       "      <td>102</td>\n",
       "    </tr>\n",
       "    <tr>\n",
       "      <th>3</th>\n",
       "      <td>1.51766</td>\n",
       "      <td>13.21</td>\n",
       "      <td>3.69</td>\n",
       "      <td>1.29</td>\n",
       "      <td>72.61</td>\n",
       "      <td>0.57</td>\n",
       "      <td>8.22</td>\n",
       "      <td>0.0</td>\n",
       "      <td>0.0</td>\n",
       "      <td>103</td>\n",
       "    </tr>\n",
       "    <tr>\n",
       "      <th>4</th>\n",
       "      <td>1.51742</td>\n",
       "      <td>13.27</td>\n",
       "      <td>3.62</td>\n",
       "      <td>1.24</td>\n",
       "      <td>73.08</td>\n",
       "      <td>0.55</td>\n",
       "      <td>8.07</td>\n",
       "      <td>0.0</td>\n",
       "      <td>0.0</td>\n",
       "      <td>104</td>\n",
       "    </tr>\n",
       "  </tbody>\n",
       "</table>\n",
       "</div>"
      ],
      "text/plain": [
       "        RI     Na    Mg    Al     Si     K    Ca   Ba   Fe   ID\n",
       "0  1.52101  13.64  4.49  1.10  71.78  0.06  8.75  0.0  0.0  100\n",
       "1  1.51761  13.89  3.60  1.36  72.73  0.48  7.83  0.0  0.0  101\n",
       "2  1.51618  13.53  3.55  1.54  72.99  0.39  7.78  0.0  0.0  102\n",
       "3  1.51766  13.21  3.69  1.29  72.61  0.57  8.22  0.0  0.0  103\n",
       "4  1.51742  13.27  3.62  1.24  73.08  0.55  8.07  0.0  0.0  104"
      ]
     },
     "execution_count": 11,
     "metadata": {},
     "output_type": "execute_result"
    }
   ],
   "source": [
    "df.head()"
   ]
  },
  {
   "cell_type": "markdown",
   "metadata": {},
   "source": [
    "What are the  two important pre-processing steps for clustering?\n",
    "- 1 Outlier treatment\n",
    "- 2 Feature Scaling  \n"
   ]
  },
  {
   "cell_type": "code",
   "execution_count": 18,
   "metadata": {},
   "outputs": [
    {
     "data": {
      "text/plain": [
       "[(0, 'RI'),\n",
       " (1, 'Na'),\n",
       " (2, 'Mg'),\n",
       " (3, 'Al'),\n",
       " (4, 'Si'),\n",
       " (5, 'K'),\n",
       " (6, 'Ca'),\n",
       " (7, 'Ba'),\n",
       " (8, 'Fe')]"
      ]
     },
     "execution_count": 18,
     "metadata": {},
     "output_type": "execute_result"
    }
   ],
   "source": [
    "list(enumerate(df.columns[:-1]))"
   ]
  },
  {
   "cell_type": "code",
   "execution_count": 19,
   "metadata": {},
   "outputs": [],
   "source": [
    "f = df.columns[:-1]"
   ]
  },
  {
   "cell_type": "code",
   "execution_count": 21,
   "metadata": {},
   "outputs": [
    {
     "data": {
      "image/png": "[encoded data removed]",
      "text/plain": [
       "<Figure size 1080x1080 with 9 Axes>"
      ]
     },
     "metadata": {
      "needs_background": "light"
     },
     "output_type": "display_data"
    }
   ],
   "source": [
    "plt.figure(figsize=(15,15))\n",
    "for col in enumerate(f):\n",
    "    plt.subplot(3,3,col[0] + 1)\n",
    "    sns.boxplot(data=df, x=col[1])"
   ]
  },
  {
   "cell_type": "code",
   "execution_count": null,
   "metadata": {},
   "outputs": [],
   "source": []
  },
  {
   "cell_type": "markdown",
   "metadata": {},
   "source": [
    "### How to deal with outliers?\n",
    "\n",
    "1. You may drop them.\n",
    "    - When you have less outliers.\n",
    "    - And you have good amount of data.\n",
    "2. Capping.\n",
    "    - We restrict the outliers at certain percentile.\n",
    "    - Soft Capping: We use 1-99 as the percentile cutoff\n",
    "        - I am least disturbing the data or I am least changing the data.\n",
    "        - When you have less outliers and you don't have the option to drop, then you may use this capping range.\n",
    "    - Hard Capping: We use 5-95 as the percentile cutoff\n",
    "        - A lot of data will be getting changed.\n",
    "        - We may use it if the column is having so may outliers and is the only column in the data with the outlier.\n",
    "3. Doing Nothing\n",
    "    - If all the columns/most of the columns are having outliers in a certain range(above or below), then we may ignore/leave them, because they may form a cluster of itself.\n",
    "4. Transformation\n",
    "    - We may also transform the data into new dimesnsions where I don't have any influence of the outliers and hence no treatment is required.\n",
    "        - PCA\n",
    "        - LOG\n",
    "        - POWER"
   ]
  },
  {
   "cell_type": "markdown",
   "metadata": {},
   "source": [
    "### Outliers"
   ]
  },
  {
   "cell_type": "code",
   "execution_count": 22,
   "metadata": {},
   "outputs": [
    {
     "data": {
      "text/plain": [
       "Index(['RI', 'Na', 'Mg', 'Al', 'Si', 'K', 'Ca', 'Ba', 'Fe'], dtype='object')"
      ]
     },
     "execution_count": 22,
     "metadata": {},
     "output_type": "execute_result"
    }
   ],
   "source": [
    "f"
   ]
  },
  {
   "cell_type": "code",
   "execution_count": 23,
   "metadata": {},
   "outputs": [
    {
     "name": "stderr",
     "output_type": "stream",
     "text": [
      "C:\\Users\\kphan\\Anaconda3\\lib\\site-packages\\ipykernel_launcher.py:4: SettingWithCopyWarning: \n",
      "A value is trying to be set on a copy of a slice from a DataFrame\n",
      "\n",
      "See the caveats in the documentation: https://pandas.pydata.org/pandas-docs/stable/user_guide/indexing.html#returning-a-view-versus-a-copy\n",
      "  after removing the cwd from sys.path.\n",
      "C:\\Users\\kphan\\Anaconda3\\lib\\site-packages\\ipykernel_launcher.py:5: SettingWithCopyWarning: \n",
      "A value is trying to be set on a copy of a slice from a DataFrame\n",
      "\n",
      "See the caveats in the documentation: https://pandas.pydata.org/pandas-docs/stable/user_guide/indexing.html#returning-a-view-versus-a-copy\n",
      "  \"\"\"\n",
      "C:\\Users\\kphan\\Anaconda3\\lib\\site-packages\\ipykernel_launcher.py:4: SettingWithCopyWarning: \n",
      "A value is trying to be set on a copy of a slice from a DataFrame\n",
      "\n",
      "See the caveats in the documentation: https://pandas.pydata.org/pandas-docs/stable/user_guide/indexing.html#returning-a-view-versus-a-copy\n",
      "  after removing the cwd from sys.path.\n",
      "C:\\Users\\kphan\\Anaconda3\\lib\\site-packages\\ipykernel_launcher.py:5: SettingWithCopyWarning: \n",
      "A value is trying to be set on a copy of a slice from a DataFrame\n",
      "\n",
      "See the caveats in the documentation: https://pandas.pydata.org/pandas-docs/stable/user_guide/indexing.html#returning-a-view-versus-a-copy\n",
      "  \"\"\"\n",
      "C:\\Users\\kphan\\Anaconda3\\lib\\site-packages\\ipykernel_launcher.py:4: SettingWithCopyWarning: \n",
      "A value is trying to be set on a copy of a slice from a DataFrame\n",
      "\n",
      "See the caveats in the documentation: https://pandas.pydata.org/pandas-docs/stable/user_guide/indexing.html#returning-a-view-versus-a-copy\n",
      "  after removing the cwd from sys.path.\n",
      "C:\\Users\\kphan\\Anaconda3\\lib\\site-packages\\ipykernel_launcher.py:5: SettingWithCopyWarning: \n",
      "A value is trying to be set on a copy of a slice from a DataFrame\n",
      "\n",
      "See the caveats in the documentation: https://pandas.pydata.org/pandas-docs/stable/user_guide/indexing.html#returning-a-view-versus-a-copy\n",
      "  \"\"\"\n",
      "C:\\Users\\kphan\\Anaconda3\\lib\\site-packages\\ipykernel_launcher.py:4: SettingWithCopyWarning: \n",
      "A value is trying to be set on a copy of a slice from a DataFrame\n",
      "\n",
      "See the caveats in the documentation: https://pandas.pydata.org/pandas-docs/stable/user_guide/indexing.html#returning-a-view-versus-a-copy\n",
      "  after removing the cwd from sys.path.\n",
      "C:\\Users\\kphan\\Anaconda3\\lib\\site-packages\\ipykernel_launcher.py:5: SettingWithCopyWarning: \n",
      "A value is trying to be set on a copy of a slice from a DataFrame\n",
      "\n",
      "See the caveats in the documentation: https://pandas.pydata.org/pandas-docs/stable/user_guide/indexing.html#returning-a-view-versus-a-copy\n",
      "  \"\"\"\n",
      "C:\\Users\\kphan\\Anaconda3\\lib\\site-packages\\ipykernel_launcher.py:4: SettingWithCopyWarning: \n",
      "A value is trying to be set on a copy of a slice from a DataFrame\n",
      "\n",
      "See the caveats in the documentation: https://pandas.pydata.org/pandas-docs/stable/user_guide/indexing.html#returning-a-view-versus-a-copy\n",
      "  after removing the cwd from sys.path.\n",
      "C:\\Users\\kphan\\Anaconda3\\lib\\site-packages\\ipykernel_launcher.py:5: SettingWithCopyWarning: \n",
      "A value is trying to be set on a copy of a slice from a DataFrame\n",
      "\n",
      "See the caveats in the documentation: https://pandas.pydata.org/pandas-docs/stable/user_guide/indexing.html#returning-a-view-versus-a-copy\n",
      "  \"\"\"\n",
      "C:\\Users\\kphan\\Anaconda3\\lib\\site-packages\\ipykernel_launcher.py:4: SettingWithCopyWarning: \n",
      "A value is trying to be set on a copy of a slice from a DataFrame\n",
      "\n",
      "See the caveats in the documentation: https://pandas.pydata.org/pandas-docs/stable/user_guide/indexing.html#returning-a-view-versus-a-copy\n",
      "  after removing the cwd from sys.path.\n",
      "C:\\Users\\kphan\\Anaconda3\\lib\\site-packages\\ipykernel_launcher.py:5: SettingWithCopyWarning: \n",
      "A value is trying to be set on a copy of a slice from a DataFrame\n",
      "\n",
      "See the caveats in the documentation: https://pandas.pydata.org/pandas-docs/stable/user_guide/indexing.html#returning-a-view-versus-a-copy\n",
      "  \"\"\"\n",
      "C:\\Users\\kphan\\Anaconda3\\lib\\site-packages\\ipykernel_launcher.py:4: SettingWithCopyWarning: \n",
      "A value is trying to be set on a copy of a slice from a DataFrame\n",
      "\n",
      "See the caveats in the documentation: https://pandas.pydata.org/pandas-docs/stable/user_guide/indexing.html#returning-a-view-versus-a-copy\n",
      "  after removing the cwd from sys.path.\n",
      "C:\\Users\\kphan\\Anaconda3\\lib\\site-packages\\ipykernel_launcher.py:5: SettingWithCopyWarning: \n",
      "A value is trying to be set on a copy of a slice from a DataFrame\n",
      "\n",
      "See the caveats in the documentation: https://pandas.pydata.org/pandas-docs/stable/user_guide/indexing.html#returning-a-view-versus-a-copy\n",
      "  \"\"\"\n",
      "C:\\Users\\kphan\\Anaconda3\\lib\\site-packages\\ipykernel_launcher.py:4: SettingWithCopyWarning: \n",
      "A value is trying to be set on a copy of a slice from a DataFrame\n",
      "\n",
      "See the caveats in the documentation: https://pandas.pydata.org/pandas-docs/stable/user_guide/indexing.html#returning-a-view-versus-a-copy\n",
      "  after removing the cwd from sys.path.\n",
      "C:\\Users\\kphan\\Anaconda3\\lib\\site-packages\\ipykernel_launcher.py:5: SettingWithCopyWarning: \n",
      "A value is trying to be set on a copy of a slice from a DataFrame\n",
      "\n",
      "See the caveats in the documentation: https://pandas.pydata.org/pandas-docs/stable/user_guide/indexing.html#returning-a-view-versus-a-copy\n",
      "  \"\"\"\n",
      "C:\\Users\\kphan\\Anaconda3\\lib\\site-packages\\ipykernel_launcher.py:4: SettingWithCopyWarning: \n",
      "A value is trying to be set on a copy of a slice from a DataFrame\n",
      "\n",
      "See the caveats in the documentation: https://pandas.pydata.org/pandas-docs/stable/user_guide/indexing.html#returning-a-view-versus-a-copy\n",
      "  after removing the cwd from sys.path.\n",
      "C:\\Users\\kphan\\Anaconda3\\lib\\site-packages\\ipykernel_launcher.py:5: SettingWithCopyWarning: \n",
      "A value is trying to be set on a copy of a slice from a DataFrame\n",
      "\n",
      "See the caveats in the documentation: https://pandas.pydata.org/pandas-docs/stable/user_guide/indexing.html#returning-a-view-versus-a-copy\n",
      "  \"\"\"\n"
     ]
    }
   ],
   "source": [
    "for i in f:\n",
    "    q1 = df[i].quantile(0.01)\n",
    "    q3 = df[i].quantile(0.99)\n",
    "    df[i][df[i] < q1] = q1\n",
    "    df[i][df[i] > q3] = q3\n",
    "    #df[i]  = df[i].apply(lambda x:x if x<q1 else q1)\n",
    "    #df[i]  = df[i].apply(lambda x:x if x>q3 else q3)"
   ]
  },
  {
   "cell_type": "code",
   "execution_count": 24,
   "metadata": {},
   "outputs": [
    {
     "data": {
      "image/png": "[encoded data removed]",
      "text/plain": [
       "<Figure size 1080x1080 with 9 Axes>"
      ]
     },
     "metadata": {
      "needs_background": "light"
     },
     "output_type": "display_data"
    }
   ],
   "source": [
    "plt.figure(figsize=(15,15))\n",
    "for col in enumerate(f):\n",
    "    plt.subplot(3,3,col[0] + 1)\n",
    "    sns.boxplot(data=df, x=col[1])"
   ]
  },
  {
   "cell_type": "markdown",
   "metadata": {},
   "source": [
    "### Scaling\n",
    "\n"
   ]
  },
  {
   "cell_type": "markdown",
   "metadata": {},
   "source": [
    "#### Very important to keep all the columns intact in the same unit/scale because distance calulation can\n",
    "#### get influenced because of different units for various columns and wihth in columns"
   ]
  },
  {
   "cell_type": "code",
   "execution_count": 2,
   "metadata": {},
   "outputs": [],
   "source": [
    "from sklearn.preprocessing import StandardScaler"
   ]
  },
  {
   "cell_type": "code",
   "execution_count": 26,
   "metadata": {},
   "outputs": [
    {
     "data": {
      "text/html": [
       "<div>\n",
       "<style scoped>\n",
       "    .dataframe tbody tr th:only-of-type {\n",
       "        vertical-align: middle;\n",
       "    }\n",
       "\n",
       "    .dataframe tbody tr th {\n",
       "        vertical-align: top;\n",
       "    }\n",
       "\n",
       "    .dataframe thead th {\n",
       "        text-align: right;\n",
       "    }\n",
       "</style>\n",
       "<table border=\"1\" class=\"dataframe\">\n",
       "  <thead>\n",
       "    <tr style=\"text-align: right;\">\n",
       "      <th></th>\n",
       "      <th>RI</th>\n",
       "      <th>Na</th>\n",
       "      <th>Mg</th>\n",
       "      <th>Al</th>\n",
       "      <th>Si</th>\n",
       "      <th>K</th>\n",
       "      <th>Ca</th>\n",
       "      <th>Ba</th>\n",
       "      <th>Fe</th>\n",
       "      <th>ID</th>\n",
       "    </tr>\n",
       "  </thead>\n",
       "  <tbody>\n",
       "    <tr>\n",
       "      <th>0</th>\n",
       "      <td>1.52101</td>\n",
       "      <td>13.64</td>\n",
       "      <td>3.9648</td>\n",
       "      <td>1.10</td>\n",
       "      <td>71.78</td>\n",
       "      <td>0.06</td>\n",
       "      <td>8.75</td>\n",
       "      <td>0.0</td>\n",
       "      <td>0.0</td>\n",
       "      <td>100</td>\n",
       "    </tr>\n",
       "    <tr>\n",
       "      <th>1</th>\n",
       "      <td>1.51761</td>\n",
       "      <td>13.89</td>\n",
       "      <td>3.6000</td>\n",
       "      <td>1.36</td>\n",
       "      <td>72.73</td>\n",
       "      <td>0.48</td>\n",
       "      <td>7.83</td>\n",
       "      <td>0.0</td>\n",
       "      <td>0.0</td>\n",
       "      <td>101</td>\n",
       "    </tr>\n",
       "    <tr>\n",
       "      <th>2</th>\n",
       "      <td>1.51618</td>\n",
       "      <td>13.53</td>\n",
       "      <td>3.5500</td>\n",
       "      <td>1.54</td>\n",
       "      <td>72.99</td>\n",
       "      <td>0.39</td>\n",
       "      <td>7.78</td>\n",
       "      <td>0.0</td>\n",
       "      <td>0.0</td>\n",
       "      <td>102</td>\n",
       "    </tr>\n",
       "    <tr>\n",
       "      <th>3</th>\n",
       "      <td>1.51766</td>\n",
       "      <td>13.21</td>\n",
       "      <td>3.6900</td>\n",
       "      <td>1.29</td>\n",
       "      <td>72.61</td>\n",
       "      <td>0.57</td>\n",
       "      <td>8.22</td>\n",
       "      <td>0.0</td>\n",
       "      <td>0.0</td>\n",
       "      <td>103</td>\n",
       "    </tr>\n",
       "    <tr>\n",
       "      <th>4</th>\n",
       "      <td>1.51742</td>\n",
       "      <td>13.27</td>\n",
       "      <td>3.6200</td>\n",
       "      <td>1.24</td>\n",
       "      <td>73.08</td>\n",
       "      <td>0.55</td>\n",
       "      <td>8.07</td>\n",
       "      <td>0.0</td>\n",
       "      <td>0.0</td>\n",
       "      <td>104</td>\n",
       "    </tr>\n",
       "  </tbody>\n",
       "</table>\n",
       "</div>"
      ],
      "text/plain": [
       "        RI     Na      Mg    Al     Si     K    Ca   Ba   Fe   ID\n",
       "0  1.52101  13.64  3.9648  1.10  71.78  0.06  8.75  0.0  0.0  100\n",
       "1  1.51761  13.89  3.6000  1.36  72.73  0.48  7.83  0.0  0.0  101\n",
       "2  1.51618  13.53  3.5500  1.54  72.99  0.39  7.78  0.0  0.0  102\n",
       "3  1.51766  13.21  3.6900  1.29  72.61  0.57  8.22  0.0  0.0  103\n",
       "4  1.51742  13.27  3.6200  1.24  73.08  0.55  8.07  0.0  0.0  104"
      ]
     },
     "execution_count": 26,
     "metadata": {},
     "output_type": "execute_result"
    }
   ],
   "source": [
    "df.head()"
   ]
  },
  {
   "cell_type": "code",
   "execution_count": 28,
   "metadata": {},
   "outputs": [],
   "source": [
    "ss = StandardScaler()\n",
    "df_2 = ss.fit_transform(df.drop(\"ID\", axis=1))"
   ]
  },
  {
   "cell_type": "code",
   "execution_count": 30,
   "metadata": {},
   "outputs": [],
   "source": [
    "df_2 = pd.DataFrame(df_2)"
   ]
  },
  {
   "cell_type": "code",
   "execution_count": 33,
   "metadata": {},
   "outputs": [
    {
     "data": {
      "text/plain": [
       "Index(['RI', 'Na', 'Mg', 'Al', 'Si', 'K', 'Ca', 'Ba', 'Fe', 'ID'], dtype='object')"
      ]
     },
     "execution_count": 33,
     "metadata": {},
     "output_type": "execute_result"
    }
   ],
   "source": [
    "df.columns"
   ]
  },
  {
   "cell_type": "code",
   "execution_count": 34,
   "metadata": {},
   "outputs": [
    {
     "data": {
      "text/html": [
       "<div>\n",
       "<style scoped>\n",
       "    .dataframe tbody tr th:only-of-type {\n",
       "        vertical-align: middle;\n",
       "    }\n",
       "\n",
       "    .dataframe tbody tr th {\n",
       "        vertical-align: top;\n",
       "    }\n",
       "\n",
       "    .dataframe thead th {\n",
       "        text-align: right;\n",
       "    }\n",
       "</style>\n",
       "<table border=\"1\" class=\"dataframe\">\n",
       "  <thead>\n",
       "    <tr style=\"text-align: right;\">\n",
       "      <th></th>\n",
       "      <th>RI</th>\n",
       "      <th>Na</th>\n",
       "      <th>Mg</th>\n",
       "      <th>Al</th>\n",
       "      <th>Si</th>\n",
       "      <th>K</th>\n",
       "      <th>Ca</th>\n",
       "      <th>Ba</th>\n",
       "      <th>Fe</th>\n",
       "    </tr>\n",
       "  </thead>\n",
       "  <tbody>\n",
       "    <tr>\n",
       "      <th>0</th>\n",
       "      <td>0.950549</td>\n",
       "      <td>0.319899</td>\n",
       "      <td>0.893132</td>\n",
       "      <td>-0.707909</td>\n",
       "      <td>-1.170586</td>\n",
       "      <td>-1.021903</td>\n",
       "      <td>-0.147013</td>\n",
       "      <td>-0.367626</td>\n",
       "      <td>-0.597741</td>\n",
       "    </tr>\n",
       "    <tr>\n",
       "      <th>1</th>\n",
       "      <td>-0.255286</td>\n",
       "      <td>0.647661</td>\n",
       "      <td>0.639148</td>\n",
       "      <td>-0.172494</td>\n",
       "      <td>0.112257</td>\n",
       "      <td>0.044327</td>\n",
       "      <td>-0.817870</td>\n",
       "      <td>-0.367626</td>\n",
       "      <td>-0.597741</td>\n",
       "    </tr>\n",
       "    <tr>\n",
       "      <th>2</th>\n",
       "      <td>-0.762446</td>\n",
       "      <td>0.175684</td>\n",
       "      <td>0.604337</td>\n",
       "      <td>0.198179</td>\n",
       "      <td>0.463350</td>\n",
       "      <td>-0.184151</td>\n",
       "      <td>-0.854329</td>\n",
       "      <td>-0.367626</td>\n",
       "      <td>-0.597741</td>\n",
       "    </tr>\n",
       "    <tr>\n",
       "      <th>3</th>\n",
       "      <td>-0.237553</td>\n",
       "      <td>-0.243851</td>\n",
       "      <td>0.701809</td>\n",
       "      <td>-0.316644</td>\n",
       "      <td>-0.049787</td>\n",
       "      <td>0.272804</td>\n",
       "      <td>-0.533485</td>\n",
       "      <td>-0.367626</td>\n",
       "      <td>-0.597741</td>\n",
       "    </tr>\n",
       "    <tr>\n",
       "      <th>4</th>\n",
       "      <td>-0.322671</td>\n",
       "      <td>-0.165188</td>\n",
       "      <td>0.653073</td>\n",
       "      <td>-0.419608</td>\n",
       "      <td>0.584883</td>\n",
       "      <td>0.222032</td>\n",
       "      <td>-0.642864</td>\n",
       "      <td>-0.367626</td>\n",
       "      <td>-0.597741</td>\n",
       "    </tr>\n",
       "  </tbody>\n",
       "</table>\n",
       "</div>"
      ],
      "text/plain": [
       "         RI        Na        Mg        Al        Si         K        Ca  \\\n",
       "0  0.950549  0.319899  0.893132 -0.707909 -1.170586 -1.021903 -0.147013   \n",
       "1 -0.255286  0.647661  0.639148 -0.172494  0.112257  0.044327 -0.817870   \n",
       "2 -0.762446  0.175684  0.604337  0.198179  0.463350 -0.184151 -0.854329   \n",
       "3 -0.237553 -0.243851  0.701809 -0.316644 -0.049787  0.272804 -0.533485   \n",
       "4 -0.322671 -0.165188  0.653073 -0.419608  0.584883  0.222032 -0.642864   \n",
       "\n",
       "         Ba        Fe  \n",
       "0 -0.367626 -0.597741  \n",
       "1 -0.367626 -0.597741  \n",
       "2 -0.367626 -0.597741  \n",
       "3 -0.367626 -0.597741  \n",
       "4 -0.367626 -0.597741  "
      ]
     },
     "execution_count": 34,
     "metadata": {},
     "output_type": "execute_result"
    }
   ],
   "source": [
    "df_2.columns = df.columns[:-1]\n",
    "df_2.head()"
   ]
  },
  {
   "cell_type": "markdown",
   "metadata": {},
   "source": [
    "### Steps For Clustering\n",
    "\n",
    "- Preprocessing\n",
    "    - Outlier Treatment\n",
    "    - Scaling\n",
    "- Check for Cluster Tendency: Here we will check if the data which we are using for clustering is actually having some clusters or not?\n",
    "    - Hopkins Score\n",
    "- Find the value of K\n",
    "    - Business Logic\n",
    "    - Silhouette\n",
    "    - Elbow/SSD\n",
    "- Run Final K-Means Algo\n",
    "    - Use the value of K that was found out in the last step\n",
    "- Cluster Profiling\n",
    "    - Trying to make sense out of the cluster formed.\n",
    "    - Finding the overall profile/property of the cluster formed\n",
    "    "
   ]
  },
  {
   "cell_type": "code",
   "execution_count": 35,
   "metadata": {},
   "outputs": [],
   "source": [
    "## Check the HOPKINS\n",
    "from sklearn.neighbors import NearestNeighbors\n",
    "from random import sample\n",
    "from numpy.random import uniform\n",
    "import numpy as np\n",
    "from math import isnan\n",
    " \n",
    "def hopkins(X):\n",
    "    d = X.shape[1]\n",
    "    #d = len(vars) # columns\n",
    "    n = len(X) # rows\n",
    "    m = int(0.1 * n) \n",
    "    nbrs = NearestNeighbors(n_neighbors=1).fit(X.values)\n",
    " \n",
    "    rand_X = sample(range(0, n, 1), m)\n",
    " \n",
    "    ujd = []\n",
    "    wjd = []\n",
    "    for j in range(0, m):\n",
    "        u_dist, _ = nbrs.kneighbors(uniform(np.amin(X,axis=0),np.amax(X,axis=0),d).reshape(1, -1), 2, return_distance=True)\n",
    "        ujd.append(u_dist[0][1])\n",
    "        w_dist, _ = nbrs.kneighbors(X.iloc[rand_X[j]].values.reshape(1, -1), 2, return_distance=True)\n",
    "        wjd.append(w_dist[0][1])\n",
    " \n",
    "    H = sum(ujd) / (sum(ujd) + sum(wjd))\n",
    "    if isnan(H):\n",
    "        print(ujd, wjd)\n",
    "        H = 0\n",
    " \n",
    "    return H"
   ]
  },
  {
   "cell_type": "code",
   "execution_count": 45,
   "metadata": {},
   "outputs": [
    {
     "data": {
      "text/plain": [
       "0.8092741953885753"
      ]
     },
     "execution_count": 45,
     "metadata": {},
     "output_type": "execute_result"
    }
   ],
   "source": [
    "hopkins(df_2)"
   ]
  },
  {
   "cell_type": "code",
   "execution_count": 3,
   "metadata": {},
   "outputs": [],
   "source": [
    "# Let's run K-Means with different value of  K to check SILHOUETTE SCORE\n",
    "from sklearn.metrics import silhouette_score\n",
    "sil = []\n",
    "for k in range(2,11):\n",
    "    kmean = KMeans(n_clusters=k, random_state=0).fit(df_2)\n",
    "    \n",
    "    sil.append([k,silhouette_score(df_2,kmean.labels_)])\n",
    "   \n",
    " \n",
    "    "
   ]
  },
  {
   "cell_type": "code",
   "execution_count": 57,
   "metadata": {},
   "outputs": [
    {
     "data": {
      "text/plain": [
       "[[2, 0.40582179495797444],\n",
       " [3, 0.3673729456231888],\n",
       " [4, 0.3896579135790243],\n",
       " [5, 0.36383492856687755],\n",
       " [6, 0.33201129969721604],\n",
       " [7, 0.3470784394455467],\n",
       " [8, 0.3511437557089502],\n",
       " [9, 0.291115029603198],\n",
       " [10, 0.30214868505570397]]"
      ]
     },
     "execution_count": 57,
     "metadata": {},
     "output_type": "execute_result"
    }
   ],
   "source": [
    "sil"
   ]
  },
  {
   "cell_type": "code",
   "execution_count": 59,
   "metadata": {},
   "outputs": [
    {
     "data": {
      "image/png": "[encoded data removed]",
      "text/plain": [
       "<Figure size 432x288 with 1 Axes>"
      ]
     },
     "metadata": {
      "needs_background": "light"
     },
     "output_type": "display_data"
    }
   ],
   "source": [
    "sil = pd.DataFrame(sil)\n",
    "plt.plot(sil[0], sil[1])\n",
    "plt.show()"
   ]
  },
  {
   "cell_type": "code",
   "execution_count": 52,
   "metadata": {},
   "outputs": [
    {
     "data": {
      "text/plain": [
       "array([0, 7, 7, 7, 7, 6, 7, 7, 1, 7, 6, 7, 6, 6, 7, 7, 7, 0, 1, 7, 6, 0,\n",
       "       7, 7, 7, 7, 7, 7, 7, 7, 6, 7, 6, 7, 7, 7, 1, 7, 0, 0, 7, 7, 7, 0,\n",
       "       6, 1, 6, 0, 0, 1, 0, 1, 7, 7, 7, 6, 6, 7, 7, 7, 1, 1, 0, 0, 0, 0,\n",
       "       1, 1, 1, 0, 1, 6, 7, 7, 7, 7, 7, 7, 1, 7, 7, 7, 7, 7, 7, 7, 7, 7,\n",
       "       7, 7, 6, 7, 6, 7, 7, 1, 6, 6, 7, 7, 6, 7, 6, 0, 0, 3, 3, 3, 4, 4,\n",
       "       3, 3, 3, 1, 7, 1, 1, 7, 6, 7, 7, 6, 7, 7, 1, 1, 7, 1, 1, 1, 4, 3,\n",
       "       7, 1, 7, 6, 6, 7, 7, 7, 7, 6, 6, 7, 6, 6, 1, 7, 7, 7, 6, 0, 1, 7,\n",
       "       7, 7, 7, 0, 1, 1, 1, 6, 6, 9, 4, 4, 4, 4, 4, 4, 4, 5, 5, 4, 6, 4,\n",
       "       1, 1, 1, 1, 2, 2, 4, 4, 2, 9, 9, 1, 0, 0, 2, 2, 2, 8, 8, 2, 2, 2,\n",
       "       2, 2, 2, 7, 2, 8, 2, 8, 8, 9, 2, 2, 8, 8, 8, 8])"
      ]
     },
     "execution_count": 52,
     "metadata": {},
     "output_type": "execute_result"
    }
   ],
   "source": [
    "kmean.labels_"
   ]
  },
  {
   "cell_type": "markdown",
   "metadata": {},
   "source": [
    "### RULE FOR CHOOSING VALUE OF K\n",
    "\n",
    "- Never go with k=2 as the option because it means you divide the complete data into two halfs and it's not useful for any business case.\n",
    "- If you have option to choose between two values of K, always go with a lesser value.\n",
    "- Since we will be taking business decisions based on the cluster result, it's awlays a good idea to go with a lower value of K so that it's easy to take and implement business decisions.\n",
    "- Silhouette: That value of k for which the score is maximum\n",
    "- Elbow, you look at the elbow of the curve"
   ]
  },
  {
   "cell_type": "code",
   "execution_count": null,
   "metadata": {},
   "outputs": [],
   "source": []
  },
  {
   "cell_type": "code",
   "execution_count": 64,
   "metadata": {},
   "outputs": [
    {
     "name": "stderr",
     "output_type": "stream",
     "text": [
      "C:\\Users\\kphan\\Anaconda3\\lib\\site-packages\\matplotlib\\cbook\\__init__.py:1377: FutureWarning: Support for multi-dimensional indexing (e.g. `obj[:, None]`) is deprecated and will be removed in a future version.  Convert to a numpy array before indexing instead.\n",
      "  x[:, None]\n",
      "C:\\Users\\kphan\\Anaconda3\\lib\\site-packages\\matplotlib\\axes\\_base.py:237: FutureWarning: Support for multi-dimensional indexing (e.g. `obj[:, None]`) is deprecated and will be removed in a future version.  Convert to a numpy array before indexing instead.\n",
      "  x = x[:, np.newaxis]\n",
      "C:\\Users\\kphan\\Anaconda3\\lib\\site-packages\\matplotlib\\axes\\_base.py:239: FutureWarning: Support for multi-dimensional indexing (e.g. `obj[:, None]`) is deprecated and will be removed in a future version.  Convert to a numpy array before indexing instead.\n",
      "  y = y[:, np.newaxis]\n"
     ]
    },
    {
     "data": {
      "image/png": "[encoded data removed]",
      "text/plain": [
       "<Figure size 432x288 with 1 Axes>"
      ]
     },
     "metadata": {
      "needs_background": "light"
     },
     "output_type": "display_data"
    }
   ],
   "source": [
    "# Elbow\n",
    "ssd = []\n",
    "for k in range(2,11):\n",
    "    kmean = KMeans(n_clusters=k).fit(df_2)\n",
    "    ssd.append([k, kmean.inertia_])\n",
    "ssd = pd.DataFrame(ssd)\n",
    "plt.plot(ssd[0], ssd[1])\n",
    "plt.show()"
   ]
  },
  {
   "cell_type": "code",
   "execution_count": null,
   "metadata": {},
   "outputs": [],
   "source": [
    "KMeans()"
   ]
  },
  {
   "cell_type": "code",
   "execution_count": 77,
   "metadata": {},
   "outputs": [
    {
     "data": {
      "text/plain": [
       "KMeans(n_clusters=3, random_state=0)"
      ]
     },
     "execution_count": 77,
     "metadata": {},
     "output_type": "execute_result"
    }
   ],
   "source": [
    "## K=3 Final KMeans Analysis\n",
    "kmean = KMeans(n_clusters=3, random_state=0)\n",
    "kmean.fit(df_2)"
   ]
  },
  {
   "cell_type": "code",
   "execution_count": 78,
   "metadata": {},
   "outputs": [
    {
     "data": {
      "text/plain": [
       "array([2, 0, 0, 0, 0, 0, 0, 0, 0, 0, 0, 0, 0, 0, 0, 0, 0, 2, 0, 0, 0, 2,\n",
       "       0, 0, 0, 0, 0, 0, 0, 0, 0, 0, 0, 0, 0, 0, 0, 0, 2, 2, 0, 0, 0, 2,\n",
       "       0, 0, 0, 2, 2, 0, 2, 0, 0, 0, 0, 0, 0, 0, 0, 0, 0, 2, 2, 2, 2, 2,\n",
       "       2, 2, 2, 2, 0, 0, 0, 0, 0, 0, 0, 0, 0, 0, 0, 0, 0, 0, 0, 0, 0, 0,\n",
       "       0, 0, 0, 0, 0, 0, 0, 0, 0, 0, 0, 0, 0, 0, 0, 2, 2, 2, 2, 2, 2, 2,\n",
       "       2, 2, 2, 0, 0, 0, 0, 0, 0, 0, 0, 0, 0, 0, 0, 0, 0, 2, 2, 2, 2, 2,\n",
       "       0, 0, 0, 0, 0, 0, 0, 0, 0, 0, 0, 0, 0, 0, 0, 0, 0, 0, 0, 2, 0, 0,\n",
       "       0, 0, 0, 2, 0, 0, 0, 0, 2, 1, 0, 2, 2, 2, 0, 2, 2, 0, 0, 2, 0, 2,\n",
       "       2, 2, 2, 0, 1, 1, 1, 2, 1, 0, 1, 2, 2, 2, 1, 1, 1, 1, 1, 1, 1, 1,\n",
       "       1, 1, 1, 0, 1, 1, 1, 1, 1, 1, 1, 1, 1, 1, 1, 1])"
      ]
     },
     "execution_count": 78,
     "metadata": {},
     "output_type": "execute_result"
    }
   ],
   "source": [
    "kmean.labels_"
   ]
  },
  {
   "cell_type": "code",
   "execution_count": 79,
   "metadata": {},
   "outputs": [],
   "source": [
    "df['label'] = kmean.labels_"
   ]
  },
  {
   "cell_type": "code",
   "execution_count": 80,
   "metadata": {},
   "outputs": [
    {
     "data": {
      "text/html": [
       "<div>\n",
       "<style scoped>\n",
       "    .dataframe tbody tr th:only-of-type {\n",
       "        vertical-align: middle;\n",
       "    }\n",
       "\n",
       "    .dataframe tbody tr th {\n",
       "        vertical-align: top;\n",
       "    }\n",
       "\n",
       "    .dataframe thead th {\n",
       "        text-align: right;\n",
       "    }\n",
       "</style>\n",
       "<table border=\"1\" class=\"dataframe\">\n",
       "  <thead>\n",
       "    <tr style=\"text-align: right;\">\n",
       "      <th></th>\n",
       "      <th>RI</th>\n",
       "      <th>Na</th>\n",
       "      <th>Mg</th>\n",
       "      <th>Al</th>\n",
       "      <th>Si</th>\n",
       "      <th>K</th>\n",
       "      <th>Ca</th>\n",
       "      <th>Ba</th>\n",
       "      <th>Fe</th>\n",
       "      <th>ID</th>\n",
       "      <th>label</th>\n",
       "    </tr>\n",
       "  </thead>\n",
       "  <tbody>\n",
       "    <tr>\n",
       "      <th>0</th>\n",
       "      <td>1.52101</td>\n",
       "      <td>13.64</td>\n",
       "      <td>3.9648</td>\n",
       "      <td>1.10</td>\n",
       "      <td>71.78</td>\n",
       "      <td>0.06</td>\n",
       "      <td>8.75</td>\n",
       "      <td>0.0</td>\n",
       "      <td>0.0</td>\n",
       "      <td>100</td>\n",
       "      <td>2</td>\n",
       "    </tr>\n",
       "    <tr>\n",
       "      <th>1</th>\n",
       "      <td>1.51761</td>\n",
       "      <td>13.89</td>\n",
       "      <td>3.6000</td>\n",
       "      <td>1.36</td>\n",
       "      <td>72.73</td>\n",
       "      <td>0.48</td>\n",
       "      <td>7.83</td>\n",
       "      <td>0.0</td>\n",
       "      <td>0.0</td>\n",
       "      <td>101</td>\n",
       "      <td>0</td>\n",
       "    </tr>\n",
       "    <tr>\n",
       "      <th>2</th>\n",
       "      <td>1.51618</td>\n",
       "      <td>13.53</td>\n",
       "      <td>3.5500</td>\n",
       "      <td>1.54</td>\n",
       "      <td>72.99</td>\n",
       "      <td>0.39</td>\n",
       "      <td>7.78</td>\n",
       "      <td>0.0</td>\n",
       "      <td>0.0</td>\n",
       "      <td>102</td>\n",
       "      <td>0</td>\n",
       "    </tr>\n",
       "    <tr>\n",
       "      <th>3</th>\n",
       "      <td>1.51766</td>\n",
       "      <td>13.21</td>\n",
       "      <td>3.6900</td>\n",
       "      <td>1.29</td>\n",
       "      <td>72.61</td>\n",
       "      <td>0.57</td>\n",
       "      <td>8.22</td>\n",
       "      <td>0.0</td>\n",
       "      <td>0.0</td>\n",
       "      <td>103</td>\n",
       "      <td>0</td>\n",
       "    </tr>\n",
       "    <tr>\n",
       "      <th>4</th>\n",
       "      <td>1.51742</td>\n",
       "      <td>13.27</td>\n",
       "      <td>3.6200</td>\n",
       "      <td>1.24</td>\n",
       "      <td>73.08</td>\n",
       "      <td>0.55</td>\n",
       "      <td>8.07</td>\n",
       "      <td>0.0</td>\n",
       "      <td>0.0</td>\n",
       "      <td>104</td>\n",
       "      <td>0</td>\n",
       "    </tr>\n",
       "  </tbody>\n",
       "</table>\n",
       "</div>"
      ],
      "text/plain": [
       "        RI     Na      Mg    Al     Si     K    Ca   Ba   Fe   ID  label\n",
       "0  1.52101  13.64  3.9648  1.10  71.78  0.06  8.75  0.0  0.0  100      2\n",
       "1  1.51761  13.89  3.6000  1.36  72.73  0.48  7.83  0.0  0.0  101      0\n",
       "2  1.51618  13.53  3.5500  1.54  72.99  0.39  7.78  0.0  0.0  102      0\n",
       "3  1.51766  13.21  3.6900  1.29  72.61  0.57  8.22  0.0  0.0  103      0\n",
       "4  1.51742  13.27  3.6200  1.24  73.08  0.55  8.07  0.0  0.0  104      0"
      ]
     },
     "execution_count": 80,
     "metadata": {},
     "output_type": "execute_result"
    }
   ],
   "source": [
    "df.head()"
   ]
  },
  {
   "cell_type": "code",
   "execution_count": 81,
   "metadata": {},
   "outputs": [
    {
     "data": {
      "text/plain": [
       "0    135\n",
       "2     50\n",
       "1     29\n",
       "Name: label, dtype: int64"
      ]
     },
     "execution_count": 81,
     "metadata": {},
     "output_type": "execute_result"
    }
   ],
   "source": [
    "df.label.value_counts()"
   ]
  },
  {
   "cell_type": "markdown",
   "metadata": {},
   "source": [
    "### Cluster Profiling\n",
    "\n",
    "Add the labels generated by the algo back to the original dataframe"
   ]
  },
  {
   "cell_type": "code",
   "execution_count": 82,
   "metadata": {},
   "outputs": [
    {
     "data": {
      "text/html": [
       "<div>\n",
       "<style scoped>\n",
       "    .dataframe tbody tr th:only-of-type {\n",
       "        vertical-align: middle;\n",
       "    }\n",
       "\n",
       "    .dataframe tbody tr th {\n",
       "        vertical-align: top;\n",
       "    }\n",
       "\n",
       "    .dataframe thead th {\n",
       "        text-align: right;\n",
       "    }\n",
       "</style>\n",
       "<table border=\"1\" class=\"dataframe\">\n",
       "  <thead>\n",
       "    <tr style=\"text-align: right;\">\n",
       "      <th></th>\n",
       "      <th>K</th>\n",
       "      <th>Ca</th>\n",
       "      <th>Ba</th>\n",
       "      <th>Fe</th>\n",
       "    </tr>\n",
       "    <tr>\n",
       "      <th>label</th>\n",
       "      <th></th>\n",
       "      <th></th>\n",
       "      <th></th>\n",
       "      <th></th>\n",
       "    </tr>\n",
       "  </thead>\n",
       "  <tbody>\n",
       "    <tr>\n",
       "      <th>0</th>\n",
       "      <td>0.617284</td>\n",
       "      <td>8.414356</td>\n",
       "      <td>0.016148</td>\n",
       "      <td>0.062721</td>\n",
       "    </tr>\n",
       "    <tr>\n",
       "      <th>1</th>\n",
       "      <td>0.171724</td>\n",
       "      <td>8.478138</td>\n",
       "      <td>0.989055</td>\n",
       "      <td>0.013448</td>\n",
       "    </tr>\n",
       "    <tr>\n",
       "      <th>2</th>\n",
       "      <td>0.213400</td>\n",
       "      <td>10.676816</td>\n",
       "      <td>0.095526</td>\n",
       "      <td>0.063174</td>\n",
       "    </tr>\n",
       "  </tbody>\n",
       "</table>\n",
       "</div>"
      ],
      "text/plain": [
       "              K         Ca        Ba        Fe\n",
       "label                                         \n",
       "0      0.617284   8.414356  0.016148  0.062721\n",
       "1      0.171724   8.478138  0.989055  0.013448\n",
       "2      0.213400  10.676816  0.095526  0.063174"
      ]
     },
     "execution_count": 82,
     "metadata": {},
     "output_type": "execute_result"
    }
   ],
   "source": [
    "df.groupby(\"label\")[[\"K\",\"Ca\",\"Ba\",\"Fe\"]].mean()"
   ]
  },
  {
   "cell_type": "code",
   "execution_count": 83,
   "metadata": {},
   "outputs": [
    {
     "data": {
      "image/png": "[encoded data removed]",
      "text/plain": [
       "<Figure size 720x720 with 4 Axes>"
      ]
     },
     "metadata": {
      "needs_background": "light"
     },
     "output_type": "display_data"
    }
   ],
   "source": [
    "f = [\"K\", \"Ca\", \"Ba\", \"Fe\"]\n",
    "plt.figure(figsize=(10,10))\n",
    "for i in enumerate(f):\n",
    "    plt.subplot(2,2,i[0]+1)\n",
    "    sns.boxplot(data=df, x='label', y=i[1])"
   ]
  },
  {
   "cell_type": "markdown",
   "metadata": {},
   "source": [
    "### Check how many observations are clustered in each cluster?\n"
   ]
  },
  {
   "cell_type": "code",
   "execution_count": null,
   "metadata": {},
   "outputs": [],
   "source": []
  },
  {
   "cell_type": "markdown",
   "metadata": {},
   "source": [
    "### Profile\n",
    "\n"
   ]
  },
  {
   "cell_type": "markdown",
   "metadata": {},
   "source": [
    "0 : Consists rich 'Fe' Glasses <br>\n",
    "1 : Consists rich 'Ba' Glasses <br>\n",
    "2 : Consists rich 'Ca' Glasses <br>"
   ]
  },
  {
   "cell_type": "code",
   "execution_count": 88,
   "metadata": {},
   "outputs": [
    {
     "data": {
      "text/plain": [
       "163    263\n",
       "180    280\n",
       "181    281\n",
       "182    282\n",
       "184    284\n",
       "186    286\n",
       "190    290\n",
       "191    291\n",
       "192    292\n",
       "193    293\n",
       "194    294\n",
       "195    295\n",
       "196    296\n",
       "197    297\n",
       "198    298\n",
       "199    299\n",
       "200    300\n",
       "202    302\n",
       "203    303\n",
       "204    304\n",
       "205    305\n",
       "206    306\n",
       "207    307\n",
       "208    308\n",
       "209    309\n",
       "210    310\n",
       "211    311\n",
       "212    312\n",
       "213    313\n",
       "Name: ID, dtype: int64"
      ]
     },
     "execution_count": 88,
     "metadata": {},
     "output_type": "execute_result"
    }
   ],
   "source": [
    "df[df['label'] == 1].ID"
   ]
  },
  {
   "cell_type": "code",
   "execution_count": null,
   "metadata": {},
   "outputs": [],
   "source": []
  },
  {
   "cell_type": "code",
   "execution_count": null,
   "metadata": {},
   "outputs": [],
   "source": []
  },
  {
   "cell_type": "code",
   "execution_count": null,
   "metadata": {},
   "outputs": [],
   "source": []
  },
  {
   "cell_type": "code",
   "execution_count": null,
   "metadata": {},
   "outputs": [],
   "source": []
  },
  {
   "cell_type": "code",
   "execution_count": null,
   "metadata": {},
   "outputs": [],
   "source": []
  },
  {
   "cell_type": "markdown",
   "metadata": {},
   "source": [
    "# second dataset "
   ]
  },
  {
   "cell_type": "code",
   "execution_count": null,
   "metadata": {},
   "outputs": [],
   "source": []
  },
  {
   "cell_type": "code",
   "execution_count": 245,
   "metadata": {},
   "outputs": [
    {
     "data": {
      "text/plain": [
       "(500, 14)"
      ]
     },
     "execution_count": 245,
     "metadata": {},
     "output_type": "execute_result"
    }
   ],
   "source": [
    "df = pd.read_excel('Attribute DataSet.xlsx')\n",
    "df.shape"
   ]
  },
  {
   "cell_type": "code",
   "execution_count": 246,
   "metadata": {},
   "outputs": [
    {
     "data": {
      "text/html": [
       "<div>\n",
       "<style scoped>\n",
       "    .dataframe tbody tr th:only-of-type {\n",
       "        vertical-align: middle;\n",
       "    }\n",
       "\n",
       "    .dataframe tbody tr th {\n",
       "        vertical-align: top;\n",
       "    }\n",
       "\n",
       "    .dataframe thead th {\n",
       "        text-align: right;\n",
       "    }\n",
       "</style>\n",
       "<table border=\"1\" class=\"dataframe\">\n",
       "  <thead>\n",
       "    <tr style=\"text-align: right;\">\n",
       "      <th></th>\n",
       "      <th>Dress_ID</th>\n",
       "      <th>Style</th>\n",
       "      <th>Price</th>\n",
       "      <th>Rating</th>\n",
       "      <th>Size</th>\n",
       "      <th>Season</th>\n",
       "      <th>NeckLine</th>\n",
       "      <th>SleeveLength</th>\n",
       "      <th>waiseline</th>\n",
       "      <th>Material</th>\n",
       "      <th>FabricType</th>\n",
       "      <th>Decoration</th>\n",
       "      <th>Pattern Type</th>\n",
       "      <th>Recommendation</th>\n",
       "    </tr>\n",
       "  </thead>\n",
       "  <tbody>\n",
       "    <tr>\n",
       "      <th>0</th>\n",
       "      <td>1006032852</td>\n",
       "      <td>Sexy</td>\n",
       "      <td>Low</td>\n",
       "      <td>4.6</td>\n",
       "      <td>M</td>\n",
       "      <td>Summer</td>\n",
       "      <td>o-neck</td>\n",
       "      <td>sleevless</td>\n",
       "      <td>empire</td>\n",
       "      <td>NaN</td>\n",
       "      <td>chiffon</td>\n",
       "      <td>ruffles</td>\n",
       "      <td>animal</td>\n",
       "      <td>1</td>\n",
       "    </tr>\n",
       "    <tr>\n",
       "      <th>1</th>\n",
       "      <td>1212192089</td>\n",
       "      <td>Casual</td>\n",
       "      <td>Low</td>\n",
       "      <td>0.0</td>\n",
       "      <td>L</td>\n",
       "      <td>Summer</td>\n",
       "      <td>o-neck</td>\n",
       "      <td>Petal</td>\n",
       "      <td>natural</td>\n",
       "      <td>microfiber</td>\n",
       "      <td>NaN</td>\n",
       "      <td>ruffles</td>\n",
       "      <td>animal</td>\n",
       "      <td>0</td>\n",
       "    </tr>\n",
       "    <tr>\n",
       "      <th>2</th>\n",
       "      <td>1190380701</td>\n",
       "      <td>vintage</td>\n",
       "      <td>High</td>\n",
       "      <td>0.0</td>\n",
       "      <td>L</td>\n",
       "      <td>Automn</td>\n",
       "      <td>o-neck</td>\n",
       "      <td>full</td>\n",
       "      <td>natural</td>\n",
       "      <td>polyster</td>\n",
       "      <td>NaN</td>\n",
       "      <td>NaN</td>\n",
       "      <td>print</td>\n",
       "      <td>0</td>\n",
       "    </tr>\n",
       "    <tr>\n",
       "      <th>3</th>\n",
       "      <td>966005983</td>\n",
       "      <td>Brief</td>\n",
       "      <td>Average</td>\n",
       "      <td>4.6</td>\n",
       "      <td>L</td>\n",
       "      <td>Spring</td>\n",
       "      <td>o-neck</td>\n",
       "      <td>full</td>\n",
       "      <td>natural</td>\n",
       "      <td>silk</td>\n",
       "      <td>chiffon</td>\n",
       "      <td>embroidary</td>\n",
       "      <td>print</td>\n",
       "      <td>1</td>\n",
       "    </tr>\n",
       "    <tr>\n",
       "      <th>4</th>\n",
       "      <td>876339541</td>\n",
       "      <td>cute</td>\n",
       "      <td>Low</td>\n",
       "      <td>4.5</td>\n",
       "      <td>M</td>\n",
       "      <td>Summer</td>\n",
       "      <td>o-neck</td>\n",
       "      <td>butterfly</td>\n",
       "      <td>natural</td>\n",
       "      <td>chiffonfabric</td>\n",
       "      <td>chiffon</td>\n",
       "      <td>bow</td>\n",
       "      <td>dot</td>\n",
       "      <td>0</td>\n",
       "    </tr>\n",
       "  </tbody>\n",
       "</table>\n",
       "</div>"
      ],
      "text/plain": [
       "     Dress_ID    Style    Price  Rating Size  Season NeckLine SleeveLength  \\\n",
       "0  1006032852     Sexy      Low     4.6    M  Summer   o-neck    sleevless   \n",
       "1  1212192089   Casual      Low     0.0    L  Summer   o-neck        Petal   \n",
       "2  1190380701  vintage     High     0.0    L  Automn   o-neck         full   \n",
       "3   966005983    Brief  Average     4.6    L  Spring   o-neck         full   \n",
       "4   876339541     cute      Low     4.5    M  Summer   o-neck    butterfly   \n",
       "\n",
       "  waiseline       Material FabricType  Decoration Pattern Type  Recommendation  \n",
       "0    empire            NaN    chiffon     ruffles       animal               1  \n",
       "1   natural     microfiber        NaN     ruffles       animal               0  \n",
       "2   natural       polyster        NaN         NaN        print               0  \n",
       "3   natural           silk    chiffon  embroidary        print               1  \n",
       "4   natural  chiffonfabric    chiffon         bow          dot               0  "
      ]
     },
     "execution_count": 246,
     "metadata": {},
     "output_type": "execute_result"
    }
   ],
   "source": [
    "df.head()"
   ]
  },
  {
   "cell_type": "code",
   "execution_count": 247,
   "metadata": {},
   "outputs": [
    {
     "data": {
      "text/plain": [
       "(500, 13)"
      ]
     },
     "execution_count": 247,
     "metadata": {},
     "output_type": "execute_result"
    }
   ],
   "source": [
    "df.drop('Dress_ID',axis=1,inplace=True)\n",
    "df.shape"
   ]
  },
  {
   "cell_type": "code",
   "execution_count": 248,
   "metadata": {},
   "outputs": [
    {
     "data": {
      "text/html": [
       "<div>\n",
       "<style scoped>\n",
       "    .dataframe tbody tr th:only-of-type {\n",
       "        vertical-align: middle;\n",
       "    }\n",
       "\n",
       "    .dataframe tbody tr th {\n",
       "        vertical-align: top;\n",
       "    }\n",
       "\n",
       "    .dataframe thead th {\n",
       "        text-align: right;\n",
       "    }\n",
       "</style>\n",
       "<table border=\"1\" class=\"dataframe\">\n",
       "  <thead>\n",
       "    <tr style=\"text-align: right;\">\n",
       "      <th></th>\n",
       "      <th>Style</th>\n",
       "      <th>Price</th>\n",
       "      <th>Rating</th>\n",
       "      <th>Size</th>\n",
       "      <th>Season</th>\n",
       "      <th>NeckLine</th>\n",
       "      <th>SleeveLength</th>\n",
       "      <th>waiseline</th>\n",
       "      <th>Material</th>\n",
       "      <th>FabricType</th>\n",
       "      <th>Decoration</th>\n",
       "      <th>Pattern Type</th>\n",
       "      <th>Recommendation</th>\n",
       "    </tr>\n",
       "  </thead>\n",
       "  <tbody>\n",
       "    <tr>\n",
       "      <th>0</th>\n",
       "      <td>Sexy</td>\n",
       "      <td>Low</td>\n",
       "      <td>4.6</td>\n",
       "      <td>M</td>\n",
       "      <td>Summer</td>\n",
       "      <td>o-neck</td>\n",
       "      <td>sleevless</td>\n",
       "      <td>empire</td>\n",
       "      <td>NaN</td>\n",
       "      <td>chiffon</td>\n",
       "      <td>ruffles</td>\n",
       "      <td>animal</td>\n",
       "      <td>1</td>\n",
       "    </tr>\n",
       "    <tr>\n",
       "      <th>1</th>\n",
       "      <td>Casual</td>\n",
       "      <td>Low</td>\n",
       "      <td>0.0</td>\n",
       "      <td>L</td>\n",
       "      <td>Summer</td>\n",
       "      <td>o-neck</td>\n",
       "      <td>Petal</td>\n",
       "      <td>natural</td>\n",
       "      <td>microfiber</td>\n",
       "      <td>NaN</td>\n",
       "      <td>ruffles</td>\n",
       "      <td>animal</td>\n",
       "      <td>0</td>\n",
       "    </tr>\n",
       "    <tr>\n",
       "      <th>2</th>\n",
       "      <td>vintage</td>\n",
       "      <td>High</td>\n",
       "      <td>0.0</td>\n",
       "      <td>L</td>\n",
       "      <td>Automn</td>\n",
       "      <td>o-neck</td>\n",
       "      <td>full</td>\n",
       "      <td>natural</td>\n",
       "      <td>polyster</td>\n",
       "      <td>NaN</td>\n",
       "      <td>NaN</td>\n",
       "      <td>print</td>\n",
       "      <td>0</td>\n",
       "    </tr>\n",
       "    <tr>\n",
       "      <th>3</th>\n",
       "      <td>Brief</td>\n",
       "      <td>Average</td>\n",
       "      <td>4.6</td>\n",
       "      <td>L</td>\n",
       "      <td>Spring</td>\n",
       "      <td>o-neck</td>\n",
       "      <td>full</td>\n",
       "      <td>natural</td>\n",
       "      <td>silk</td>\n",
       "      <td>chiffon</td>\n",
       "      <td>embroidary</td>\n",
       "      <td>print</td>\n",
       "      <td>1</td>\n",
       "    </tr>\n",
       "    <tr>\n",
       "      <th>4</th>\n",
       "      <td>cute</td>\n",
       "      <td>Low</td>\n",
       "      <td>4.5</td>\n",
       "      <td>M</td>\n",
       "      <td>Summer</td>\n",
       "      <td>o-neck</td>\n",
       "      <td>butterfly</td>\n",
       "      <td>natural</td>\n",
       "      <td>chiffonfabric</td>\n",
       "      <td>chiffon</td>\n",
       "      <td>bow</td>\n",
       "      <td>dot</td>\n",
       "      <td>0</td>\n",
       "    </tr>\n",
       "  </tbody>\n",
       "</table>\n",
       "</div>"
      ],
      "text/plain": [
       "     Style    Price  Rating Size  Season NeckLine SleeveLength waiseline  \\\n",
       "0     Sexy      Low     4.6    M  Summer   o-neck    sleevless    empire   \n",
       "1   Casual      Low     0.0    L  Summer   o-neck        Petal   natural   \n",
       "2  vintage     High     0.0    L  Automn   o-neck         full   natural   \n",
       "3    Brief  Average     4.6    L  Spring   o-neck         full   natural   \n",
       "4     cute      Low     4.5    M  Summer   o-neck    butterfly   natural   \n",
       "\n",
       "        Material FabricType  Decoration Pattern Type  Recommendation  \n",
       "0            NaN    chiffon     ruffles       animal               1  \n",
       "1     microfiber        NaN     ruffles       animal               0  \n",
       "2       polyster        NaN         NaN        print               0  \n",
       "3           silk    chiffon  embroidary        print               1  \n",
       "4  chiffonfabric    chiffon         bow          dot               0  "
      ]
     },
     "execution_count": 248,
     "metadata": {},
     "output_type": "execute_result"
    }
   ],
   "source": [
    "df.head()"
   ]
  },
  {
   "cell_type": "code",
   "execution_count": 249,
   "metadata": {},
   "outputs": [
    {
     "data": {
      "text/plain": [
       "Style               0\n",
       "Price               2\n",
       "Rating              0\n",
       "Size                0\n",
       "Season              2\n",
       "NeckLine            3\n",
       "SleeveLength        2\n",
       "waiseline          87\n",
       "Material          128\n",
       "FabricType        266\n",
       "Decoration        236\n",
       "Pattern Type      109\n",
       "Recommendation      0\n",
       "dtype: int64"
      ]
     },
     "execution_count": 249,
     "metadata": {},
     "output_type": "execute_result"
    }
   ],
   "source": [
    "df.isna().sum()"
   ]
  },
  {
   "cell_type": "markdown",
   "metadata": {},
   "source": [
    "- as we can observe that more than 50% data is missing for column fabricType and Decoration hence we have to drop tht column."
   ]
  },
  {
   "cell_type": "code",
   "execution_count": 250,
   "metadata": {},
   "outputs": [
    {
     "data": {
      "text/plain": [
       "(500, 11)"
      ]
     },
     "execution_count": 250,
     "metadata": {},
     "output_type": "execute_result"
    }
   ],
   "source": [
    "df.drop(['FabricType', 'Decoration'],axis=1,inplace=True)\n",
    "df.shape"
   ]
  },
  {
   "cell_type": "code",
   "execution_count": 251,
   "metadata": {},
   "outputs": [
    {
     "data": {
      "text/html": [
       "<div>\n",
       "<style scoped>\n",
       "    .dataframe tbody tr th:only-of-type {\n",
       "        vertical-align: middle;\n",
       "    }\n",
       "\n",
       "    .dataframe tbody tr th {\n",
       "        vertical-align: top;\n",
       "    }\n",
       "\n",
       "    .dataframe thead th {\n",
       "        text-align: right;\n",
       "    }\n",
       "</style>\n",
       "<table border=\"1\" class=\"dataframe\">\n",
       "  <thead>\n",
       "    <tr style=\"text-align: right;\">\n",
       "      <th></th>\n",
       "      <th>Style</th>\n",
       "      <th>Price</th>\n",
       "      <th>Rating</th>\n",
       "      <th>Size</th>\n",
       "      <th>Season</th>\n",
       "      <th>NeckLine</th>\n",
       "      <th>SleeveLength</th>\n",
       "      <th>waiseline</th>\n",
       "      <th>Material</th>\n",
       "      <th>Pattern Type</th>\n",
       "      <th>Recommendation</th>\n",
       "    </tr>\n",
       "  </thead>\n",
       "  <tbody>\n",
       "    <tr>\n",
       "      <th>0</th>\n",
       "      <td>Sexy</td>\n",
       "      <td>Low</td>\n",
       "      <td>4.6</td>\n",
       "      <td>M</td>\n",
       "      <td>Summer</td>\n",
       "      <td>o-neck</td>\n",
       "      <td>sleevless</td>\n",
       "      <td>empire</td>\n",
       "      <td>NaN</td>\n",
       "      <td>animal</td>\n",
       "      <td>1</td>\n",
       "    </tr>\n",
       "    <tr>\n",
       "      <th>1</th>\n",
       "      <td>Casual</td>\n",
       "      <td>Low</td>\n",
       "      <td>0.0</td>\n",
       "      <td>L</td>\n",
       "      <td>Summer</td>\n",
       "      <td>o-neck</td>\n",
       "      <td>Petal</td>\n",
       "      <td>natural</td>\n",
       "      <td>microfiber</td>\n",
       "      <td>animal</td>\n",
       "      <td>0</td>\n",
       "    </tr>\n",
       "    <tr>\n",
       "      <th>2</th>\n",
       "      <td>vintage</td>\n",
       "      <td>High</td>\n",
       "      <td>0.0</td>\n",
       "      <td>L</td>\n",
       "      <td>Automn</td>\n",
       "      <td>o-neck</td>\n",
       "      <td>full</td>\n",
       "      <td>natural</td>\n",
       "      <td>polyster</td>\n",
       "      <td>print</td>\n",
       "      <td>0</td>\n",
       "    </tr>\n",
       "    <tr>\n",
       "      <th>3</th>\n",
       "      <td>Brief</td>\n",
       "      <td>Average</td>\n",
       "      <td>4.6</td>\n",
       "      <td>L</td>\n",
       "      <td>Spring</td>\n",
       "      <td>o-neck</td>\n",
       "      <td>full</td>\n",
       "      <td>natural</td>\n",
       "      <td>silk</td>\n",
       "      <td>print</td>\n",
       "      <td>1</td>\n",
       "    </tr>\n",
       "    <tr>\n",
       "      <th>4</th>\n",
       "      <td>cute</td>\n",
       "      <td>Low</td>\n",
       "      <td>4.5</td>\n",
       "      <td>M</td>\n",
       "      <td>Summer</td>\n",
       "      <td>o-neck</td>\n",
       "      <td>butterfly</td>\n",
       "      <td>natural</td>\n",
       "      <td>chiffonfabric</td>\n",
       "      <td>dot</td>\n",
       "      <td>0</td>\n",
       "    </tr>\n",
       "  </tbody>\n",
       "</table>\n",
       "</div>"
      ],
      "text/plain": [
       "     Style    Price  Rating Size  Season NeckLine SleeveLength waiseline  \\\n",
       "0     Sexy      Low     4.6    M  Summer   o-neck    sleevless    empire   \n",
       "1   Casual      Low     0.0    L  Summer   o-neck        Petal   natural   \n",
       "2  vintage     High     0.0    L  Automn   o-neck         full   natural   \n",
       "3    Brief  Average     4.6    L  Spring   o-neck         full   natural   \n",
       "4     cute      Low     4.5    M  Summer   o-neck    butterfly   natural   \n",
       "\n",
       "        Material Pattern Type  Recommendation  \n",
       "0            NaN       animal               1  \n",
       "1     microfiber       animal               0  \n",
       "2       polyster        print               0  \n",
       "3           silk        print               1  \n",
       "4  chiffonfabric          dot               0  "
      ]
     },
     "execution_count": 251,
     "metadata": {},
     "output_type": "execute_result"
    }
   ],
   "source": [
    "df.head()"
   ]
  },
  {
   "cell_type": "code",
   "execution_count": 252,
   "metadata": {},
   "outputs": [
    {
     "data": {
      "text/plain": [
       "Style               0\n",
       "Price               2\n",
       "Rating              0\n",
       "Size                0\n",
       "Season              2\n",
       "NeckLine            3\n",
       "SleeveLength        2\n",
       "waiseline          87\n",
       "Material          128\n",
       "Pattern Type      109\n",
       "Recommendation      0\n",
       "dtype: int64"
      ]
     },
     "execution_count": 252,
     "metadata": {},
     "output_type": "execute_result"
    }
   ],
   "source": [
    "df.isna().sum()"
   ]
  },
  {
   "cell_type": "code",
   "execution_count": 253,
   "metadata": {},
   "outputs": [
    {
     "data": {
      "text/plain": [
       "natural     304\n",
       "empire      104\n",
       "dropped       4\n",
       "princess      1\n",
       "Name: waiseline, dtype: int64"
      ]
     },
     "execution_count": 253,
     "metadata": {},
     "output_type": "execute_result"
    }
   ],
   "source": [
    "df.waiseline.value_counts() # natural"
   ]
  },
  {
   "cell_type": "code",
   "execution_count": 254,
   "metadata": {},
   "outputs": [],
   "source": [
    "df['waiseline'].fillna(value='natural',axis=0,inplace=True)"
   ]
  },
  {
   "cell_type": "code",
   "execution_count": 255,
   "metadata": {},
   "outputs": [
    {
     "data": {
      "text/plain": [
       "cotton           152\n",
       "polyster          99\n",
       "silk              26\n",
       "chiffonfabric     25\n",
       "mix               12\n",
       "nylon             10\n",
       "rayon             10\n",
       "spandex            5\n",
       "milksilk           5\n",
       "cashmere           4\n",
       "acrylic            3\n",
       "linen              3\n",
       "microfiber         3\n",
       "lycra              3\n",
       "other              2\n",
       "shiffon            2\n",
       "viscos             2\n",
       "model              1\n",
       "lace               1\n",
       "sill               1\n",
       "knitting           1\n",
       "wool               1\n",
       "modal              1\n",
       "Name: Material, dtype: int64"
      ]
     },
     "execution_count": 255,
     "metadata": {},
     "output_type": "execute_result"
    }
   ],
   "source": [
    "df.Material.value_counts() # cotton"
   ]
  },
  {
   "cell_type": "code",
   "execution_count": 256,
   "metadata": {},
   "outputs": [],
   "source": [
    "df['Material'].fillna(value='cotton',axis=0,inplace=True)"
   ]
  },
  {
   "cell_type": "code",
   "execution_count": 257,
   "metadata": {},
   "outputs": [
    {
     "data": {
      "text/plain": [
       "solid        203\n",
       "print         71\n",
       "patchwork     48\n",
       "animal        21\n",
       "striped       17\n",
       "dot           14\n",
       "geometric      5\n",
       "plaid          3\n",
       "leopard        3\n",
       "floral         2\n",
       "character      1\n",
       "none           1\n",
       "splice         1\n",
       "leapord        1\n",
       "Name: Pattern Type, dtype: int64"
      ]
     },
     "execution_count": 257,
     "metadata": {},
     "output_type": "execute_result"
    }
   ],
   "source": [
    "df['Pattern Type'].value_counts() # solid"
   ]
  },
  {
   "cell_type": "code",
   "execution_count": 258,
   "metadata": {},
   "outputs": [],
   "source": [
    "df['Pattern Type'].fillna(value='solid',axis=0,inplace=True)"
   ]
  },
  {
   "cell_type": "code",
   "execution_count": 259,
   "metadata": {},
   "outputs": [
    {
     "data": {
      "text/plain": [
       "Style             0\n",
       "Price             2\n",
       "Rating            0\n",
       "Size              0\n",
       "Season            2\n",
       "NeckLine          3\n",
       "SleeveLength      2\n",
       "waiseline         0\n",
       "Material          0\n",
       "Pattern Type      0\n",
       "Recommendation    0\n",
       "dtype: int64"
      ]
     },
     "execution_count": 259,
     "metadata": {},
     "output_type": "execute_result"
    }
   ],
   "source": [
    "df.isna().sum()"
   ]
  },
  {
   "cell_type": "code",
   "execution_count": 260,
   "metadata": {},
   "outputs": [],
   "source": [
    "df.dropna(axis=0,inplace=True)"
   ]
  },
  {
   "cell_type": "code",
   "execution_count": 261,
   "metadata": {},
   "outputs": [
    {
     "data": {
      "text/plain": [
       "(493, 11)"
      ]
     },
     "execution_count": 261,
     "metadata": {},
     "output_type": "execute_result"
    }
   ],
   "source": [
    "df.shape"
   ]
  },
  {
   "cell_type": "code",
   "execution_count": 262,
   "metadata": {},
   "outputs": [
    {
     "data": {
      "text/plain": [
       "Style             0\n",
       "Price             0\n",
       "Rating            0\n",
       "Size              0\n",
       "Season            0\n",
       "NeckLine          0\n",
       "SleeveLength      0\n",
       "waiseline         0\n",
       "Material          0\n",
       "Pattern Type      0\n",
       "Recommendation    0\n",
       "dtype: int64"
      ]
     },
     "execution_count": 262,
     "metadata": {},
     "output_type": "execute_result"
    }
   ],
   "source": [
    "df.isna().sum()"
   ]
  },
  {
   "cell_type": "code",
   "execution_count": 263,
   "metadata": {},
   "outputs": [
    {
     "data": {
      "text/html": [
       "<div>\n",
       "<style scoped>\n",
       "    .dataframe tbody tr th:only-of-type {\n",
       "        vertical-align: middle;\n",
       "    }\n",
       "\n",
       "    .dataframe tbody tr th {\n",
       "        vertical-align: top;\n",
       "    }\n",
       "\n",
       "    .dataframe thead th {\n",
       "        text-align: right;\n",
       "    }\n",
       "</style>\n",
       "<table border=\"1\" class=\"dataframe\">\n",
       "  <thead>\n",
       "    <tr style=\"text-align: right;\">\n",
       "      <th></th>\n",
       "      <th>Style</th>\n",
       "      <th>Price</th>\n",
       "      <th>Rating</th>\n",
       "      <th>Size</th>\n",
       "      <th>Season</th>\n",
       "      <th>NeckLine</th>\n",
       "      <th>SleeveLength</th>\n",
       "      <th>waiseline</th>\n",
       "      <th>Material</th>\n",
       "      <th>Pattern Type</th>\n",
       "      <th>Recommendation</th>\n",
       "    </tr>\n",
       "  </thead>\n",
       "  <tbody>\n",
       "    <tr>\n",
       "      <th>0</th>\n",
       "      <td>Sexy</td>\n",
       "      <td>Low</td>\n",
       "      <td>4.6</td>\n",
       "      <td>M</td>\n",
       "      <td>Summer</td>\n",
       "      <td>o-neck</td>\n",
       "      <td>sleevless</td>\n",
       "      <td>empire</td>\n",
       "      <td>cotton</td>\n",
       "      <td>animal</td>\n",
       "      <td>1</td>\n",
       "    </tr>\n",
       "    <tr>\n",
       "      <th>1</th>\n",
       "      <td>Casual</td>\n",
       "      <td>Low</td>\n",
       "      <td>0.0</td>\n",
       "      <td>L</td>\n",
       "      <td>Summer</td>\n",
       "      <td>o-neck</td>\n",
       "      <td>Petal</td>\n",
       "      <td>natural</td>\n",
       "      <td>microfiber</td>\n",
       "      <td>animal</td>\n",
       "      <td>0</td>\n",
       "    </tr>\n",
       "    <tr>\n",
       "      <th>2</th>\n",
       "      <td>vintage</td>\n",
       "      <td>High</td>\n",
       "      <td>0.0</td>\n",
       "      <td>L</td>\n",
       "      <td>Automn</td>\n",
       "      <td>o-neck</td>\n",
       "      <td>full</td>\n",
       "      <td>natural</td>\n",
       "      <td>polyster</td>\n",
       "      <td>print</td>\n",
       "      <td>0</td>\n",
       "    </tr>\n",
       "    <tr>\n",
       "      <th>3</th>\n",
       "      <td>Brief</td>\n",
       "      <td>Average</td>\n",
       "      <td>4.6</td>\n",
       "      <td>L</td>\n",
       "      <td>Spring</td>\n",
       "      <td>o-neck</td>\n",
       "      <td>full</td>\n",
       "      <td>natural</td>\n",
       "      <td>silk</td>\n",
       "      <td>print</td>\n",
       "      <td>1</td>\n",
       "    </tr>\n",
       "    <tr>\n",
       "      <th>4</th>\n",
       "      <td>cute</td>\n",
       "      <td>Low</td>\n",
       "      <td>4.5</td>\n",
       "      <td>M</td>\n",
       "      <td>Summer</td>\n",
       "      <td>o-neck</td>\n",
       "      <td>butterfly</td>\n",
       "      <td>natural</td>\n",
       "      <td>chiffonfabric</td>\n",
       "      <td>dot</td>\n",
       "      <td>0</td>\n",
       "    </tr>\n",
       "  </tbody>\n",
       "</table>\n",
       "</div>"
      ],
      "text/plain": [
       "     Style    Price  Rating Size  Season NeckLine SleeveLength waiseline  \\\n",
       "0     Sexy      Low     4.6    M  Summer   o-neck    sleevless    empire   \n",
       "1   Casual      Low     0.0    L  Summer   o-neck        Petal   natural   \n",
       "2  vintage     High     0.0    L  Automn   o-neck         full   natural   \n",
       "3    Brief  Average     4.6    L  Spring   o-neck         full   natural   \n",
       "4     cute      Low     4.5    M  Summer   o-neck    butterfly   natural   \n",
       "\n",
       "        Material Pattern Type  Recommendation  \n",
       "0         cotton       animal               1  \n",
       "1     microfiber       animal               0  \n",
       "2       polyster        print               0  \n",
       "3           silk        print               1  \n",
       "4  chiffonfabric          dot               0  "
      ]
     },
     "execution_count": 263,
     "metadata": {},
     "output_type": "execute_result"
    }
   ],
   "source": [
    "df.head()"
   ]
  },
  {
   "cell_type": "code",
   "execution_count": 264,
   "metadata": {},
   "outputs": [
    {
     "data": {
      "text/plain": [
       "Average      250\n",
       "Low          126\n",
       "low           45\n",
       "Medium        30\n",
       "very-high     21\n",
       "high          15\n",
       "High           6\n",
       "Name: Price, dtype: int64"
      ]
     },
     "execution_count": 264,
     "metadata": {},
     "output_type": "execute_result"
    }
   ],
   "source": [
    "df.Price.value_counts()"
   ]
  },
  {
   "cell_type": "code",
   "execution_count": 265,
   "metadata": {},
   "outputs": [],
   "source": [
    "df.Price.replace(to_replace=['Low', 'High','Medium','very-high'],value=['low','high','Average','high'],inplace=True)\n"
   ]
  },
  {
   "cell_type": "code",
   "execution_count": 266,
   "metadata": {},
   "outputs": [
    {
     "data": {
      "text/plain": [
       "Average    280\n",
       "low        171\n",
       "high        42\n",
       "Name: Price, dtype: int64"
      ]
     },
     "execution_count": 266,
     "metadata": {},
     "output_type": "execute_result"
    }
   ],
   "source": [
    "df.Price.value_counts()"
   ]
  },
  {
   "cell_type": "code",
   "execution_count": 267,
   "metadata": {},
   "outputs": [
    {
     "data": {
      "text/plain": [
       "Casual      230\n",
       "Sexy         68\n",
       "party        48\n",
       "cute         44\n",
       "vintage      25\n",
       "bohemian     24\n",
       "Brief        18\n",
       "work         17\n",
       "Novelty       8\n",
       "sexy          7\n",
       "Flare         2\n",
       "OL            1\n",
       "fashion       1\n",
       "Name: Style, dtype: int64"
      ]
     },
     "execution_count": 267,
     "metadata": {},
     "output_type": "execute_result"
    }
   ],
   "source": [
    "df.Style.value_counts()"
   ]
  },
  {
   "cell_type": "code",
   "execution_count": 268,
   "metadata": {},
   "outputs": [],
   "source": [
    "df.Style.replace(to_replace=['Sexy', 'Flare','OL','fashion'],value=['sexy','other','other','other'],inplace=True)"
   ]
  },
  {
   "cell_type": "code",
   "execution_count": 269,
   "metadata": {},
   "outputs": [
    {
     "data": {
      "text/plain": [
       "Casual      230\n",
       "sexy         75\n",
       "party        48\n",
       "cute         44\n",
       "vintage      25\n",
       "bohemian     24\n",
       "Brief        18\n",
       "work         17\n",
       "Novelty       8\n",
       "other         4\n",
       "Name: Style, dtype: int64"
      ]
     },
     "execution_count": 269,
     "metadata": {},
     "output_type": "execute_result"
    }
   ],
   "source": [
    "df.Style.value_counts()"
   ]
  },
  {
   "cell_type": "code",
   "execution_count": 270,
   "metadata": {},
   "outputs": [
    {
     "data": {
      "text/plain": [
       "0.0    118\n",
       "4.7     83\n",
       "4.8     55\n",
       "5.0     55\n",
       "4.6     54\n",
       "4.5     33\n",
       "4.4     27\n",
       "4.9     25\n",
       "4.3     19\n",
       "4.0      7\n",
       "4.2      6\n",
       "4.1      5\n",
       "3.7      2\n",
       "1.0      1\n",
       "3.5      1\n",
       "3.6      1\n",
       "3.0      1\n",
       "Name: Rating, dtype: int64"
      ]
     },
     "execution_count": 270,
     "metadata": {},
     "output_type": "execute_result"
    }
   ],
   "source": [
    "df.Rating.value_counts()"
   ]
  },
  {
   "cell_type": "code",
   "execution_count": 271,
   "metadata": {},
   "outputs": [
    {
     "data": {
      "text/plain": [
       "M        176\n",
       "free     170\n",
       "L         93\n",
       "S         37\n",
       "XL        15\n",
       "small      1\n",
       "s          1\n",
       "Name: Size, dtype: int64"
      ]
     },
     "execution_count": 271,
     "metadata": {},
     "output_type": "execute_result"
    }
   ],
   "source": [
    "df.Size.value_counts()"
   ]
  },
  {
   "cell_type": "code",
   "execution_count": 272,
   "metadata": {},
   "outputs": [
    {
     "data": {
      "text/plain": [
       "M       176\n",
       "free    170\n",
       "L        93\n",
       "S        39\n",
       "XL       15\n",
       "Name: Size, dtype: int64"
      ]
     },
     "execution_count": 272,
     "metadata": {},
     "output_type": "execute_result"
    }
   ],
   "source": [
    "df.Size.replace(to_replace=['small', 's'],value=['S','S'],inplace=True)\n",
    "df.Size.value_counts()"
   ]
  },
  {
   "cell_type": "code",
   "execution_count": 273,
   "metadata": {},
   "outputs": [
    {
     "data": {
      "text/plain": [
       "Summer    156\n",
       "Spring    122\n",
       "Winter     98\n",
       "Automn     61\n",
       "winter     45\n",
       "Autumn      8\n",
       "spring      2\n",
       "summer      1\n",
       "Name: Season, dtype: int64"
      ]
     },
     "execution_count": 273,
     "metadata": {},
     "output_type": "execute_result"
    }
   ],
   "source": [
    "df.Season.value_counts()"
   ]
  },
  {
   "cell_type": "code",
   "execution_count": 274,
   "metadata": {},
   "outputs": [
    {
     "data": {
      "text/plain": [
       "summer    157\n",
       "winter    143\n",
       "spring    124\n",
       "Autumn     69\n",
       "Name: Season, dtype: int64"
      ]
     },
     "execution_count": 274,
     "metadata": {},
     "output_type": "execute_result"
    }
   ],
   "source": [
    "df.Season.replace(to_replace=['Summer', 'Winter','Spring','Automn'],value=['summer','winter','spring','Autumn'],inplace=True)\n",
    "df.Season.value_counts()"
   ]
  },
  {
   "cell_type": "code",
   "execution_count": 275,
   "metadata": {},
   "outputs": [
    {
     "data": {
      "text/plain": [
       "o-neck             269\n",
       "v-neck             123\n",
       "slash-neck          25\n",
       "boat-neck           19\n",
       "turndowncollor      13\n",
       "Sweetheart          13\n",
       "bowneck             10\n",
       "peterpan-collor      6\n",
       "sqare-collor         5\n",
       "open                 3\n",
       "Scoop                2\n",
       "mandarin-collor      1\n",
       "ruffled              1\n",
       "sweetheart           1\n",
       "backless             1\n",
       "halter               1\n",
       "Name: NeckLine, dtype: int64"
      ]
     },
     "execution_count": 275,
     "metadata": {},
     "output_type": "execute_result"
    }
   ],
   "source": [
    "df.NeckLine.value_counts()"
   ]
  },
  {
   "cell_type": "code",
   "execution_count": 276,
   "metadata": {},
   "outputs": [
    {
     "data": {
      "text/plain": [
       "sleevless         220\n",
       "short              96\n",
       "full               95\n",
       "halfsleeve         35\n",
       "threequarter       17\n",
       "thressqatar        10\n",
       "sleeveless          5\n",
       "sleeevless          3\n",
       "capsleeves          3\n",
       "cap-sleeves         2\n",
       "sleveless           1\n",
       "threequater         1\n",
       "Petal               1\n",
       "urndowncollor       1\n",
       "butterfly           1\n",
       "turndowncollor      1\n",
       "half                1\n",
       "Name: SleeveLength, dtype: int64"
      ]
     },
     "execution_count": 276,
     "metadata": {},
     "output_type": "execute_result"
    }
   ],
   "source": [
    "df.SleeveLength.value_counts()"
   ]
  },
  {
   "cell_type": "code",
   "execution_count": 277,
   "metadata": {},
   "outputs": [
    {
     "data": {
      "text/plain": [
       "sleevless         225\n",
       "short              96\n",
       "full               95\n",
       "halfsleeve         36\n",
       "threequarter       17\n",
       "thressqatar        10\n",
       "capsleeves          5\n",
       "sleeveless          3\n",
       "Petal               1\n",
       "threequater         1\n",
       "sleveless           1\n",
       "urndowncollor       1\n",
       "butterfly           1\n",
       "turndowncollor      1\n",
       "Name: SleeveLength, dtype: int64"
      ]
     },
     "execution_count": 277,
     "metadata": {},
     "output_type": "execute_result"
    }
   ],
   "source": [
    "df.SleeveLength.replace(to_replace=['sleeveless', 'cap-sleeves','sleeevless','half','thressqatar'],value=['sleevless','capsleeves','sleeveless','halfsleeve','thressqatar'],inplace=True)\n",
    "df.SleeveLength.value_counts()"
   ]
  },
  {
   "cell_type": "code",
   "execution_count": 278,
   "metadata": {},
   "outputs": [
    {
     "data": {
      "text/plain": [
       "sleevless         228\n",
       "short              96\n",
       "full               95\n",
       "halfsleeve         36\n",
       "threequater        28\n",
       "capsleeves          5\n",
       "Petal               1\n",
       "sleveless           1\n",
       "urndowncollor       1\n",
       "butterfly           1\n",
       "turndowncollor      1\n",
       "Name: SleeveLength, dtype: int64"
      ]
     },
     "execution_count": 278,
     "metadata": {},
     "output_type": "execute_result"
    }
   ],
   "source": [
    "df.SleeveLength.replace(to_replace=['sleeveless','thressqatar','threequarter','thressqatar'],value=['sleevless','threequater','threequater','threequater'],inplace=True)\n",
    "df.SleeveLength.value_counts()"
   ]
  },
  {
   "cell_type": "code",
   "execution_count": 279,
   "metadata": {},
   "outputs": [
    {
     "data": {
      "text/plain": [
       "natural     387\n",
       "empire      102\n",
       "dropped       3\n",
       "princess      1\n",
       "Name: waiseline, dtype: int64"
      ]
     },
     "execution_count": 279,
     "metadata": {},
     "output_type": "execute_result"
    }
   ],
   "source": [
    "df.waiseline.value_counts()"
   ]
  },
  {
   "cell_type": "code",
   "execution_count": 280,
   "metadata": {},
   "outputs": [
    {
     "data": {
      "text/plain": [
       "cotton           273\n",
       "polyster          99\n",
       "silk              26\n",
       "chiffonfabric     25\n",
       "mix               12\n",
       "nylon             10\n",
       "rayon             10\n",
       "spandex            5\n",
       "milksilk           5\n",
       "cashmere           4\n",
       "acrylic            3\n",
       "linen              3\n",
       "microfiber         3\n",
       "lycra              3\n",
       "other              2\n",
       "shiffon            2\n",
       "viscos             2\n",
       "model              1\n",
       "lace               1\n",
       "sill               1\n",
       "knitting           1\n",
       "wool               1\n",
       "modal              1\n",
       "Name: Material, dtype: int64"
      ]
     },
     "execution_count": 280,
     "metadata": {},
     "output_type": "execute_result"
    }
   ],
   "source": [
    "df.Material.value_counts()"
   ]
  },
  {
   "cell_type": "code",
   "execution_count": 281,
   "metadata": {},
   "outputs": [
    {
     "data": {
      "text/plain": [
       "solid        306\n",
       "print         71\n",
       "patchwork     47\n",
       "animal        21\n",
       "striped       17\n",
       "dot           14\n",
       "geometric      5\n",
       "plaid          3\n",
       "leopard        3\n",
       "floral         2\n",
       "character      1\n",
       "none           1\n",
       "splice         1\n",
       "leapord        1\n",
       "Name: Pattern Type, dtype: int64"
      ]
     },
     "execution_count": 281,
     "metadata": {},
     "output_type": "execute_result"
    }
   ],
   "source": [
    "df['Pattern Type'].value_counts()"
   ]
  },
  {
   "cell_type": "code",
   "execution_count": 282,
   "metadata": {},
   "outputs": [
    {
     "data": {
      "text/plain": [
       "solid        306\n",
       "print         71\n",
       "patchwork     47\n",
       "animal        21\n",
       "striped       17\n",
       "dot           14\n",
       "geometric      5\n",
       "leopard        4\n",
       "plaid          3\n",
       "floral         2\n",
       "character      1\n",
       "none           1\n",
       "splice         1\n",
       "Name: Pattern Type, dtype: int64"
      ]
     },
     "execution_count": 282,
     "metadata": {},
     "output_type": "execute_result"
    }
   ],
   "source": [
    "df['Pattern Type'].replace(to_replace=['leapord'],value=['leopard'],inplace=True)\n",
    "df['Pattern Type'].value_counts()"
   ]
  },
  {
   "cell_type": "code",
   "execution_count": 283,
   "metadata": {},
   "outputs": [
    {
     "data": {
      "text/plain": [
       "solid        306\n",
       "print         71\n",
       "patchwork     47\n",
       "animal        25\n",
       "striped       17\n",
       "dot           14\n",
       "geometric      5\n",
       "plaid          3\n",
       "floral         2\n",
       "character      1\n",
       "none           1\n",
       "splice         1\n",
       "Name: Pattern Type, dtype: int64"
      ]
     },
     "execution_count": 283,
     "metadata": {},
     "output_type": "execute_result"
    }
   ],
   "source": [
    "df['Pattern Type'].replace(to_replace=['leopard'],value=['animal'],inplace=True)\n",
    "df['Pattern Type'].value_counts()"
   ]
  },
  {
   "cell_type": "code",
   "execution_count": 284,
   "metadata": {},
   "outputs": [
    {
     "data": {
      "text/plain": [
       "solid        310\n",
       "print         71\n",
       "patchwork     47\n",
       "animal        25\n",
       "striped       17\n",
       "dot           14\n",
       "geometric      5\n",
       "floral         2\n",
       "character      1\n",
       "splice         1\n",
       "Name: Pattern Type, dtype: int64"
      ]
     },
     "execution_count": 284,
     "metadata": {},
     "output_type": "execute_result"
    }
   ],
   "source": [
    "df['Pattern Type'].replace(to_replace=['plaid','none'],value=['solid','solid'],inplace=True)\n",
    "df['Pattern Type'].value_counts()"
   ]
  },
  {
   "cell_type": "code",
   "execution_count": 285,
   "metadata": {},
   "outputs": [
    {
     "data": {
      "text/html": [
       "<div>\n",
       "<style scoped>\n",
       "    .dataframe tbody tr th:only-of-type {\n",
       "        vertical-align: middle;\n",
       "    }\n",
       "\n",
       "    .dataframe tbody tr th {\n",
       "        vertical-align: top;\n",
       "    }\n",
       "\n",
       "    .dataframe thead th {\n",
       "        text-align: right;\n",
       "    }\n",
       "</style>\n",
       "<table border=\"1\" class=\"dataframe\">\n",
       "  <thead>\n",
       "    <tr style=\"text-align: right;\">\n",
       "      <th></th>\n",
       "      <th>Style</th>\n",
       "      <th>Price</th>\n",
       "      <th>Rating</th>\n",
       "      <th>Size</th>\n",
       "      <th>Season</th>\n",
       "      <th>NeckLine</th>\n",
       "      <th>SleeveLength</th>\n",
       "      <th>waiseline</th>\n",
       "      <th>Material</th>\n",
       "      <th>Pattern Type</th>\n",
       "      <th>Recommendation</th>\n",
       "    </tr>\n",
       "  </thead>\n",
       "  <tbody>\n",
       "    <tr>\n",
       "      <th>0</th>\n",
       "      <td>sexy</td>\n",
       "      <td>low</td>\n",
       "      <td>4.6</td>\n",
       "      <td>M</td>\n",
       "      <td>summer</td>\n",
       "      <td>o-neck</td>\n",
       "      <td>sleevless</td>\n",
       "      <td>empire</td>\n",
       "      <td>cotton</td>\n",
       "      <td>animal</td>\n",
       "      <td>1</td>\n",
       "    </tr>\n",
       "    <tr>\n",
       "      <th>1</th>\n",
       "      <td>Casual</td>\n",
       "      <td>low</td>\n",
       "      <td>0.0</td>\n",
       "      <td>L</td>\n",
       "      <td>summer</td>\n",
       "      <td>o-neck</td>\n",
       "      <td>Petal</td>\n",
       "      <td>natural</td>\n",
       "      <td>microfiber</td>\n",
       "      <td>animal</td>\n",
       "      <td>0</td>\n",
       "    </tr>\n",
       "    <tr>\n",
       "      <th>2</th>\n",
       "      <td>vintage</td>\n",
       "      <td>high</td>\n",
       "      <td>0.0</td>\n",
       "      <td>L</td>\n",
       "      <td>Autumn</td>\n",
       "      <td>o-neck</td>\n",
       "      <td>full</td>\n",
       "      <td>natural</td>\n",
       "      <td>polyster</td>\n",
       "      <td>print</td>\n",
       "      <td>0</td>\n",
       "    </tr>\n",
       "    <tr>\n",
       "      <th>3</th>\n",
       "      <td>Brief</td>\n",
       "      <td>Average</td>\n",
       "      <td>4.6</td>\n",
       "      <td>L</td>\n",
       "      <td>spring</td>\n",
       "      <td>o-neck</td>\n",
       "      <td>full</td>\n",
       "      <td>natural</td>\n",
       "      <td>silk</td>\n",
       "      <td>print</td>\n",
       "      <td>1</td>\n",
       "    </tr>\n",
       "    <tr>\n",
       "      <th>4</th>\n",
       "      <td>cute</td>\n",
       "      <td>low</td>\n",
       "      <td>4.5</td>\n",
       "      <td>M</td>\n",
       "      <td>summer</td>\n",
       "      <td>o-neck</td>\n",
       "      <td>butterfly</td>\n",
       "      <td>natural</td>\n",
       "      <td>chiffonfabric</td>\n",
       "      <td>dot</td>\n",
       "      <td>0</td>\n",
       "    </tr>\n",
       "  </tbody>\n",
       "</table>\n",
       "</div>"
      ],
      "text/plain": [
       "     Style    Price  Rating Size  Season NeckLine SleeveLength waiseline  \\\n",
       "0     sexy      low     4.6    M  summer   o-neck    sleevless    empire   \n",
       "1   Casual      low     0.0    L  summer   o-neck        Petal   natural   \n",
       "2  vintage     high     0.0    L  Autumn   o-neck         full   natural   \n",
       "3    Brief  Average     4.6    L  spring   o-neck         full   natural   \n",
       "4     cute      low     4.5    M  summer   o-neck    butterfly   natural   \n",
       "\n",
       "        Material Pattern Type  Recommendation  \n",
       "0         cotton       animal               1  \n",
       "1     microfiber       animal               0  \n",
       "2       polyster        print               0  \n",
       "3           silk        print               1  \n",
       "4  chiffonfabric          dot               0  "
      ]
     },
     "execution_count": 285,
     "metadata": {},
     "output_type": "execute_result"
    }
   ],
   "source": [
    "df.head()"
   ]
  },
  {
   "cell_type": "code",
   "execution_count": 286,
   "metadata": {},
   "outputs": [],
   "source": [
    "df_org_cleanded = df.copy()"
   ]
  },
  {
   "cell_type": "code",
   "execution_count": 287,
   "metadata": {},
   "outputs": [
    {
     "data": {
      "text/html": [
       "<div>\n",
       "<style scoped>\n",
       "    .dataframe tbody tr th:only-of-type {\n",
       "        vertical-align: middle;\n",
       "    }\n",
       "\n",
       "    .dataframe tbody tr th {\n",
       "        vertical-align: top;\n",
       "    }\n",
       "\n",
       "    .dataframe thead th {\n",
       "        text-align: right;\n",
       "    }\n",
       "</style>\n",
       "<table border=\"1\" class=\"dataframe\">\n",
       "  <thead>\n",
       "    <tr style=\"text-align: right;\">\n",
       "      <th></th>\n",
       "      <th>Style</th>\n",
       "      <th>Price</th>\n",
       "      <th>Rating</th>\n",
       "      <th>Size</th>\n",
       "      <th>Season</th>\n",
       "      <th>NeckLine</th>\n",
       "      <th>SleeveLength</th>\n",
       "      <th>waiseline</th>\n",
       "      <th>Material</th>\n",
       "      <th>Pattern Type</th>\n",
       "      <th>Recommendation</th>\n",
       "    </tr>\n",
       "  </thead>\n",
       "  <tbody>\n",
       "    <tr>\n",
       "      <th>0</th>\n",
       "      <td>sexy</td>\n",
       "      <td>low</td>\n",
       "      <td>4.6</td>\n",
       "      <td>M</td>\n",
       "      <td>summer</td>\n",
       "      <td>o-neck</td>\n",
       "      <td>sleevless</td>\n",
       "      <td>empire</td>\n",
       "      <td>cotton</td>\n",
       "      <td>animal</td>\n",
       "      <td>1</td>\n",
       "    </tr>\n",
       "    <tr>\n",
       "      <th>1</th>\n",
       "      <td>Casual</td>\n",
       "      <td>low</td>\n",
       "      <td>0.0</td>\n",
       "      <td>L</td>\n",
       "      <td>summer</td>\n",
       "      <td>o-neck</td>\n",
       "      <td>Petal</td>\n",
       "      <td>natural</td>\n",
       "      <td>microfiber</td>\n",
       "      <td>animal</td>\n",
       "      <td>0</td>\n",
       "    </tr>\n",
       "    <tr>\n",
       "      <th>2</th>\n",
       "      <td>vintage</td>\n",
       "      <td>high</td>\n",
       "      <td>0.0</td>\n",
       "      <td>L</td>\n",
       "      <td>Autumn</td>\n",
       "      <td>o-neck</td>\n",
       "      <td>full</td>\n",
       "      <td>natural</td>\n",
       "      <td>polyster</td>\n",
       "      <td>print</td>\n",
       "      <td>0</td>\n",
       "    </tr>\n",
       "    <tr>\n",
       "      <th>3</th>\n",
       "      <td>Brief</td>\n",
       "      <td>Average</td>\n",
       "      <td>4.6</td>\n",
       "      <td>L</td>\n",
       "      <td>spring</td>\n",
       "      <td>o-neck</td>\n",
       "      <td>full</td>\n",
       "      <td>natural</td>\n",
       "      <td>silk</td>\n",
       "      <td>print</td>\n",
       "      <td>1</td>\n",
       "    </tr>\n",
       "    <tr>\n",
       "      <th>4</th>\n",
       "      <td>cute</td>\n",
       "      <td>low</td>\n",
       "      <td>4.5</td>\n",
       "      <td>M</td>\n",
       "      <td>summer</td>\n",
       "      <td>o-neck</td>\n",
       "      <td>butterfly</td>\n",
       "      <td>natural</td>\n",
       "      <td>chiffonfabric</td>\n",
       "      <td>dot</td>\n",
       "      <td>0</td>\n",
       "    </tr>\n",
       "  </tbody>\n",
       "</table>\n",
       "</div>"
      ],
      "text/plain": [
       "     Style    Price  Rating Size  Season NeckLine SleeveLength waiseline  \\\n",
       "0     sexy      low     4.6    M  summer   o-neck    sleevless    empire   \n",
       "1   Casual      low     0.0    L  summer   o-neck        Petal   natural   \n",
       "2  vintage     high     0.0    L  Autumn   o-neck         full   natural   \n",
       "3    Brief  Average     4.6    L  spring   o-neck         full   natural   \n",
       "4     cute      low     4.5    M  summer   o-neck    butterfly   natural   \n",
       "\n",
       "        Material Pattern Type  Recommendation  \n",
       "0         cotton       animal               1  \n",
       "1     microfiber       animal               0  \n",
       "2       polyster        print               0  \n",
       "3           silk        print               1  \n",
       "4  chiffonfabric          dot               0  "
      ]
     },
     "execution_count": 287,
     "metadata": {},
     "output_type": "execute_result"
    }
   ],
   "source": [
    "df_org_cleanded.head()"
   ]
  },
  {
   "cell_type": "code",
   "execution_count": 288,
   "metadata": {},
   "outputs": [],
   "source": [
    "from sklearn.preprocessing import LabelEncoder"
   ]
  },
  {
   "cell_type": "code",
   "execution_count": 289,
   "metadata": {},
   "outputs": [],
   "source": [
    "le = LabelEncoder()"
   ]
  },
  {
   "cell_type": "code",
   "execution_count": 290,
   "metadata": {},
   "outputs": [
    {
     "data": {
      "text/plain": [
       "Index(['Style', 'Price', 'Rating', 'Size', 'Season', 'NeckLine',\n",
       "       'SleeveLength', 'waiseline', 'Material', 'Pattern Type',\n",
       "       'Recommendation'],\n",
       "      dtype='object')"
      ]
     },
     "execution_count": 290,
     "metadata": {},
     "output_type": "execute_result"
    }
   ],
   "source": [
    "df.columns"
   ]
  },
  {
   "cell_type": "code",
   "execution_count": 291,
   "metadata": {},
   "outputs": [
    {
     "data": {
      "text/plain": [
       "['Style',\n",
       " 'Price',\n",
       " 'Size',\n",
       " 'Season',\n",
       " 'NeckLine',\n",
       " 'SleeveLength',\n",
       " 'waiseline',\n",
       " 'Material',\n",
       " 'Pattern Type']"
      ]
     },
     "execution_count": 291,
     "metadata": {},
     "output_type": "execute_result"
    }
   ],
   "source": [
    "clm_list = ['Style', 'Price', 'Size', 'Season', 'NeckLine',\n",
    "       'SleeveLength', 'waiseline', 'Material', 'Pattern Type']\n",
    "clm_list"
   ]
  },
  {
   "cell_type": "code",
   "execution_count": 292,
   "metadata": {},
   "outputs": [],
   "source": [
    "le = LabelEncoder()\n",
    "df[clm_list] = df[clm_list].apply(le.fit_transform)"
   ]
  },
  {
   "cell_type": "code",
   "execution_count": 293,
   "metadata": {},
   "outputs": [
    {
     "data": {
      "text/html": [
       "<div>\n",
       "<style scoped>\n",
       "    .dataframe tbody tr th:only-of-type {\n",
       "        vertical-align: middle;\n",
       "    }\n",
       "\n",
       "    .dataframe tbody tr th {\n",
       "        vertical-align: top;\n",
       "    }\n",
       "\n",
       "    .dataframe thead th {\n",
       "        text-align: right;\n",
       "    }\n",
       "</style>\n",
       "<table border=\"1\" class=\"dataframe\">\n",
       "  <thead>\n",
       "    <tr style=\"text-align: right;\">\n",
       "      <th></th>\n",
       "      <th>Style</th>\n",
       "      <th>Price</th>\n",
       "      <th>Rating</th>\n",
       "      <th>Size</th>\n",
       "      <th>Season</th>\n",
       "      <th>NeckLine</th>\n",
       "      <th>SleeveLength</th>\n",
       "      <th>waiseline</th>\n",
       "      <th>Material</th>\n",
       "      <th>Pattern Type</th>\n",
       "      <th>Recommendation</th>\n",
       "    </tr>\n",
       "  </thead>\n",
       "  <tbody>\n",
       "    <tr>\n",
       "      <th>0</th>\n",
       "      <td>7</td>\n",
       "      <td>2</td>\n",
       "      <td>4.6</td>\n",
       "      <td>1</td>\n",
       "      <td>2</td>\n",
       "      <td>7</td>\n",
       "      <td>6</td>\n",
       "      <td>1</td>\n",
       "      <td>3</td>\n",
       "      <td>0</td>\n",
       "      <td>1</td>\n",
       "    </tr>\n",
       "    <tr>\n",
       "      <th>1</th>\n",
       "      <td>1</td>\n",
       "      <td>2</td>\n",
       "      <td>0.0</td>\n",
       "      <td>0</td>\n",
       "      <td>2</td>\n",
       "      <td>7</td>\n",
       "      <td>0</td>\n",
       "      <td>2</td>\n",
       "      <td>8</td>\n",
       "      <td>0</td>\n",
       "      <td>0</td>\n",
       "    </tr>\n",
       "    <tr>\n",
       "      <th>2</th>\n",
       "      <td>8</td>\n",
       "      <td>1</td>\n",
       "      <td>0.0</td>\n",
       "      <td>0</td>\n",
       "      <td>0</td>\n",
       "      <td>7</td>\n",
       "      <td>3</td>\n",
       "      <td>2</td>\n",
       "      <td>15</td>\n",
       "      <td>6</td>\n",
       "      <td>0</td>\n",
       "    </tr>\n",
       "    <tr>\n",
       "      <th>3</th>\n",
       "      <td>0</td>\n",
       "      <td>0</td>\n",
       "      <td>4.6</td>\n",
       "      <td>0</td>\n",
       "      <td>1</td>\n",
       "      <td>7</td>\n",
       "      <td>3</td>\n",
       "      <td>2</td>\n",
       "      <td>18</td>\n",
       "      <td>6</td>\n",
       "      <td>1</td>\n",
       "    </tr>\n",
       "    <tr>\n",
       "      <th>4</th>\n",
       "      <td>4</td>\n",
       "      <td>2</td>\n",
       "      <td>4.5</td>\n",
       "      <td>1</td>\n",
       "      <td>2</td>\n",
       "      <td>7</td>\n",
       "      <td>1</td>\n",
       "      <td>2</td>\n",
       "      <td>2</td>\n",
       "      <td>2</td>\n",
       "      <td>0</td>\n",
       "    </tr>\n",
       "  </tbody>\n",
       "</table>\n",
       "</div>"
      ],
      "text/plain": [
       "   Style  Price  Rating  Size  Season  NeckLine  SleeveLength  waiseline  \\\n",
       "0      7      2     4.6     1       2         7             6          1   \n",
       "1      1      2     0.0     0       2         7             0          2   \n",
       "2      8      1     0.0     0       0         7             3          2   \n",
       "3      0      0     4.6     0       1         7             3          2   \n",
       "4      4      2     4.5     1       2         7             1          2   \n",
       "\n",
       "   Material  Pattern Type  Recommendation  \n",
       "0         3             0               1  \n",
       "1         8             0               0  \n",
       "2        15             6               0  \n",
       "3        18             6               1  \n",
       "4         2             2               0  "
      ]
     },
     "execution_count": 293,
     "metadata": {},
     "output_type": "execute_result"
    }
   ],
   "source": [
    "df.head()"
   ]
  },
  {
   "cell_type": "code",
   "execution_count": 294,
   "metadata": {},
   "outputs": [],
   "source": [
    "from sklearn.preprocessing import StandardScaler\n",
    "scaler = StandardScaler()"
   ]
  },
  {
   "cell_type": "code",
   "execution_count": 295,
   "metadata": {},
   "outputs": [
    {
     "data": {
      "text/html": [
       "<div>\n",
       "<style scoped>\n",
       "    .dataframe tbody tr th:only-of-type {\n",
       "        vertical-align: middle;\n",
       "    }\n",
       "\n",
       "    .dataframe tbody tr th {\n",
       "        vertical-align: top;\n",
       "    }\n",
       "\n",
       "    .dataframe thead th {\n",
       "        text-align: right;\n",
       "    }\n",
       "</style>\n",
       "<table border=\"1\" class=\"dataframe\">\n",
       "  <thead>\n",
       "    <tr style=\"text-align: right;\">\n",
       "      <th></th>\n",
       "      <th>Style</th>\n",
       "      <th>Price</th>\n",
       "      <th>Rating</th>\n",
       "      <th>Size</th>\n",
       "      <th>Season</th>\n",
       "      <th>NeckLine</th>\n",
       "      <th>SleeveLength</th>\n",
       "      <th>waiseline</th>\n",
       "      <th>Material</th>\n",
       "      <th>Pattern Type</th>\n",
       "    </tr>\n",
       "  </thead>\n",
       "  <tbody>\n",
       "    <tr>\n",
       "      <th>0</th>\n",
       "      <td>1.271187</td>\n",
       "      <td>1.312229</td>\n",
       "      <td>0.533581</td>\n",
       "      <td>-0.620861</td>\n",
       "      <td>0.236334</td>\n",
       "      <td>-0.512796</td>\n",
       "      <td>0.593387</td>\n",
       "      <td>-1.814668</td>\n",
       "      <td>-0.719663</td>\n",
       "      <td>-3.343164</td>\n",
       "    </tr>\n",
       "    <tr>\n",
       "      <th>1</th>\n",
       "      <td>-0.852004</td>\n",
       "      <td>1.312229</td>\n",
       "      <td>-1.764282</td>\n",
       "      <td>-1.250665</td>\n",
       "      <td>0.236334</td>\n",
       "      <td>-0.512796</td>\n",
       "      <td>-3.585755</td>\n",
       "      <td>0.503030</td>\n",
       "      <td>0.108521</td>\n",
       "      <td>-3.343164</td>\n",
       "    </tr>\n",
       "    <tr>\n",
       "      <th>2</th>\n",
       "      <td>1.625053</td>\n",
       "      <td>0.237596</td>\n",
       "      <td>-1.764282</td>\n",
       "      <td>-1.250665</td>\n",
       "      <td>-1.721859</td>\n",
       "      <td>-0.512796</td>\n",
       "      <td>-1.496184</td>\n",
       "      <td>0.503030</td>\n",
       "      <td>1.267979</td>\n",
       "      <td>-0.097651</td>\n",
       "    </tr>\n",
       "    <tr>\n",
       "      <th>3</th>\n",
       "      <td>-1.205870</td>\n",
       "      <td>-0.837036</td>\n",
       "      <td>0.533581</td>\n",
       "      <td>-1.250665</td>\n",
       "      <td>-0.742763</td>\n",
       "      <td>-0.512796</td>\n",
       "      <td>-1.496184</td>\n",
       "      <td>0.503030</td>\n",
       "      <td>1.764889</td>\n",
       "      <td>-0.097651</td>\n",
       "    </tr>\n",
       "    <tr>\n",
       "      <th>4</th>\n",
       "      <td>0.209592</td>\n",
       "      <td>1.312229</td>\n",
       "      <td>0.483627</td>\n",
       "      <td>-0.620861</td>\n",
       "      <td>0.236334</td>\n",
       "      <td>-0.512796</td>\n",
       "      <td>-2.889231</td>\n",
       "      <td>0.503030</td>\n",
       "      <td>-0.885300</td>\n",
       "      <td>-2.261326</td>\n",
       "    </tr>\n",
       "  </tbody>\n",
       "</table>\n",
       "</div>"
      ],
      "text/plain": [
       "      Style     Price    Rating      Size    Season  NeckLine  SleeveLength  \\\n",
       "0  1.271187  1.312229  0.533581 -0.620861  0.236334 -0.512796      0.593387   \n",
       "1 -0.852004  1.312229 -1.764282 -1.250665  0.236334 -0.512796     -3.585755   \n",
       "2  1.625053  0.237596 -1.764282 -1.250665 -1.721859 -0.512796     -1.496184   \n",
       "3 -1.205870 -0.837036  0.533581 -1.250665 -0.742763 -0.512796     -1.496184   \n",
       "4  0.209592  1.312229  0.483627 -0.620861  0.236334 -0.512796     -2.889231   \n",
       "\n",
       "   waiseline  Material  Pattern Type  \n",
       "0  -1.814668 -0.719663     -3.343164  \n",
       "1   0.503030  0.108521     -3.343164  \n",
       "2   0.503030  1.267979     -0.097651  \n",
       "3   0.503030  1.764889     -0.097651  \n",
       "4   0.503030 -0.885300     -2.261326  "
      ]
     },
     "execution_count": 295,
     "metadata": {},
     "output_type": "execute_result"
    }
   ],
   "source": [
    "df_2 = scaler.fit_transform(df.drop(\"Recommendation\", axis=1))\n",
    "df_2 = pd.DataFrame(df_2)\n",
    "df_2.columns = df.columns[:-1]\n",
    "df_2.head()"
   ]
  },
  {
   "cell_type": "code",
   "execution_count": 305,
   "metadata": {},
   "outputs": [
    {
     "data": {
      "text/plain": [
       "Index(['Style', 'Price', 'Rating', 'Size', 'Season', 'NeckLine',\n",
       "       'SleeveLength', 'waiseline', 'Material', 'Pattern Type'],\n",
       "      dtype='object')"
      ]
     },
     "execution_count": 305,
     "metadata": {},
     "output_type": "execute_result"
    }
   ],
   "source": [
    "df_2.columns"
   ]
  },
  {
   "cell_type": "code",
   "execution_count": 296,
   "metadata": {},
   "outputs": [],
   "source": [
    "# Let's run K-Means with different value of  K to check SILHOUETTE SCORE\n",
    "from sklearn.metrics import silhouette_score\n",
    "sil = []\n",
    "for k in range(2,11):\n",
    "    kmean = KMeans(n_clusters=k, random_state=0).fit(df_2)\n",
    "    \n",
    "    sil.append([k,silhouette_score(df_2,kmean.labels_)])\n",
    "   "
   ]
  },
  {
   "cell_type": "code",
   "execution_count": 297,
   "metadata": {},
   "outputs": [
    {
     "data": {
      "text/plain": [
       "[[2, 0.11392095169581569],\n",
       " [3, 0.12053710422589478],\n",
       " [4, 0.1309641339715845],\n",
       " [5, 0.11516925338581026],\n",
       " [6, 0.11321083758638226],\n",
       " [7, 0.10370226397913249],\n",
       " [8, 0.11515105689431161],\n",
       " [9, 0.11313873261959903],\n",
       " [10, 0.1134574279182921]]"
      ]
     },
     "execution_count": 297,
     "metadata": {},
     "output_type": "execute_result"
    }
   ],
   "source": [
    "sil"
   ]
  },
  {
   "cell_type": "code",
   "execution_count": 298,
   "metadata": {},
   "outputs": [
    {
     "data": {
      "image/png": "[encoded data removed]",
      "text/plain": [
       "<Figure size 432x288 with 1 Axes>"
      ]
     },
     "metadata": {
      "needs_background": "light"
     },
     "output_type": "display_data"
    }
   ],
   "source": [
    "sil = pd.DataFrame(sil)\n",
    "plt.plot(sil[0], sil[1])\n",
    "plt.show()"
   ]
  },
  {
   "cell_type": "code",
   "execution_count": 299,
   "metadata": {},
   "outputs": [],
   "source": [
    "kmean = KMeans(n_clusters=4, random_state=0).fit(df_2)"
   ]
  },
  {
   "cell_type": "code",
   "execution_count": 300,
   "metadata": {},
   "outputs": [
    {
     "data": {
      "text/plain": [
       "array([3, 3, 0, 1, 3, 0, 0, 0, 0, 0, 1, 3, 2, 3, 2, 0, 1, 1, 0, 1, 1, 2,\n",
       "       2, 1, 0, 0, 1, 0, 2, 3, 1, 0, 3, 1, 1, 2, 1, 0, 1, 1, 1, 2, 1, 2,\n",
       "       1, 0, 1, 3, 2, 0, 3, 3, 0, 1, 1, 0, 1, 2, 2, 0, 0, 0, 3, 1, 2, 1,\n",
       "       0, 1, 1, 0, 1, 0, 1, 2, 2, 3, 1, 0, 0, 2, 3, 1, 2, 2, 0, 2, 0, 1,\n",
       "       2, 1, 0, 1, 0, 2, 3, 0, 0, 0, 2, 2, 1, 1, 0, 3, 1, 1, 3, 2, 0, 1,\n",
       "       0, 2, 0, 1, 1, 1, 1, 2, 2, 1, 1, 0, 3, 0, 1, 1, 3, 2, 1, 0, 0, 1,\n",
       "       1, 1, 1, 0, 0, 1, 2, 1, 0, 2, 2, 3, 0, 2, 2, 1, 1, 2, 1, 0, 2, 0,\n",
       "       0, 0, 0, 1, 2, 2, 1, 0, 1, 1, 3, 0, 1, 1, 3, 1, 2, 2, 1, 1, 0, 3,\n",
       "       2, 1, 3, 0, 1, 2, 3, 1, 2, 0, 1, 0, 2, 1, 2, 1, 0, 3, 2, 1, 0, 1,\n",
       "       1, 3, 1, 1, 1, 1, 1, 1, 0, 1, 2, 2, 1, 1, 2, 1, 3, 2, 2, 2, 1, 0,\n",
       "       1, 0, 2, 1, 0, 2, 1, 1, 2, 1, 1, 2, 0, 2, 3, 1, 2, 1, 1, 1, 1, 1,\n",
       "       1, 0, 2, 1, 2, 3, 2, 2, 0, 1, 1, 0, 0, 2, 0, 0, 0, 1, 1, 1, 1, 1,\n",
       "       1, 0, 1, 1, 1, 1, 1, 2, 1, 0, 1, 1, 1, 1, 1, 1, 1, 1, 1, 1, 2, 1,\n",
       "       1, 0, 1, 1, 2, 0, 1, 0, 1, 1, 2, 1, 1, 1, 1, 1, 1, 2, 1, 2, 0, 1,\n",
       "       0, 2, 1, 1, 2, 0, 1, 1, 0, 1, 3, 2, 1, 2, 2, 2, 2, 0, 0, 2, 2, 2,\n",
       "       1, 2, 2, 1, 1, 2, 2, 1, 2, 1, 1, 0, 1, 2, 0, 2, 1, 0, 2, 1, 2, 2,\n",
       "       2, 2, 2, 1, 1, 0, 1, 1, 1, 1, 1, 1, 1, 1, 2, 1, 0, 1, 2, 1, 1, 2,\n",
       "       1, 2, 1, 1, 3, 0, 1, 2, 0, 1, 0, 3, 0, 1, 2, 1, 1, 3, 0, 1, 2, 0,\n",
       "       3, 0, 1, 1, 1, 2, 1, 0, 2, 3, 3, 1, 2, 1, 1, 2, 2, 3, 3, 1, 1, 1,\n",
       "       2, 3, 0, 0, 0, 2, 0, 1, 1, 0, 1, 1, 1, 2, 2, 2, 2, 0, 0, 2, 2, 1,\n",
       "       1, 1, 1, 2, 2, 1, 1, 1, 0, 0, 2, 1, 1, 2, 1, 3, 1, 0, 1, 1, 2, 1,\n",
       "       1, 0, 3, 1, 1, 1, 0, 2, 0, 1, 0, 2, 0, 1, 1, 2, 2, 0, 0, 2, 0, 2,\n",
       "       1, 1, 2, 1, 2, 2, 1, 1, 2])"
      ]
     },
     "execution_count": 300,
     "metadata": {},
     "output_type": "execute_result"
    }
   ],
   "source": [
    "kmean.labels_"
   ]
  },
  {
   "cell_type": "code",
   "execution_count": 301,
   "metadata": {},
   "outputs": [],
   "source": [
    "df_org_cleanded['label'] = kmean.labels_"
   ]
  },
  {
   "cell_type": "code",
   "execution_count": 303,
   "metadata": {},
   "outputs": [
    {
     "data": {
      "text/html": [
       "<div>\n",
       "<style scoped>\n",
       "    .dataframe tbody tr th:only-of-type {\n",
       "        vertical-align: middle;\n",
       "    }\n",
       "\n",
       "    .dataframe tbody tr th {\n",
       "        vertical-align: top;\n",
       "    }\n",
       "\n",
       "    .dataframe thead th {\n",
       "        text-align: right;\n",
       "    }\n",
       "</style>\n",
       "<table border=\"1\" class=\"dataframe\">\n",
       "  <thead>\n",
       "    <tr style=\"text-align: right;\">\n",
       "      <th></th>\n",
       "      <th>Style</th>\n",
       "      <th>Price</th>\n",
       "      <th>Rating</th>\n",
       "      <th>Size</th>\n",
       "      <th>Season</th>\n",
       "      <th>NeckLine</th>\n",
       "      <th>SleeveLength</th>\n",
       "      <th>waiseline</th>\n",
       "      <th>Material</th>\n",
       "      <th>Pattern Type</th>\n",
       "      <th>Recommendation</th>\n",
       "      <th>label</th>\n",
       "    </tr>\n",
       "  </thead>\n",
       "  <tbody>\n",
       "    <tr>\n",
       "      <th>0</th>\n",
       "      <td>sexy</td>\n",
       "      <td>low</td>\n",
       "      <td>4.6</td>\n",
       "      <td>M</td>\n",
       "      <td>summer</td>\n",
       "      <td>o-neck</td>\n",
       "      <td>sleevless</td>\n",
       "      <td>empire</td>\n",
       "      <td>cotton</td>\n",
       "      <td>animal</td>\n",
       "      <td>1</td>\n",
       "      <td>3</td>\n",
       "    </tr>\n",
       "    <tr>\n",
       "      <th>1</th>\n",
       "      <td>Casual</td>\n",
       "      <td>low</td>\n",
       "      <td>0.0</td>\n",
       "      <td>L</td>\n",
       "      <td>summer</td>\n",
       "      <td>o-neck</td>\n",
       "      <td>Petal</td>\n",
       "      <td>natural</td>\n",
       "      <td>microfiber</td>\n",
       "      <td>animal</td>\n",
       "      <td>0</td>\n",
       "      <td>3</td>\n",
       "    </tr>\n",
       "    <tr>\n",
       "      <th>2</th>\n",
       "      <td>vintage</td>\n",
       "      <td>high</td>\n",
       "      <td>0.0</td>\n",
       "      <td>L</td>\n",
       "      <td>Autumn</td>\n",
       "      <td>o-neck</td>\n",
       "      <td>full</td>\n",
       "      <td>natural</td>\n",
       "      <td>polyster</td>\n",
       "      <td>print</td>\n",
       "      <td>0</td>\n",
       "      <td>0</td>\n",
       "    </tr>\n",
       "    <tr>\n",
       "      <th>3</th>\n",
       "      <td>Brief</td>\n",
       "      <td>Average</td>\n",
       "      <td>4.6</td>\n",
       "      <td>L</td>\n",
       "      <td>spring</td>\n",
       "      <td>o-neck</td>\n",
       "      <td>full</td>\n",
       "      <td>natural</td>\n",
       "      <td>silk</td>\n",
       "      <td>print</td>\n",
       "      <td>1</td>\n",
       "      <td>1</td>\n",
       "    </tr>\n",
       "    <tr>\n",
       "      <th>4</th>\n",
       "      <td>cute</td>\n",
       "      <td>low</td>\n",
       "      <td>4.5</td>\n",
       "      <td>M</td>\n",
       "      <td>summer</td>\n",
       "      <td>o-neck</td>\n",
       "      <td>butterfly</td>\n",
       "      <td>natural</td>\n",
       "      <td>chiffonfabric</td>\n",
       "      <td>dot</td>\n",
       "      <td>0</td>\n",
       "      <td>3</td>\n",
       "    </tr>\n",
       "  </tbody>\n",
       "</table>\n",
       "</div>"
      ],
      "text/plain": [
       "     Style    Price  Rating Size  Season NeckLine SleeveLength waiseline  \\\n",
       "0     sexy      low     4.6    M  summer   o-neck    sleevless    empire   \n",
       "1   Casual      low     0.0    L  summer   o-neck        Petal   natural   \n",
       "2  vintage     high     0.0    L  Autumn   o-neck         full   natural   \n",
       "3    Brief  Average     4.6    L  spring   o-neck         full   natural   \n",
       "4     cute      low     4.5    M  summer   o-neck    butterfly   natural   \n",
       "\n",
       "        Material Pattern Type  Recommendation  label  \n",
       "0         cotton       animal               1      3  \n",
       "1     microfiber       animal               0      3  \n",
       "2       polyster        print               0      0  \n",
       "3           silk        print               1      1  \n",
       "4  chiffonfabric          dot               0      3  "
      ]
     },
     "execution_count": 303,
     "metadata": {},
     "output_type": "execute_result"
    }
   ],
   "source": [
    "df_org_cleanded.head()"
   ]
  },
  {
   "cell_type": "code",
   "execution_count": 310,
   "metadata": {},
   "outputs": [
    {
     "data": {
      "text/html": [
       "<div>\n",
       "<style scoped>\n",
       "    .dataframe tbody tr th:only-of-type {\n",
       "        vertical-align: middle;\n",
       "    }\n",
       "\n",
       "    .dataframe tbody tr th {\n",
       "        vertical-align: top;\n",
       "    }\n",
       "\n",
       "    .dataframe thead th {\n",
       "        text-align: right;\n",
       "    }\n",
       "</style>\n",
       "<table border=\"1\" class=\"dataframe\">\n",
       "  <thead>\n",
       "    <tr style=\"text-align: right;\">\n",
       "      <th></th>\n",
       "      <th>Style</th>\n",
       "      <th>Price</th>\n",
       "      <th>Rating</th>\n",
       "      <th>Size</th>\n",
       "      <th>Season</th>\n",
       "      <th>NeckLine</th>\n",
       "      <th>SleeveLength</th>\n",
       "      <th>waiseline</th>\n",
       "      <th>Material</th>\n",
       "      <th>Pattern Type</th>\n",
       "      <th>label</th>\n",
       "    </tr>\n",
       "  </thead>\n",
       "  <tbody>\n",
       "    <tr>\n",
       "      <th>0</th>\n",
       "      <td>1.271187</td>\n",
       "      <td>1.312229</td>\n",
       "      <td>0.533581</td>\n",
       "      <td>-0.620861</td>\n",
       "      <td>0.236334</td>\n",
       "      <td>-0.512796</td>\n",
       "      <td>0.593387</td>\n",
       "      <td>-1.814668</td>\n",
       "      <td>-0.719663</td>\n",
       "      <td>-3.343164</td>\n",
       "      <td>3</td>\n",
       "    </tr>\n",
       "    <tr>\n",
       "      <th>1</th>\n",
       "      <td>-0.852004</td>\n",
       "      <td>1.312229</td>\n",
       "      <td>-1.764282</td>\n",
       "      <td>-1.250665</td>\n",
       "      <td>0.236334</td>\n",
       "      <td>-0.512796</td>\n",
       "      <td>-3.585755</td>\n",
       "      <td>0.503030</td>\n",
       "      <td>0.108521</td>\n",
       "      <td>-3.343164</td>\n",
       "      <td>3</td>\n",
       "    </tr>\n",
       "    <tr>\n",
       "      <th>2</th>\n",
       "      <td>1.625053</td>\n",
       "      <td>0.237596</td>\n",
       "      <td>-1.764282</td>\n",
       "      <td>-1.250665</td>\n",
       "      <td>-1.721859</td>\n",
       "      <td>-0.512796</td>\n",
       "      <td>-1.496184</td>\n",
       "      <td>0.503030</td>\n",
       "      <td>1.267979</td>\n",
       "      <td>-0.097651</td>\n",
       "      <td>0</td>\n",
       "    </tr>\n",
       "    <tr>\n",
       "      <th>3</th>\n",
       "      <td>-1.205870</td>\n",
       "      <td>-0.837036</td>\n",
       "      <td>0.533581</td>\n",
       "      <td>-1.250665</td>\n",
       "      <td>-0.742763</td>\n",
       "      <td>-0.512796</td>\n",
       "      <td>-1.496184</td>\n",
       "      <td>0.503030</td>\n",
       "      <td>1.764889</td>\n",
       "      <td>-0.097651</td>\n",
       "      <td>1</td>\n",
       "    </tr>\n",
       "    <tr>\n",
       "      <th>4</th>\n",
       "      <td>0.209592</td>\n",
       "      <td>1.312229</td>\n",
       "      <td>0.483627</td>\n",
       "      <td>-0.620861</td>\n",
       "      <td>0.236334</td>\n",
       "      <td>-0.512796</td>\n",
       "      <td>-2.889231</td>\n",
       "      <td>0.503030</td>\n",
       "      <td>-0.885300</td>\n",
       "      <td>-2.261326</td>\n",
       "      <td>3</td>\n",
       "    </tr>\n",
       "  </tbody>\n",
       "</table>\n",
       "</div>"
      ],
      "text/plain": [
       "      Style     Price    Rating      Size    Season  NeckLine  SleeveLength  \\\n",
       "0  1.271187  1.312229  0.533581 -0.620861  0.236334 -0.512796      0.593387   \n",
       "1 -0.852004  1.312229 -1.764282 -1.250665  0.236334 -0.512796     -3.585755   \n",
       "2  1.625053  0.237596 -1.764282 -1.250665 -1.721859 -0.512796     -1.496184   \n",
       "3 -1.205870 -0.837036  0.533581 -1.250665 -0.742763 -0.512796     -1.496184   \n",
       "4  0.209592  1.312229  0.483627 -0.620861  0.236334 -0.512796     -2.889231   \n",
       "\n",
       "   waiseline  Material  Pattern Type  label  \n",
       "0  -1.814668 -0.719663     -3.343164      3  \n",
       "1   0.503030  0.108521     -3.343164      3  \n",
       "2   0.503030  1.267979     -0.097651      0  \n",
       "3   0.503030  1.764889     -0.097651      1  \n",
       "4   0.503030 -0.885300     -2.261326      3  "
      ]
     },
     "execution_count": 310,
     "metadata": {},
     "output_type": "execute_result"
    }
   ],
   "source": [
    "df_2['label'] = kmean.labels_\n",
    "df_2.head()"
   ]
  },
  {
   "cell_type": "code",
   "execution_count": 312,
   "metadata": {},
   "outputs": [],
   "source": [
    "X = df_2.drop('label',axis=1)\n",
    "y = df_2['label']"
   ]
  },
  {
   "cell_type": "code",
   "execution_count": 311,
   "metadata": {},
   "outputs": [],
   "source": [
    "import sklearn"
   ]
  },
  {
   "cell_type": "code",
   "execution_count": 313,
   "metadata": {},
   "outputs": [
    {
     "data": {
      "text/plain": [
       "((394, 10), (99, 10), (394,), (99,))"
      ]
     },
     "execution_count": 313,
     "metadata": {},
     "output_type": "execute_result"
    }
   ],
   "source": [
    "X_train,X_test,y_train,y_test = sklearn.model_selection.train_test_split(X,y,train_size=0.8,random_state=42)\n",
    "X_train.shape,X_test.shape,y_train.shape,y_test.shape"
   ]
  },
  {
   "cell_type": "code",
   "execution_count": 307,
   "metadata": {},
   "outputs": [],
   "source": [
    "from sklearn.metrics import accuracy_score"
   ]
  },
  {
   "cell_type": "code",
   "execution_count": 316,
   "metadata": {},
   "outputs": [
    {
     "data": {
      "text/plain": [
       "Index(['Style', 'Price', 'Rating', 'Size', 'Season', 'NeckLine',\n",
       "       'SleeveLength', 'waiseline', 'Material', 'Pattern Type', 'label'],\n",
       "      dtype='object')"
      ]
     },
     "execution_count": 316,
     "metadata": {},
     "output_type": "execute_result"
    }
   ],
   "source": [
    "df_2.columns"
   ]
  },
  {
   "cell_type": "code",
   "execution_count": 317,
   "metadata": {},
   "outputs": [
    {
     "data": {
      "text/html": [
       "<div>\n",
       "<style scoped>\n",
       "    .dataframe tbody tr th:only-of-type {\n",
       "        vertical-align: middle;\n",
       "    }\n",
       "\n",
       "    .dataframe tbody tr th {\n",
       "        vertical-align: top;\n",
       "    }\n",
       "\n",
       "    .dataframe thead th {\n",
       "        text-align: right;\n",
       "    }\n",
       "</style>\n",
       "<table border=\"1\" class=\"dataframe\">\n",
       "  <thead>\n",
       "    <tr style=\"text-align: right;\">\n",
       "      <th></th>\n",
       "      <th>Style</th>\n",
       "      <th>Price</th>\n",
       "      <th>Rating</th>\n",
       "      <th>Size</th>\n",
       "      <th>Season</th>\n",
       "      <th>NeckLine</th>\n",
       "      <th>SleeveLength</th>\n",
       "      <th>waiseline</th>\n",
       "      <th>Material</th>\n",
       "      <th>Pattern Type</th>\n",
       "      <th>label</th>\n",
       "    </tr>\n",
       "  </thead>\n",
       "  <tbody>\n",
       "    <tr>\n",
       "      <th>0</th>\n",
       "      <td>1.271187</td>\n",
       "      <td>1.312229</td>\n",
       "      <td>0.533581</td>\n",
       "      <td>-0.620861</td>\n",
       "      <td>0.236334</td>\n",
       "      <td>-0.512796</td>\n",
       "      <td>0.593387</td>\n",
       "      <td>-1.814668</td>\n",
       "      <td>-0.719663</td>\n",
       "      <td>-3.343164</td>\n",
       "      <td>3</td>\n",
       "    </tr>\n",
       "    <tr>\n",
       "      <th>1</th>\n",
       "      <td>-0.852004</td>\n",
       "      <td>1.312229</td>\n",
       "      <td>-1.764282</td>\n",
       "      <td>-1.250665</td>\n",
       "      <td>0.236334</td>\n",
       "      <td>-0.512796</td>\n",
       "      <td>-3.585755</td>\n",
       "      <td>0.503030</td>\n",
       "      <td>0.108521</td>\n",
       "      <td>-3.343164</td>\n",
       "      <td>3</td>\n",
       "    </tr>\n",
       "    <tr>\n",
       "      <th>2</th>\n",
       "      <td>1.625053</td>\n",
       "      <td>0.237596</td>\n",
       "      <td>-1.764282</td>\n",
       "      <td>-1.250665</td>\n",
       "      <td>-1.721859</td>\n",
       "      <td>-0.512796</td>\n",
       "      <td>-1.496184</td>\n",
       "      <td>0.503030</td>\n",
       "      <td>1.267979</td>\n",
       "      <td>-0.097651</td>\n",
       "      <td>0</td>\n",
       "    </tr>\n",
       "    <tr>\n",
       "      <th>3</th>\n",
       "      <td>-1.205870</td>\n",
       "      <td>-0.837036</td>\n",
       "      <td>0.533581</td>\n",
       "      <td>-1.250665</td>\n",
       "      <td>-0.742763</td>\n",
       "      <td>-0.512796</td>\n",
       "      <td>-1.496184</td>\n",
       "      <td>0.503030</td>\n",
       "      <td>1.764889</td>\n",
       "      <td>-0.097651</td>\n",
       "      <td>1</td>\n",
       "    </tr>\n",
       "    <tr>\n",
       "      <th>4</th>\n",
       "      <td>0.209592</td>\n",
       "      <td>1.312229</td>\n",
       "      <td>0.483627</td>\n",
       "      <td>-0.620861</td>\n",
       "      <td>0.236334</td>\n",
       "      <td>-0.512796</td>\n",
       "      <td>-2.889231</td>\n",
       "      <td>0.503030</td>\n",
       "      <td>-0.885300</td>\n",
       "      <td>-2.261326</td>\n",
       "      <td>3</td>\n",
       "    </tr>\n",
       "  </tbody>\n",
       "</table>\n",
       "</div>"
      ],
      "text/plain": [
       "      Style     Price    Rating      Size    Season  NeckLine  SleeveLength  \\\n",
       "0  1.271187  1.312229  0.533581 -0.620861  0.236334 -0.512796      0.593387   \n",
       "1 -0.852004  1.312229 -1.764282 -1.250665  0.236334 -0.512796     -3.585755   \n",
       "2  1.625053  0.237596 -1.764282 -1.250665 -1.721859 -0.512796     -1.496184   \n",
       "3 -1.205870 -0.837036  0.533581 -1.250665 -0.742763 -0.512796     -1.496184   \n",
       "4  0.209592  1.312229  0.483627 -0.620861  0.236334 -0.512796     -2.889231   \n",
       "\n",
       "   waiseline  Material  Pattern Type  label  \n",
       "0  -1.814668 -0.719663     -3.343164      3  \n",
       "1   0.503030  0.108521     -3.343164      3  \n",
       "2   0.503030  1.267979     -0.097651      0  \n",
       "3   0.503030  1.764889     -0.097651      1  \n",
       "4   0.503030 -0.885300     -2.261326      3  "
      ]
     },
     "execution_count": 317,
     "metadata": {},
     "output_type": "execute_result"
    }
   ],
   "source": [
    "df_2.head()"
   ]
  },
  {
   "cell_type": "code",
   "execution_count": 315,
   "metadata": {},
   "outputs": [
    {
     "ename": "ValueError",
     "evalue": "could not convert string to float: 'Style'",
     "output_type": "error",
     "traceback": [
      "\u001b[1;31m---------------------------------------------------------------------------\u001b[0m",
      "\u001b[1;31mValueError\u001b[0m                                Traceback (most recent call last)",
      "\u001b[1;32m<ipython-input-315-c7369531083f>\u001b[0m in \u001b[0;36m<module>\u001b[1;34m\u001b[0m\n\u001b[1;32m----> 1\u001b[1;33m pred = kmean.predict([['Style', 'Price', 'Rating', 'Size', 'Season', 'NeckLine',\n\u001b[0m\u001b[0;32m      2\u001b[0m        'SleeveLength', 'waiseline', 'Material', 'Pattern Type']])\n",
      "\u001b[1;32m~\\anaconda3\\lib\\site-packages\\sklearn\\cluster\\_kmeans.py\u001b[0m in \u001b[0;36mpredict\u001b[1;34m(self, X, sample_weight)\u001b[0m\n\u001b[0;32m   1154\u001b[0m         \u001b[0mcheck_is_fitted\u001b[0m\u001b[1;33m(\u001b[0m\u001b[0mself\u001b[0m\u001b[1;33m)\u001b[0m\u001b[1;33m\u001b[0m\u001b[1;33m\u001b[0m\u001b[0m\n\u001b[0;32m   1155\u001b[0m \u001b[1;33m\u001b[0m\u001b[0m\n\u001b[1;32m-> 1156\u001b[1;33m         \u001b[0mX\u001b[0m \u001b[1;33m=\u001b[0m \u001b[0mself\u001b[0m\u001b[1;33m.\u001b[0m\u001b[0m_check_test_data\u001b[0m\u001b[1;33m(\u001b[0m\u001b[0mX\u001b[0m\u001b[1;33m)\u001b[0m\u001b[1;33m\u001b[0m\u001b[1;33m\u001b[0m\u001b[0m\n\u001b[0m\u001b[0;32m   1157\u001b[0m         \u001b[0mx_squared_norms\u001b[0m \u001b[1;33m=\u001b[0m \u001b[0mrow_norms\u001b[0m\u001b[1;33m(\u001b[0m\u001b[0mX\u001b[0m\u001b[1;33m,\u001b[0m \u001b[0msquared\u001b[0m\u001b[1;33m=\u001b[0m\u001b[1;32mTrue\u001b[0m\u001b[1;33m)\u001b[0m\u001b[1;33m\u001b[0m\u001b[1;33m\u001b[0m\u001b[0m\n\u001b[0;32m   1158\u001b[0m         \u001b[0msample_weight\u001b[0m \u001b[1;33m=\u001b[0m \u001b[0m_check_sample_weight\u001b[0m\u001b[1;33m(\u001b[0m\u001b[0msample_weight\u001b[0m\u001b[1;33m,\u001b[0m \u001b[0mX\u001b[0m\u001b[1;33m,\u001b[0m \u001b[0mdtype\u001b[0m\u001b[1;33m=\u001b[0m\u001b[0mX\u001b[0m\u001b[1;33m.\u001b[0m\u001b[0mdtype\u001b[0m\u001b[1;33m)\u001b[0m\u001b[1;33m\u001b[0m\u001b[1;33m\u001b[0m\u001b[0m\n",
      "\u001b[1;32m~\\anaconda3\\lib\\site-packages\\sklearn\\cluster\\_kmeans.py\u001b[0m in \u001b[0;36m_check_test_data\u001b[1;34m(self, X)\u001b[0m\n\u001b[0;32m    856\u001b[0m \u001b[1;33m\u001b[0m\u001b[0m\n\u001b[0;32m    857\u001b[0m     \u001b[1;32mdef\u001b[0m \u001b[0m_check_test_data\u001b[0m\u001b[1;33m(\u001b[0m\u001b[0mself\u001b[0m\u001b[1;33m,\u001b[0m \u001b[0mX\u001b[0m\u001b[1;33m)\u001b[0m\u001b[1;33m:\u001b[0m\u001b[1;33m\u001b[0m\u001b[1;33m\u001b[0m\u001b[0m\n\u001b[1;32m--> 858\u001b[1;33m         X = self._validate_data(X, accept_sparse='csr', reset=False,\n\u001b[0m\u001b[0;32m    859\u001b[0m                                 \u001b[0mdtype\u001b[0m\u001b[1;33m=\u001b[0m\u001b[1;33m[\u001b[0m\u001b[0mnp\u001b[0m\u001b[1;33m.\u001b[0m\u001b[0mfloat64\u001b[0m\u001b[1;33m,\u001b[0m \u001b[0mnp\u001b[0m\u001b[1;33m.\u001b[0m\u001b[0mfloat32\u001b[0m\u001b[1;33m]\u001b[0m\u001b[1;33m,\u001b[0m\u001b[1;33m\u001b[0m\u001b[1;33m\u001b[0m\u001b[0m\n\u001b[0;32m    860\u001b[0m                                 order='C', accept_large_sparse=False)\n",
      "\u001b[1;32m~\\anaconda3\\lib\\site-packages\\sklearn\\base.py\u001b[0m in \u001b[0;36m_validate_data\u001b[1;34m(self, X, y, reset, validate_separately, **check_params)\u001b[0m\n\u001b[0;32m    419\u001b[0m             \u001b[0mout\u001b[0m \u001b[1;33m=\u001b[0m \u001b[0mX\u001b[0m\u001b[1;33m\u001b[0m\u001b[1;33m\u001b[0m\u001b[0m\n\u001b[0;32m    420\u001b[0m         \u001b[1;32melif\u001b[0m \u001b[0misinstance\u001b[0m\u001b[1;33m(\u001b[0m\u001b[0my\u001b[0m\u001b[1;33m,\u001b[0m \u001b[0mstr\u001b[0m\u001b[1;33m)\u001b[0m \u001b[1;32mand\u001b[0m \u001b[0my\u001b[0m \u001b[1;33m==\u001b[0m \u001b[1;34m'no_validation'\u001b[0m\u001b[1;33m:\u001b[0m\u001b[1;33m\u001b[0m\u001b[1;33m\u001b[0m\u001b[0m\n\u001b[1;32m--> 421\u001b[1;33m             \u001b[0mX\u001b[0m \u001b[1;33m=\u001b[0m \u001b[0mcheck_array\u001b[0m\u001b[1;33m(\u001b[0m\u001b[0mX\u001b[0m\u001b[1;33m,\u001b[0m \u001b[1;33m**\u001b[0m\u001b[0mcheck_params\u001b[0m\u001b[1;33m)\u001b[0m\u001b[1;33m\u001b[0m\u001b[1;33m\u001b[0m\u001b[0m\n\u001b[0m\u001b[0;32m    422\u001b[0m             \u001b[0mout\u001b[0m \u001b[1;33m=\u001b[0m \u001b[0mX\u001b[0m\u001b[1;33m\u001b[0m\u001b[1;33m\u001b[0m\u001b[0m\n\u001b[0;32m    423\u001b[0m         \u001b[1;32melse\u001b[0m\u001b[1;33m:\u001b[0m\u001b[1;33m\u001b[0m\u001b[1;33m\u001b[0m\u001b[0m\n",
      "\u001b[1;32m~\\anaconda3\\lib\\site-packages\\sklearn\\utils\\validation.py\u001b[0m in \u001b[0;36minner_f\u001b[1;34m(*args, **kwargs)\u001b[0m\n\u001b[0;32m     61\u001b[0m             \u001b[0mextra_args\u001b[0m \u001b[1;33m=\u001b[0m \u001b[0mlen\u001b[0m\u001b[1;33m(\u001b[0m\u001b[0margs\u001b[0m\u001b[1;33m)\u001b[0m \u001b[1;33m-\u001b[0m \u001b[0mlen\u001b[0m\u001b[1;33m(\u001b[0m\u001b[0mall_args\u001b[0m\u001b[1;33m)\u001b[0m\u001b[1;33m\u001b[0m\u001b[1;33m\u001b[0m\u001b[0m\n\u001b[0;32m     62\u001b[0m             \u001b[1;32mif\u001b[0m \u001b[0mextra_args\u001b[0m \u001b[1;33m<=\u001b[0m \u001b[1;36m0\u001b[0m\u001b[1;33m:\u001b[0m\u001b[1;33m\u001b[0m\u001b[1;33m\u001b[0m\u001b[0m\n\u001b[1;32m---> 63\u001b[1;33m                 \u001b[1;32mreturn\u001b[0m \u001b[0mf\u001b[0m\u001b[1;33m(\u001b[0m\u001b[1;33m*\u001b[0m\u001b[0margs\u001b[0m\u001b[1;33m,\u001b[0m \u001b[1;33m**\u001b[0m\u001b[0mkwargs\u001b[0m\u001b[1;33m)\u001b[0m\u001b[1;33m\u001b[0m\u001b[1;33m\u001b[0m\u001b[0m\n\u001b[0m\u001b[0;32m     64\u001b[0m \u001b[1;33m\u001b[0m\u001b[0m\n\u001b[0;32m     65\u001b[0m             \u001b[1;31m# extra_args > 0\u001b[0m\u001b[1;33m\u001b[0m\u001b[1;33m\u001b[0m\u001b[1;33m\u001b[0m\u001b[0m\n",
      "\u001b[1;32m~\\anaconda3\\lib\\site-packages\\sklearn\\utils\\validation.py\u001b[0m in \u001b[0;36mcheck_array\u001b[1;34m(array, accept_sparse, accept_large_sparse, dtype, order, copy, force_all_finite, ensure_2d, allow_nd, ensure_min_samples, ensure_min_features, estimator)\u001b[0m\n\u001b[0;32m    614\u001b[0m                     \u001b[0marray\u001b[0m \u001b[1;33m=\u001b[0m \u001b[0marray\u001b[0m\u001b[1;33m.\u001b[0m\u001b[0mastype\u001b[0m\u001b[1;33m(\u001b[0m\u001b[0mdtype\u001b[0m\u001b[1;33m,\u001b[0m \u001b[0mcasting\u001b[0m\u001b[1;33m=\u001b[0m\u001b[1;34m\"unsafe\"\u001b[0m\u001b[1;33m,\u001b[0m \u001b[0mcopy\u001b[0m\u001b[1;33m=\u001b[0m\u001b[1;32mFalse\u001b[0m\u001b[1;33m)\u001b[0m\u001b[1;33m\u001b[0m\u001b[1;33m\u001b[0m\u001b[0m\n\u001b[0;32m    615\u001b[0m                 \u001b[1;32melse\u001b[0m\u001b[1;33m:\u001b[0m\u001b[1;33m\u001b[0m\u001b[1;33m\u001b[0m\u001b[0m\n\u001b[1;32m--> 616\u001b[1;33m                     \u001b[0marray\u001b[0m \u001b[1;33m=\u001b[0m \u001b[0mnp\u001b[0m\u001b[1;33m.\u001b[0m\u001b[0masarray\u001b[0m\u001b[1;33m(\u001b[0m\u001b[0marray\u001b[0m\u001b[1;33m,\u001b[0m \u001b[0morder\u001b[0m\u001b[1;33m=\u001b[0m\u001b[0morder\u001b[0m\u001b[1;33m,\u001b[0m \u001b[0mdtype\u001b[0m\u001b[1;33m=\u001b[0m\u001b[0mdtype\u001b[0m\u001b[1;33m)\u001b[0m\u001b[1;33m\u001b[0m\u001b[1;33m\u001b[0m\u001b[0m\n\u001b[0m\u001b[0;32m    617\u001b[0m             \u001b[1;32mexcept\u001b[0m \u001b[0mComplexWarning\u001b[0m \u001b[1;32mas\u001b[0m \u001b[0mcomplex_warning\u001b[0m\u001b[1;33m:\u001b[0m\u001b[1;33m\u001b[0m\u001b[1;33m\u001b[0m\u001b[0m\n\u001b[0;32m    618\u001b[0m                 raise ValueError(\"Complex data not supported\\n\"\n",
      "\u001b[1;32m~\\anaconda3\\lib\\site-packages\\numpy\\core\\_asarray.py\u001b[0m in \u001b[0;36masarray\u001b[1;34m(a, dtype, order)\u001b[0m\n\u001b[0;32m     81\u001b[0m \u001b[1;33m\u001b[0m\u001b[0m\n\u001b[0;32m     82\u001b[0m     \"\"\"\n\u001b[1;32m---> 83\u001b[1;33m     \u001b[1;32mreturn\u001b[0m \u001b[0marray\u001b[0m\u001b[1;33m(\u001b[0m\u001b[0ma\u001b[0m\u001b[1;33m,\u001b[0m \u001b[0mdtype\u001b[0m\u001b[1;33m,\u001b[0m \u001b[0mcopy\u001b[0m\u001b[1;33m=\u001b[0m\u001b[1;32mFalse\u001b[0m\u001b[1;33m,\u001b[0m \u001b[0morder\u001b[0m\u001b[1;33m=\u001b[0m\u001b[0morder\u001b[0m\u001b[1;33m)\u001b[0m\u001b[1;33m\u001b[0m\u001b[1;33m\u001b[0m\u001b[0m\n\u001b[0m\u001b[0;32m     84\u001b[0m \u001b[1;33m\u001b[0m\u001b[0m\n\u001b[0;32m     85\u001b[0m \u001b[1;33m\u001b[0m\u001b[0m\n",
      "\u001b[1;31mValueError\u001b[0m: could not convert string to float: 'Style'"
     ]
    }
   ],
   "source": [
    "pred = kmean.predict([['Style', 'Price', 'Rating', 'Size', 'Season', 'NeckLine',\n",
    "       'SleeveLength', 'waiseline', 'Material', 'Pattern Type']])"
   ]
  },
  {
   "cell_type": "code",
   "execution_count": 309,
   "metadata": {},
   "outputs": [
    {
     "data": {
      "text/plain": [
       "array([3, 3, 0, 1, 3, 0, 0, 0, 0, 0, 1, 3, 2, 3, 2, 0, 1, 1, 0, 1, 1, 2,\n",
       "       2, 1, 0, 0, 1, 0, 2, 3, 1, 0, 3, 1, 1, 2, 1, 0, 1, 1, 1, 2, 1, 2,\n",
       "       1, 0, 1, 3, 2, 0, 3, 3, 0, 1, 1, 0, 1, 2, 2, 0, 0, 0, 3, 1, 2, 1,\n",
       "       0, 1, 1, 0, 1, 0, 1, 2, 2, 3, 1, 0, 0, 2, 3, 1, 2, 2, 0, 2, 0, 1,\n",
       "       2, 1, 0, 1, 0, 2, 3, 0, 0, 0, 2, 2, 1, 1, 0, 3, 1, 1, 3, 2, 0, 1,\n",
       "       0, 2, 0, 1, 1, 1, 1, 2, 2, 1, 1, 0, 3, 0, 1, 1, 3, 2, 1, 0, 0, 1,\n",
       "       1, 1, 1, 0, 0, 1, 2, 1, 0, 2, 2, 3, 0, 2, 2, 1, 1, 2, 1, 0, 2, 0,\n",
       "       0, 0, 0, 1, 2, 2, 1, 0, 1, 1, 3, 0, 1, 1, 3, 1, 2, 2, 1, 1, 0, 3,\n",
       "       2, 1, 3, 0, 1, 2, 3, 1, 2, 0, 1, 0, 2, 1, 2, 1, 0, 3, 2, 1, 0, 1,\n",
       "       1, 3, 1, 1, 1, 1, 1, 1, 0, 1, 2, 2, 1, 1, 2, 1, 3, 2, 2, 2, 1, 0,\n",
       "       1, 0, 2, 1, 0, 2, 1, 1, 2, 1, 1, 2, 0, 2, 3, 1, 2, 1, 1, 1, 1, 1,\n",
       "       1, 0, 2, 1, 2, 3, 2, 2, 0, 1, 1, 0, 0, 2, 0, 0, 0, 1, 1, 1, 1, 1,\n",
       "       1, 0, 1, 1, 1, 1, 1, 2, 1, 0, 1, 1, 1, 1, 1, 1, 1, 1, 1, 1, 2, 1,\n",
       "       1, 0, 1, 1, 2, 0, 1, 0, 1, 1, 2, 1, 1, 1, 1, 1, 1, 2, 1, 2, 0, 1,\n",
       "       0, 2, 1, 1, 2, 0, 1, 1, 0, 1, 3, 2, 1, 2, 2, 2, 2, 0, 0, 2, 2, 2,\n",
       "       1, 2, 2, 1, 1, 2, 2, 1, 2, 1, 1, 0, 1, 2, 0, 2, 1, 0, 2, 1, 2, 2,\n",
       "       2, 2, 2, 1, 1, 0, 1, 1, 1, 1, 1, 1, 1, 1, 2, 1, 0, 1, 2, 1, 1, 2,\n",
       "       1, 2, 1, 1, 3, 0, 1, 2, 0, 1, 0, 3, 0, 1, 2, 1, 1, 3, 0, 1, 2, 0,\n",
       "       3, 0, 1, 1, 1, 2, 1, 0, 2, 3, 3, 1, 2, 1, 1, 2, 2, 3, 3, 1, 1, 1,\n",
       "       2, 3, 0, 0, 0, 2, 0, 1, 1, 0, 1, 1, 1, 2, 2, 2, 2, 0, 0, 2, 2, 1,\n",
       "       1, 1, 1, 2, 2, 1, 1, 1, 0, 0, 2, 1, 1, 2, 1, 3, 1, 0, 1, 1, 2, 1,\n",
       "       1, 0, 3, 1, 1, 1, 0, 2, 0, 1, 0, 2, 0, 1, 1, 2, 2, 0, 0, 2, 0, 2,\n",
       "       1, 1, 2, 1, 2, 2, 1, 1, 2])"
      ]
     },
     "execution_count": 309,
     "metadata": {},
     "output_type": "execute_result"
    }
   ],
   "source": []
  },
  {
   "cell_type": "code",
   "execution_count": null,
   "metadata": {},
   "outputs": [],
   "source": []
  },
  {
   "cell_type": "code",
   "execution_count": null,
   "metadata": {},
   "outputs": [],
   "source": []
  },
  {
   "cell_type": "code",
   "execution_count": null,
   "metadata": {},
   "outputs": [],
   "source": []
  },
  {
   "cell_type": "markdown",
   "metadata": {},
   "source": [
    "## KNN Lab MIT ML"
   ]
  },
  {
   "cell_type": "code",
   "execution_count": 318,
   "metadata": {},
   "outputs": [],
   "source": [
    "from sklearn.neighbors import KNeighborsClassifier"
   ]
  },
  {
   "cell_type": "code",
   "execution_count": 324,
   "metadata": {},
   "outputs": [],
   "source": [
    "df = pd.read_csv('breast-cancer-wisconsin (2).data')"
   ]
  },
  {
   "cell_type": "code",
   "execution_count": 325,
   "metadata": {},
   "outputs": [],
   "source": [
    "df.columns = ['Sample code number','clumpThickness','Uniformity of Cell Size','Uniformity of Cell Shape','Marginal Adhesion'\n",
    "                                                              ,'Single Epithelial Cell Size','Bare Nuclei','Bland Chromatin','Normal Nucleoli',\n",
    "                                                              'Mitoses','Class']"
   ]
  },
  {
   "cell_type": "code",
   "execution_count": 326,
   "metadata": {},
   "outputs": [
    {
     "data": {
      "text/html": [
       "<div>\n",
       "<style scoped>\n",
       "    .dataframe tbody tr th:only-of-type {\n",
       "        vertical-align: middle;\n",
       "    }\n",
       "\n",
       "    .dataframe tbody tr th {\n",
       "        vertical-align: top;\n",
       "    }\n",
       "\n",
       "    .dataframe thead th {\n",
       "        text-align: right;\n",
       "    }\n",
       "</style>\n",
       "<table border=\"1\" class=\"dataframe\">\n",
       "  <thead>\n",
       "    <tr style=\"text-align: right;\">\n",
       "      <th></th>\n",
       "      <th>Sample code number</th>\n",
       "      <th>clumpThickness</th>\n",
       "      <th>Uniformity of Cell Size</th>\n",
       "      <th>Uniformity of Cell Shape</th>\n",
       "      <th>Marginal Adhesion</th>\n",
       "      <th>Single Epithelial Cell Size</th>\n",
       "      <th>Bare Nuclei</th>\n",
       "      <th>Bland Chromatin</th>\n",
       "      <th>Normal Nucleoli</th>\n",
       "      <th>Mitoses</th>\n",
       "      <th>Class</th>\n",
       "    </tr>\n",
       "  </thead>\n",
       "  <tbody>\n",
       "    <tr>\n",
       "      <th>0</th>\n",
       "      <td>1002945</td>\n",
       "      <td>5</td>\n",
       "      <td>4</td>\n",
       "      <td>4</td>\n",
       "      <td>5</td>\n",
       "      <td>7</td>\n",
       "      <td>10</td>\n",
       "      <td>3</td>\n",
       "      <td>2</td>\n",
       "      <td>1</td>\n",
       "      <td>2</td>\n",
       "    </tr>\n",
       "    <tr>\n",
       "      <th>1</th>\n",
       "      <td>1015425</td>\n",
       "      <td>3</td>\n",
       "      <td>1</td>\n",
       "      <td>1</td>\n",
       "      <td>1</td>\n",
       "      <td>2</td>\n",
       "      <td>2</td>\n",
       "      <td>3</td>\n",
       "      <td>1</td>\n",
       "      <td>1</td>\n",
       "      <td>2</td>\n",
       "    </tr>\n",
       "    <tr>\n",
       "      <th>2</th>\n",
       "      <td>1016277</td>\n",
       "      <td>6</td>\n",
       "      <td>8</td>\n",
       "      <td>8</td>\n",
       "      <td>1</td>\n",
       "      <td>3</td>\n",
       "      <td>4</td>\n",
       "      <td>3</td>\n",
       "      <td>7</td>\n",
       "      <td>1</td>\n",
       "      <td>2</td>\n",
       "    </tr>\n",
       "    <tr>\n",
       "      <th>3</th>\n",
       "      <td>1017023</td>\n",
       "      <td>4</td>\n",
       "      <td>1</td>\n",
       "      <td>1</td>\n",
       "      <td>3</td>\n",
       "      <td>2</td>\n",
       "      <td>1</td>\n",
       "      <td>3</td>\n",
       "      <td>1</td>\n",
       "      <td>1</td>\n",
       "      <td>2</td>\n",
       "    </tr>\n",
       "    <tr>\n",
       "      <th>4</th>\n",
       "      <td>1017122</td>\n",
       "      <td>8</td>\n",
       "      <td>10</td>\n",
       "      <td>10</td>\n",
       "      <td>8</td>\n",
       "      <td>7</td>\n",
       "      <td>10</td>\n",
       "      <td>9</td>\n",
       "      <td>7</td>\n",
       "      <td>1</td>\n",
       "      <td>4</td>\n",
       "    </tr>\n",
       "  </tbody>\n",
       "</table>\n",
       "</div>"
      ],
      "text/plain": [
       "   Sample code number  clumpThickness  Uniformity of Cell Size  \\\n",
       "0             1002945               5                        4   \n",
       "1             1015425               3                        1   \n",
       "2             1016277               6                        8   \n",
       "3             1017023               4                        1   \n",
       "4             1017122               8                       10   \n",
       "\n",
       "   Uniformity of Cell Shape  Marginal Adhesion  Single Epithelial Cell Size  \\\n",
       "0                         4                  5                            7   \n",
       "1                         1                  1                            2   \n",
       "2                         8                  1                            3   \n",
       "3                         1                  3                            2   \n",
       "4                        10                  8                            7   \n",
       "\n",
       "  Bare Nuclei  Bland Chromatin  Normal Nucleoli  Mitoses  Class  \n",
       "0          10                3                2        1      2  \n",
       "1           2                3                1        1      2  \n",
       "2           4                3                7        1      2  \n",
       "3           1                3                1        1      2  \n",
       "4          10                9                7        1      4  "
      ]
     },
     "execution_count": 326,
     "metadata": {},
     "output_type": "execute_result"
    }
   ],
   "source": [
    "df.head()"
   ]
  },
  {
   "cell_type": "code",
   "execution_count": 327,
   "metadata": {},
   "outputs": [],
   "source": [
    "df.drop('Sample code number',axis=1,inplace=True)"
   ]
  },
  {
   "cell_type": "code",
   "execution_count": 328,
   "metadata": {},
   "outputs": [
    {
     "data": {
      "text/html": [
       "<div>\n",
       "<style scoped>\n",
       "    .dataframe tbody tr th:only-of-type {\n",
       "        vertical-align: middle;\n",
       "    }\n",
       "\n",
       "    .dataframe tbody tr th {\n",
       "        vertical-align: top;\n",
       "    }\n",
       "\n",
       "    .dataframe thead th {\n",
       "        text-align: right;\n",
       "    }\n",
       "</style>\n",
       "<table border=\"1\" class=\"dataframe\">\n",
       "  <thead>\n",
       "    <tr style=\"text-align: right;\">\n",
       "      <th></th>\n",
       "      <th>clumpThickness</th>\n",
       "      <th>Uniformity of Cell Size</th>\n",
       "      <th>Uniformity of Cell Shape</th>\n",
       "      <th>Marginal Adhesion</th>\n",
       "      <th>Single Epithelial Cell Size</th>\n",
       "      <th>Bare Nuclei</th>\n",
       "      <th>Bland Chromatin</th>\n",
       "      <th>Normal Nucleoli</th>\n",
       "      <th>Mitoses</th>\n",
       "      <th>Class</th>\n",
       "    </tr>\n",
       "  </thead>\n",
       "  <tbody>\n",
       "    <tr>\n",
       "      <th>0</th>\n",
       "      <td>5</td>\n",
       "      <td>4</td>\n",
       "      <td>4</td>\n",
       "      <td>5</td>\n",
       "      <td>7</td>\n",
       "      <td>10</td>\n",
       "      <td>3</td>\n",
       "      <td>2</td>\n",
       "      <td>1</td>\n",
       "      <td>2</td>\n",
       "    </tr>\n",
       "    <tr>\n",
       "      <th>1</th>\n",
       "      <td>3</td>\n",
       "      <td>1</td>\n",
       "      <td>1</td>\n",
       "      <td>1</td>\n",
       "      <td>2</td>\n",
       "      <td>2</td>\n",
       "      <td>3</td>\n",
       "      <td>1</td>\n",
       "      <td>1</td>\n",
       "      <td>2</td>\n",
       "    </tr>\n",
       "    <tr>\n",
       "      <th>2</th>\n",
       "      <td>6</td>\n",
       "      <td>8</td>\n",
       "      <td>8</td>\n",
       "      <td>1</td>\n",
       "      <td>3</td>\n",
       "      <td>4</td>\n",
       "      <td>3</td>\n",
       "      <td>7</td>\n",
       "      <td>1</td>\n",
       "      <td>2</td>\n",
       "    </tr>\n",
       "    <tr>\n",
       "      <th>3</th>\n",
       "      <td>4</td>\n",
       "      <td>1</td>\n",
       "      <td>1</td>\n",
       "      <td>3</td>\n",
       "      <td>2</td>\n",
       "      <td>1</td>\n",
       "      <td>3</td>\n",
       "      <td>1</td>\n",
       "      <td>1</td>\n",
       "      <td>2</td>\n",
       "    </tr>\n",
       "    <tr>\n",
       "      <th>4</th>\n",
       "      <td>8</td>\n",
       "      <td>10</td>\n",
       "      <td>10</td>\n",
       "      <td>8</td>\n",
       "      <td>7</td>\n",
       "      <td>10</td>\n",
       "      <td>9</td>\n",
       "      <td>7</td>\n",
       "      <td>1</td>\n",
       "      <td>4</td>\n",
       "    </tr>\n",
       "  </tbody>\n",
       "</table>\n",
       "</div>"
      ],
      "text/plain": [
       "   clumpThickness  Uniformity of Cell Size  Uniformity of Cell Shape  \\\n",
       "0               5                        4                         4   \n",
       "1               3                        1                         1   \n",
       "2               6                        8                         8   \n",
       "3               4                        1                         1   \n",
       "4               8                       10                        10   \n",
       "\n",
       "   Marginal Adhesion  Single Epithelial Cell Size Bare Nuclei  \\\n",
       "0                  5                            7          10   \n",
       "1                  1                            2           2   \n",
       "2                  1                            3           4   \n",
       "3                  3                            2           1   \n",
       "4                  8                            7          10   \n",
       "\n",
       "   Bland Chromatin  Normal Nucleoli  Mitoses  Class  \n",
       "0                3                2        1      2  \n",
       "1                3                1        1      2  \n",
       "2                3                7        1      2  \n",
       "3                3                1        1      2  \n",
       "4                9                7        1      4  "
      ]
     },
     "execution_count": 328,
     "metadata": {},
     "output_type": "execute_result"
    }
   ],
   "source": [
    "df.head()"
   ]
  },
  {
   "cell_type": "code",
   "execution_count": 329,
   "metadata": {},
   "outputs": [
    {
     "data": {
      "text/plain": [
       "clumpThickness                 0\n",
       "Uniformity of Cell Size        0\n",
       "Uniformity of Cell Shape       0\n",
       "Marginal Adhesion              0\n",
       "Single Epithelial Cell Size    0\n",
       "Bare Nuclei                    0\n",
       "Bland Chromatin                0\n",
       "Normal Nucleoli                0\n",
       "Mitoses                        0\n",
       "Class                          0\n",
       "dtype: int64"
      ]
     },
     "execution_count": 329,
     "metadata": {},
     "output_type": "execute_result"
    }
   ],
   "source": [
    "df.isna().sum()"
   ]
  },
  {
   "cell_type": "code",
   "execution_count": 330,
   "metadata": {},
   "outputs": [
    {
     "data": {
      "text/plain": [
       "2    457\n",
       "4    241\n",
       "Name: Class, dtype: int64"
      ]
     },
     "execution_count": 330,
     "metadata": {},
     "output_type": "execute_result"
    }
   ],
   "source": [
    "df.Class.value_counts()"
   ]
  },
  {
   "cell_type": "code",
   "execution_count": 331,
   "metadata": {},
   "outputs": [],
   "source": [
    "df.Class.replace(to_replace=[2,4],value=[0,1],inplace=True)"
   ]
  },
  {
   "cell_type": "code",
   "execution_count": 332,
   "metadata": {},
   "outputs": [
    {
     "data": {
      "text/html": [
       "<div>\n",
       "<style scoped>\n",
       "    .dataframe tbody tr th:only-of-type {\n",
       "        vertical-align: middle;\n",
       "    }\n",
       "\n",
       "    .dataframe tbody tr th {\n",
       "        vertical-align: top;\n",
       "    }\n",
       "\n",
       "    .dataframe thead th {\n",
       "        text-align: right;\n",
       "    }\n",
       "</style>\n",
       "<table border=\"1\" class=\"dataframe\">\n",
       "  <thead>\n",
       "    <tr style=\"text-align: right;\">\n",
       "      <th></th>\n",
       "      <th>clumpThickness</th>\n",
       "      <th>Uniformity of Cell Size</th>\n",
       "      <th>Uniformity of Cell Shape</th>\n",
       "      <th>Marginal Adhesion</th>\n",
       "      <th>Single Epithelial Cell Size</th>\n",
       "      <th>Bare Nuclei</th>\n",
       "      <th>Bland Chromatin</th>\n",
       "      <th>Normal Nucleoli</th>\n",
       "      <th>Mitoses</th>\n",
       "      <th>Class</th>\n",
       "    </tr>\n",
       "  </thead>\n",
       "  <tbody>\n",
       "    <tr>\n",
       "      <th>0</th>\n",
       "      <td>5</td>\n",
       "      <td>4</td>\n",
       "      <td>4</td>\n",
       "      <td>5</td>\n",
       "      <td>7</td>\n",
       "      <td>10</td>\n",
       "      <td>3</td>\n",
       "      <td>2</td>\n",
       "      <td>1</td>\n",
       "      <td>0</td>\n",
       "    </tr>\n",
       "    <tr>\n",
       "      <th>1</th>\n",
       "      <td>3</td>\n",
       "      <td>1</td>\n",
       "      <td>1</td>\n",
       "      <td>1</td>\n",
       "      <td>2</td>\n",
       "      <td>2</td>\n",
       "      <td>3</td>\n",
       "      <td>1</td>\n",
       "      <td>1</td>\n",
       "      <td>0</td>\n",
       "    </tr>\n",
       "    <tr>\n",
       "      <th>2</th>\n",
       "      <td>6</td>\n",
       "      <td>8</td>\n",
       "      <td>8</td>\n",
       "      <td>1</td>\n",
       "      <td>3</td>\n",
       "      <td>4</td>\n",
       "      <td>3</td>\n",
       "      <td>7</td>\n",
       "      <td>1</td>\n",
       "      <td>0</td>\n",
       "    </tr>\n",
       "    <tr>\n",
       "      <th>3</th>\n",
       "      <td>4</td>\n",
       "      <td>1</td>\n",
       "      <td>1</td>\n",
       "      <td>3</td>\n",
       "      <td>2</td>\n",
       "      <td>1</td>\n",
       "      <td>3</td>\n",
       "      <td>1</td>\n",
       "      <td>1</td>\n",
       "      <td>0</td>\n",
       "    </tr>\n",
       "    <tr>\n",
       "      <th>4</th>\n",
       "      <td>8</td>\n",
       "      <td>10</td>\n",
       "      <td>10</td>\n",
       "      <td>8</td>\n",
       "      <td>7</td>\n",
       "      <td>10</td>\n",
       "      <td>9</td>\n",
       "      <td>7</td>\n",
       "      <td>1</td>\n",
       "      <td>1</td>\n",
       "    </tr>\n",
       "  </tbody>\n",
       "</table>\n",
       "</div>"
      ],
      "text/plain": [
       "   clumpThickness  Uniformity of Cell Size  Uniformity of Cell Shape  \\\n",
       "0               5                        4                         4   \n",
       "1               3                        1                         1   \n",
       "2               6                        8                         8   \n",
       "3               4                        1                         1   \n",
       "4               8                       10                        10   \n",
       "\n",
       "   Marginal Adhesion  Single Epithelial Cell Size Bare Nuclei  \\\n",
       "0                  5                            7          10   \n",
       "1                  1                            2           2   \n",
       "2                  1                            3           4   \n",
       "3                  3                            2           1   \n",
       "4                  8                            7          10   \n",
       "\n",
       "   Bland Chromatin  Normal Nucleoli  Mitoses  Class  \n",
       "0                3                2        1      0  \n",
       "1                3                1        1      0  \n",
       "2                3                7        1      0  \n",
       "3                3                1        1      0  \n",
       "4                9                7        1      1  "
      ]
     },
     "execution_count": 332,
     "metadata": {},
     "output_type": "execute_result"
    }
   ],
   "source": [
    "df.head()"
   ]
  },
  {
   "cell_type": "code",
   "execution_count": 333,
   "metadata": {},
   "outputs": [
    {
     "data": {
      "text/plain": [
       "0    457\n",
       "1    241\n",
       "Name: Class, dtype: int64"
      ]
     },
     "execution_count": 333,
     "metadata": {},
     "output_type": "execute_result"
    }
   ],
   "source": [
    "df.Class.value_counts()"
   ]
  },
  {
   "cell_type": "code",
   "execution_count": 334,
   "metadata": {},
   "outputs": [
    {
     "data": {
      "text/plain": [
       "(698, 10)"
      ]
     },
     "execution_count": 334,
     "metadata": {},
     "output_type": "execute_result"
    }
   ],
   "source": [
    "df.shape"
   ]
  },
  {
   "cell_type": "code",
   "execution_count": 335,
   "metadata": {},
   "outputs": [
    {
     "data": {
      "text/plain": [
       "<seaborn.axisgrid.PairGrid at 0x20ec2ca9940>"
      ]
     },
     "execution_count": 335,
     "metadata": {},
     "output_type": "execute_result"
    },
    {
     "data": {
      "image/png": "[encoded data removed]",
      "text/plain": [
       "<Figure size 1620x1620 with 90 Axes>"
      ]
     },
     "metadata": {
      "needs_background": "light"
     },
     "output_type": "display_data"
    }
   ],
   "source": [
    "sns.pairplot(df)"
   ]
  },
  {
   "cell_type": "code",
   "execution_count": 336,
   "metadata": {},
   "outputs": [],
   "source": [
    "df.replace(to_replace='?',value=np.nan,inplace=True)"
   ]
  },
  {
   "cell_type": "code",
   "execution_count": 337,
   "metadata": {},
   "outputs": [
    {
     "data": {
      "text/plain": [
       "clumpThickness                  0\n",
       "Uniformity of Cell Size         0\n",
       "Uniformity of Cell Shape        0\n",
       "Marginal Adhesion               0\n",
       "Single Epithelial Cell Size     0\n",
       "Bare Nuclei                    16\n",
       "Bland Chromatin                 0\n",
       "Normal Nucleoli                 0\n",
       "Mitoses                         0\n",
       "Class                           0\n",
       "dtype: int64"
      ]
     },
     "execution_count": 337,
     "metadata": {},
     "output_type": "execute_result"
    }
   ],
   "source": [
    "df.isna().sum()"
   ]
  },
  {
   "cell_type": "code",
   "execution_count": 338,
   "metadata": {},
   "outputs": [],
   "source": [
    "df.dropna(inplace=True)"
   ]
  },
  {
   "cell_type": "code",
   "execution_count": 339,
   "metadata": {},
   "outputs": [
    {
     "data": {
      "text/plain": [
       "(682, 10)"
      ]
     },
     "execution_count": 339,
     "metadata": {},
     "output_type": "execute_result"
    }
   ],
   "source": [
    "df.shape"
   ]
  },
  {
   "cell_type": "code",
   "execution_count": 340,
   "metadata": {},
   "outputs": [
    {
     "data": {
      "text/plain": [
       "clumpThickness                 0\n",
       "Uniformity of Cell Size        0\n",
       "Uniformity of Cell Shape       0\n",
       "Marginal Adhesion              0\n",
       "Single Epithelial Cell Size    0\n",
       "Bare Nuclei                    0\n",
       "Bland Chromatin                0\n",
       "Normal Nucleoli                0\n",
       "Mitoses                        0\n",
       "Class                          0\n",
       "dtype: int64"
      ]
     },
     "execution_count": 340,
     "metadata": {},
     "output_type": "execute_result"
    }
   ],
   "source": [
    "df.isna().sum()"
   ]
  },
  {
   "cell_type": "code",
   "execution_count": 341,
   "metadata": {},
   "outputs": [
    {
     "name": "stdout",
     "output_type": "stream",
     "text": [
      "<class 'pandas.core.frame.DataFrame'>\n",
      "Int64Index: 682 entries, 0 to 697\n",
      "Data columns (total 10 columns):\n",
      " #   Column                       Non-Null Count  Dtype \n",
      "---  ------                       --------------  ----- \n",
      " 0   clumpThickness               682 non-null    int64 \n",
      " 1   Uniformity of Cell Size      682 non-null    int64 \n",
      " 2   Uniformity of Cell Shape     682 non-null    int64 \n",
      " 3   Marginal Adhesion            682 non-null    int64 \n",
      " 4   Single Epithelial Cell Size  682 non-null    int64 \n",
      " 5   Bare Nuclei                  682 non-null    object\n",
      " 6   Bland Chromatin              682 non-null    int64 \n",
      " 7   Normal Nucleoli              682 non-null    int64 \n",
      " 8   Mitoses                      682 non-null    int64 \n",
      " 9   Class                        682 non-null    int64 \n",
      "dtypes: int64(9), object(1)\n",
      "memory usage: 58.6+ KB\n"
     ]
    }
   ],
   "source": [
    "df.info()"
   ]
  },
  {
   "cell_type": "code",
   "execution_count": 342,
   "metadata": {},
   "outputs": [],
   "source": [
    "df['Bare Nuclei'] = df['Bare Nuclei'].astype('int64')"
   ]
  },
  {
   "cell_type": "code",
   "execution_count": 343,
   "metadata": {},
   "outputs": [
    {
     "name": "stdout",
     "output_type": "stream",
     "text": [
      "<class 'pandas.core.frame.DataFrame'>\n",
      "Int64Index: 682 entries, 0 to 697\n",
      "Data columns (total 10 columns):\n",
      " #   Column                       Non-Null Count  Dtype\n",
      "---  ------                       --------------  -----\n",
      " 0   clumpThickness               682 non-null    int64\n",
      " 1   Uniformity of Cell Size      682 non-null    int64\n",
      " 2   Uniformity of Cell Shape     682 non-null    int64\n",
      " 3   Marginal Adhesion            682 non-null    int64\n",
      " 4   Single Epithelial Cell Size  682 non-null    int64\n",
      " 5   Bare Nuclei                  682 non-null    int64\n",
      " 6   Bland Chromatin              682 non-null    int64\n",
      " 7   Normal Nucleoli              682 non-null    int64\n",
      " 8   Mitoses                      682 non-null    int64\n",
      " 9   Class                        682 non-null    int64\n",
      "dtypes: int64(10)\n",
      "memory usage: 58.6 KB\n"
     ]
    }
   ],
   "source": [
    "df.info()"
   ]
  },
  {
   "cell_type": "code",
   "execution_count": 419,
   "metadata": {},
   "outputs": [],
   "source": [
    "from sklearn.model_selection import train_test_split , cross_val_score ,GridSearchCV\n",
    "from sklearn import metrics\n",
    "import warnings\n",
    "warnings.filterwarnings('ignore')"
   ]
  },
  {
   "cell_type": "code",
   "execution_count": null,
   "metadata": {},
   "outputs": [],
   "source": []
  },
  {
   "cell_type": "code",
   "execution_count": 409,
   "metadata": {},
   "outputs": [],
   "source": [
    "models = []\n",
    "\n",
    "models.append((\"KNN\",KNeighborsClassifier(n_neighbors=13)))"
   ]
  },
  {
   "cell_type": "code",
   "execution_count": 410,
   "metadata": {},
   "outputs": [],
   "source": [
    "def eval_metrics(target,prob,threshold):\n",
    "        \"\"\" target =y_yest,prob=logistic.predict(X_test),Threshold =Cutoff Threshold \"\"\"\n",
    "        data=pd.DataFrame()\n",
    "        data['pred_proba'] = pd.Series(prob)\n",
    "        data['pred'] = data['pred_proba'].map(lambda x: 1.0 if x > threshold else 0.0)\n",
    "        accuracy=metrics.accuracy_score(target,data['pred'])\n",
    "        precision= metrics.precision_score(target,data['pred'])\n",
    "        recall= metrics.recall_score(target,data['pred'])\n",
    "        f1_score = metrics.f1_score(target,data['pred'])\n",
    "        roc_auc = metrics.roc_auc_score(target,data['pred'])\n",
    "        return(accuracy,precision,recall,f1_score,roc_auc)\n"
   ]
  },
  {
   "cell_type": "code",
   "execution_count": 428,
   "metadata": {},
   "outputs": [],
   "source": [
    "param_grid_knn = { 'algorithm' : ['ball_tree', 'kd_tree', 'brute'],\n",
    "               'leaf_size' : [18,20,25,27,30,32,34],\n",
    "               'n_neighbors' : [3,5,7,9,10,11,12,13]\n",
    "              }"
   ]
  },
  {
   "cell_type": "code",
   "execution_count": 436,
   "metadata": {},
   "outputs": [],
   "source": [
    "def Hyper_parameter_tuning(name,model,X_train,y_train):\n",
    "    grid_results = GridSearchCV(model, param_grid=param_grid_knn,scoring='f1', cv = 3)\n",
    "    grid_results.fit(X_train, y_train)\n",
    "    print(\"Best Score\",grid_results.best_score_)\n",
    "    print(\"Best parameters\",grid_results.best_params_)"
   ]
  },
  {
   "cell_type": "code",
   "execution_count": 424,
   "metadata": {},
   "outputs": [],
   "source": [
    "def Model_Building_Phase(dataset,target_column,models_list,th,gridsearch=False,cv_validation=False):# defining the fuction to AUtomate modle Building\n",
    "     #Independent and Dependent Variabls\n",
    "    X=df.drop([target_column],axis=1)\n",
    "    Y=df[[target_column]]\n",
    "    \n",
    "    #Test and train split\n",
    "    X_train,X_test,y_train,y_test = train_test_split(X,Y,test_size=0.2,random_state=1)\n",
    "   \n",
    "   \n",
    "    # fitting Model\n",
    "    col_names = ['Algorithm', 'Accuracy','Precison','Recall','f1-score','AUC-ROC']\n",
    "    results_final = pd.DataFrame(columns=col_names)\n",
    "    i = 0\n",
    "    for name,model in models_list:\n",
    "        print(\"model\",name)\n",
    "        \n",
    "        model.fit(X_train, y_train)\n",
    "        # predictions on testing data \n",
    "        pred_test = model.predict_proba(X_test)[:,1]\n",
    "       \n",
    "        #Evaluation Metrics for the model built\n",
    "        accuracy,precision,recall,f1_score,roc_auc=eval_metrics(y_test,pred_test,th)\n",
    "        results_final.loc[i]=[name,accuracy,precision,recall,f1_score,roc_auc]\n",
    "        i += 1\n",
    "        #Plotting Feature importance \n",
    "#         try:\n",
    "#             feature_importance_plot(X_train.columns,model.feature_importances_,name)\n",
    "#         except:\n",
    "#             print(name +\" has no Feature importance\")\n",
    "#             continue\n",
    "    \n",
    "        # Grid Search \n",
    "        if gridsearch:\n",
    "            Hyper_parameter_tuning(name,model,X_train,y_train)\n",
    "            \n",
    "        \n",
    "               \n",
    "        #Applying k-Fold Cross Validation           \n",
    "        if cv_validation:\n",
    "            score_cv = cross_val_score(estimator = model, X = X_train, y = y_train, cv = 10,scoring='f1')\n",
    "            print(\" K fold Cross validation scores\",score_cv)\n",
    "            print(\"Mean of K fold cross validation \",score_cv.mean())\n",
    "            mean_cv=score_cv.mean()\n",
    "           \n",
    "       \n",
    "   \n",
    "    return(results_final)\n",
    "        "
   ]
  },
  {
   "cell_type": "code",
   "execution_count": 425,
   "metadata": {},
   "outputs": [
    {
     "name": "stdout",
     "output_type": "stream",
     "text": [
      "model KNN\n",
      "K= 3\n",
      "  Algorithm  Accuracy  Precison  Recall  f1-score   AUC-ROC\n",
      "0       KNN  0.941606  0.954545   0.875  0.913043  0.926264\n",
      "==================================================\n",
      "model KNN\n",
      "K= 5\n",
      "  Algorithm  Accuracy  Precison  Recall  f1-score   AUC-ROC\n",
      "0       KNN  0.941606  0.954545   0.875  0.913043  0.926264\n",
      "==================================================\n",
      "model KNN\n",
      "K= 7\n",
      "  Algorithm  Accuracy  Precison    Recall  f1-score   AUC-ROC\n",
      "0       KNN  0.948905  0.955556  0.895833  0.924731  0.936681\n",
      "==================================================\n",
      "model KNN\n",
      "K= 9\n",
      "  Algorithm  Accuracy  Precison    Recall  f1-score   AUC-ROC\n",
      "0       KNN  0.956204  0.956522  0.916667   0.93617  0.947097\n",
      "==================================================\n",
      "model KNN\n",
      "K= 11\n",
      "  Algorithm  Accuracy  Precison    Recall  f1-score   AUC-ROC\n",
      "0       KNN  0.956204  0.956522  0.916667   0.93617  0.947097\n",
      "==================================================\n",
      "model KNN\n",
      "K= 13\n",
      "  Algorithm  Accuracy  Precison    Recall  f1-score   AUC-ROC\n",
      "0       KNN  0.948905  0.955556  0.895833  0.924731  0.936681\n",
      "==================================================\n"
     ]
    }
   ],
   "source": [
    "# Bulid the model for k 3,15\n",
    "for k in range(3,15,2):\n",
    "    models=[]\n",
    "    models.append((\"KNN\",KNeighborsClassifier(n_neighbors=k)))\n",
    "    results = Model_Building_Phase(df,'Class',models,th=0.5,gridsearch=False,cv_validation=False)\n",
    "    print(\"K=\",k)\n",
    "    print(results)\n",
    "    print('='*50)"
   ]
  },
  {
   "cell_type": "code",
   "execution_count": 440,
   "metadata": {},
   "outputs": [],
   "source": [
    "def Model_Building_Phase1(dataset,target_column,models_list,th,gridsearch=False,cv_validation=False):# defining the fuction to AUtomate modle Building\n",
    "     #Independent and Dependent Variabls\n",
    "    X=dataset.drop([target_column],axis=1)\n",
    "    Y=dataset[[target_column]]\n",
    "    \n",
    "    #Test and train split\n",
    "    X_train,X_test,y_train,y_test = train_test_split(X,Y,test_size=0.2,random_state=1)\n",
    "   \n",
    "   \n",
    "    # fitting Model\n",
    "    col_names = ['Algorithm', 'Accuracy','Precison','Recall','f1-score','AUC-ROC']\n",
    "    results_final = pd.DataFrame(columns=col_names)\n",
    "    i = 0\n",
    "    for name,model in models_list:\n",
    "        print(\"model\",name)\n",
    "        \n",
    "        model.fit(X_train, y_train)\n",
    "        # predictions on testing data \n",
    "        pred_test = model.predict_proba(X_test)[:,1]\n",
    "       \n",
    "        #Evaluation Metrics for the model built\n",
    "        accuracy,precision,recall,f1_score,roc_auc=eval_metrics(y_test,pred_test,th)\n",
    "        results_final.loc[i]=[name,accuracy,precision,recall,f1_score,roc_auc]\n",
    "        i += 1\n",
    "        #Plotting Feature importance \n",
    "#         try:\n",
    "#             feature_importance_plot(X_train.columns,model.feature_importances_,name)\n",
    "#         except:\n",
    "#             print(name +\" has no Feature importance\")\n",
    "#             continue\n",
    "    \n",
    "        # Grid Search \n",
    "        if gridsearch:\n",
    "            Hyper_parameter_tuning(name,model,X_train,y_train)\n",
    "            \n",
    "        \n",
    "               \n",
    "        #Applying k-Fold Cross Validation           \n",
    "        if cv_validation:\n",
    "            score_cv = cross_val_score(estimator = model, X = X_train, y = y_train, cv = 10,scoring='f1')\n",
    "            print(\" K fold Cross validation scores\",score_cv)\n",
    "            print(\"Mean of K fold cross validation \",score_cv.mean())\n",
    "            mean_cv=score_cv.mean()\n",
    "           \n",
    "       \n",
    "   \n",
    "    return(results_final,mean_cv)\n",
    "        "
   ]
  },
  {
   "cell_type": "code",
   "execution_count": 447,
   "metadata": {},
   "outputs": [
    {
     "name": "stdout",
     "output_type": "stream",
     "text": [
      "model KNN\n",
      " K fold Cross validation scores [0.97435897 0.97435897 0.94736842 0.92682927 0.94736842 1.\n",
      " 0.97297297 1.         0.92682927 0.94444444]\n",
      "Mean of K fold cross validation  0.9614530744825995\n",
      "model KNN\n",
      " K fold Cross validation scores [0.97435897 0.97297297 0.97435897 0.95       0.94736842 1.\n",
      " 0.97297297 1.         0.95       0.94444444]\n",
      "Mean of K fold cross validation  0.9686476760160971\n",
      "model KNN\n",
      " K fold Cross validation scores [0.97435897 0.97297297 0.97435897 0.92682927 0.88888889 1.\n",
      " 0.97297297 1.         0.95       0.94444444]\n",
      "Mean of K fold cross validation  0.9604826496289911\n",
      "model KNN\n",
      " K fold Cross validation scores [0.97435897 0.97297297 0.97435897 0.92682927 0.88888889 1.\n",
      " 0.94444444 1.         0.95       0.94444444]\n",
      "Mean of K fold cross validation  0.9576297967761382\n",
      "model KNN\n",
      " K fold Cross validation scores [0.97435897 0.97297297 0.97435897 0.92682927 0.88888889 1.\n",
      " 0.94444444 1.         0.95       0.94444444]\n",
      "Mean of K fold cross validation  0.9576297967761382\n",
      "model KNN\n",
      " K fold Cross validation scores [0.97435897 0.97297297 0.97435897 0.92682927 0.88888889 1.\n",
      " 0.94444444 1.         0.95       0.94444444]\n",
      "Mean of K fold cross validation  0.9576297967761382\n",
      "model KNN\n",
      " K fold Cross validation scores [0.97435897 0.97297297 0.97435897 0.95       0.88888889 1.\n",
      " 0.94444444 1.         0.95       0.94444444]\n",
      "Mean of K fold cross validation  0.95994686994687\n",
      "model KNN\n",
      " K fold Cross validation scores [0.97435897 0.97297297 0.94736842 0.95       0.88888889 1.\n",
      " 0.94444444 1.         0.95       0.94444444]\n",
      "Mean of K fold cross validation  0.9572478146162355\n",
      "model KNN\n",
      " K fold Cross validation scores [0.97435897 0.97297297 0.94736842 0.95       0.88888889 1.\n",
      " 0.94444444 1.         0.95       0.94444444]\n",
      "Mean of K fold cross validation  0.9572478146162355\n"
     ]
    }
   ],
   "source": [
    "# Bulid the model from 3,40 step 2\n",
    "\n",
    "total_scores = []\n",
    "for k in range(3,20,2):\n",
    "    models=[]\n",
    "    models.append((\"KNN\",KNeighborsClassifier(n_neighbors=k)))\n",
    "    results,score = Model_Building_Phase1(df,'Class',models,th=0.5,gridsearch=False,cv_validation=True)\n",
    "    #print(\"K=\",k)\n",
    "    #print(results, score)\n",
    "    total_scores.append(score)\n",
    "    #print('='*50)"
   ]
  },
  {
   "cell_type": "code",
   "execution_count": 448,
   "metadata": {},
   "outputs": [
    {
     "data": {
      "text/plain": [
       "[0.9614530744825995,\n",
       " 0.9686476760160971,\n",
       " 0.9604826496289911,\n",
       " 0.9576297967761382,\n",
       " 0.9576297967761382,\n",
       " 0.9576297967761382,\n",
       " 0.95994686994687,\n",
       " 0.9572478146162355,\n",
       " 0.9572478146162355]"
      ]
     },
     "execution_count": 448,
     "metadata": {},
     "output_type": "execute_result"
    }
   ],
   "source": [
    "total_scores"
   ]
  },
  {
   "cell_type": "code",
   "execution_count": 449,
   "metadata": {},
   "outputs": [
    {
     "data": {
      "text/plain": [
       "<AxesSubplot:>"
      ]
     },
     "execution_count": 449,
     "metadata": {},
     "output_type": "execute_result"
    },
    {
     "data": {
      "image/png": "[encoded data removed]",
      "text/plain": [
       "<Figure size 432x288 with 1 Axes>"
      ]
     },
     "metadata": {
      "needs_background": "light"
     },
     "output_type": "display_data"
    }
   ],
   "source": [
    "# Plot the line plot at different parameter\n",
    "sns.lineplot(x=range(3,20,2), y=total_scores,color='blue', marker='o')"
   ]
  },
  {
   "cell_type": "code",
   "execution_count": 451,
   "metadata": {},
   "outputs": [
    {
     "name": "stdout",
     "output_type": "stream",
     "text": [
      "model KNN\n",
      "Best Score 0.9631978908188586\n",
      "Best parameters {'algorithm': 'kd_tree', 'leaf_size': 18, 'n_neighbors': 3}\n",
      " K fold Cross validation scores [0.97435897 0.97435897 0.94736842 0.92682927 0.94736842 1.\n",
      " 0.97297297 1.         0.92682927 0.94444444]\n",
      "Mean of K fold cross validation  0.9614530744825995\n",
      "model KNN\n",
      "Best Score 0.9631978908188586\n",
      "Best parameters {'algorithm': 'kd_tree', 'leaf_size': 18, 'n_neighbors': 3}\n",
      " K fold Cross validation scores [0.97435897 0.97297297 0.97435897 0.95       0.94736842 1.\n",
      " 0.97297297 1.         0.95       0.94444444]\n",
      "Mean of K fold cross validation  0.9686476760160971\n",
      "model KNN\n",
      "Best Score 0.9631978908188586\n",
      "Best parameters {'algorithm': 'kd_tree', 'leaf_size': 18, 'n_neighbors': 3}\n",
      " K fold Cross validation scores [0.97435897 0.97297297 0.97435897 0.92682927 0.88888889 1.\n",
      " 0.97297297 1.         0.95       0.94444444]\n",
      "Mean of K fold cross validation  0.9604826496289911\n",
      "model KNN\n",
      "Best Score 0.9631978908188586\n",
      "Best parameters {'algorithm': 'kd_tree', 'leaf_size': 18, 'n_neighbors': 3}\n",
      " K fold Cross validation scores [0.97435897 0.97297297 0.97435897 0.92682927 0.88888889 1.\n",
      " 0.94444444 1.         0.95       0.94444444]\n",
      "Mean of K fold cross validation  0.9576297967761382\n",
      "model KNN\n",
      "Best Score 0.9631978908188586\n",
      "Best parameters {'algorithm': 'kd_tree', 'leaf_size': 18, 'n_neighbors': 3}\n",
      " K fold Cross validation scores [0.97435897 0.97297297 0.97435897 0.92682927 0.88888889 1.\n",
      " 0.94444444 1.         0.95       0.94444444]\n",
      "Mean of K fold cross validation  0.9576297967761382\n",
      "model KNN\n",
      "Best Score 0.9631978908188586\n",
      "Best parameters {'algorithm': 'kd_tree', 'leaf_size': 18, 'n_neighbors': 3}\n",
      " K fold Cross validation scores [0.97435897 0.97297297 0.97435897 0.92682927 0.88888889 1.\n",
      " 0.94444444 1.         0.95       0.94444444]\n",
      "Mean of K fold cross validation  0.9576297967761382\n",
      "model KNN\n",
      "Best Score 0.9631978908188586\n",
      "Best parameters {'algorithm': 'kd_tree', 'leaf_size': 18, 'n_neighbors': 3}\n",
      " K fold Cross validation scores [0.97435897 0.97297297 0.97435897 0.95       0.88888889 1.\n",
      " 0.94444444 1.         0.95       0.94444444]\n",
      "Mean of K fold cross validation  0.95994686994687\n",
      "model KNN\n",
      "Best Score 0.9631978908188586\n",
      "Best parameters {'algorithm': 'kd_tree', 'leaf_size': 18, 'n_neighbors': 3}\n",
      " K fold Cross validation scores [0.97435897 0.97297297 0.94736842 0.95       0.88888889 1.\n",
      " 0.94444444 1.         0.95       0.94444444]\n",
      "Mean of K fold cross validation  0.9572478146162355\n",
      "model KNN\n",
      "Best Score 0.9631978908188586\n",
      "Best parameters {'algorithm': 'kd_tree', 'leaf_size': 18, 'n_neighbors': 3}\n",
      " K fold Cross validation scores [0.97435897 0.97297297 0.94736842 0.95       0.88888889 1.\n",
      " 0.94444444 1.         0.95       0.94444444]\n",
      "Mean of K fold cross validation  0.9572478146162355\n"
     ]
    }
   ],
   "source": [
    "# Bulid the model from 3,40 step 2\n",
    "\n",
    "total_scores2 = []\n",
    "for k in range(3,20,2):\n",
    "    models=[]\n",
    "    models.append((\"KNN\",KNeighborsClassifier(n_neighbors=k)))\n",
    "    results,score = Model_Building_Phase1(df,'Class',models,th=0.5,gridsearch=True,cv_validation=True)\n",
    "    #print(\"K=\",k)\n",
    "    #print(results, score)\n",
    "    total_scores2.append(score)\n",
    "    #print('='*50)"
   ]
  },
  {
   "cell_type": "code",
   "execution_count": null,
   "metadata": {},
   "outputs": [],
   "source": []
  },
  {
   "cell_type": "code",
   "execution_count": 453,
   "metadata": {},
   "outputs": [],
   "source": [
    "knn3 = KNeighborsClassifier(n_neighbors=3,algorithm='kd_tree',leaf_size=18)\n",
    "knn5 = KNeighborsClassifier(n_neighbors=5)"
   ]
  },
  {
   "cell_type": "code",
   "execution_count": 455,
   "metadata": {},
   "outputs": [
    {
     "data": {
      "text/plain": [
       "KNeighborsClassifier()"
      ]
     },
     "execution_count": 455,
     "metadata": {},
     "output_type": "execute_result"
    }
   ],
   "source": [
    "knn3.fit(X_train,y_train)\n",
    "knn5.fit(X_train,y_train)"
   ]
  },
  {
   "cell_type": "code",
   "execution_count": 456,
   "metadata": {},
   "outputs": [
    {
     "name": "stdout",
     "output_type": "stream",
     "text": [
      "0.9416058394160584\n",
      "0.9416058394160584\n"
     ]
    }
   ],
   "source": [
    "print(knn3.score(X_test,y_test))\n",
    "print(knn5.score(X_test,y_test))"
   ]
  },
  {
   "cell_type": "code",
   "execution_count": 461,
   "metadata": {},
   "outputs": [],
   "source": [
    "corssVal3 = cross_val_score(estimator=knn3,X=X_train,y=y_train,cv=10,scoring='f1')"
   ]
  },
  {
   "cell_type": "code",
   "execution_count": 462,
   "metadata": {},
   "outputs": [
    {
     "data": {
      "text/plain": [
       "0.9614530744825995"
      ]
     },
     "execution_count": 462,
     "metadata": {},
     "output_type": "execute_result"
    }
   ],
   "source": [
    "corssVal3.mean()"
   ]
  },
  {
   "cell_type": "code",
   "execution_count": 463,
   "metadata": {},
   "outputs": [],
   "source": [
    "corssVal5 = cross_val_score(estimator=knn5,X=X_train,y=y_train,cv=10,scoring='f1')"
   ]
  },
  {
   "cell_type": "code",
   "execution_count": 464,
   "metadata": {},
   "outputs": [
    {
     "data": {
      "text/plain": [
       "0.9686476760160971"
      ]
     },
     "execution_count": 464,
     "metadata": {},
     "output_type": "execute_result"
    }
   ],
   "source": [
    "corssVal5.mean()"
   ]
  },
  {
   "cell_type": "code",
   "execution_count": 465,
   "metadata": {},
   "outputs": [
    {
     "name": "stdout",
     "output_type": "stream",
     "text": [
      "0.9416058394160584\n",
      "0.9686476760160971\n"
     ]
    }
   ],
   "source": [
    "knn5ht = KNeighborsClassifier(n_neighbors=5,algorithm='kd_tree',leaf_size=18)\n",
    "knn5ht.fit(X_train,y_train)\n",
    "print(knn5ht.score(X_test,y_test))\n",
    "corssVal5 = cross_val_score(estimator=knn5ht,X=X_train,y=y_train,cv=10,scoring='f1')\n",
    "print(corssVal5.mean())"
   ]
  },
  {
   "cell_type": "code",
   "execution_count": null,
   "metadata": {},
   "outputs": [],
   "source": []
  },
  {
   "cell_type": "code",
   "execution_count": null,
   "metadata": {},
   "outputs": [],
   "source": []
  },
  {
   "cell_type": "code",
   "execution_count": null,
   "metadata": {},
   "outputs": [],
   "source": []
  }
 ],
 "metadata": {
  "kernelspec": {
   "display_name": "Python 3",
   "language": "python",
   "name": "python3"
  },
  "language_info": {
   "codemirror_mode": {
    "name": "ipython",
    "version": 3
   },
   "file_extension": ".py",
   "mimetype": "text/x-python",
   "name": "python",
   "nbconvert_exporter": "python",
   "pygments_lexer": "ipython3",
   "version": "3.8.8"
  }
 },
 "nbformat": 4,
 "nbformat_minor": 4
}
